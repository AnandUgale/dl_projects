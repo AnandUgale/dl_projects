{
  "nbformat": 4,
  "nbformat_minor": 0,
  "metadata": {
    "kernelspec": {
      "name": "python3",
      "display_name": "Python 3"
    },
    "language_info": {
      "codemirror_mode": {
        "name": "ipython",
        "version": 3
      },
      "file_extension": ".py",
      "mimetype": "text/x-python",
      "name": "python",
      "nbconvert_exporter": "python",
      "pygments_lexer": "ipython3",
      "version": "3.6.5"
    },
    "colab": {
      "name": "MNIST CNN.ipynb",
      "provenance": [],
      "toc_visible": true
    },
    "accelerator": "GPU"
  },
  "cells": [
    {
      "cell_type": "markdown",
      "metadata": {
        "id": "DVDlqKtabnmH",
        "colab_type": "text"
      },
      "source": [
        "# Playing Cards"
      ]
    },
    {
      "cell_type": "code",
      "metadata": {
        "id": "8r94MRzjcjz4",
        "colab_type": "code",
        "colab": {
          "base_uri": "https://localhost:8080/",
          "height": 124
        },
        "outputId": "fa3c8ee1-416d-4102-dbba-478ebd4b2226"
      },
      "source": [
        "# Mount Google Drive\n",
        "from google.colab import drive\n",
        "drive.mount('/content/drive')"
      ],
      "execution_count": 1,
      "outputs": [
        {
          "output_type": "stream",
          "text": [
            "Go to this URL in a browser: https://accounts.google.com/o/oauth2/auth?client_id=947318989803-6bn6qk8qdgf4n4g3pfee6491hc0brc4i.apps.googleusercontent.com&redirect_uri=urn%3aietf%3awg%3aoauth%3a2.0%3aoob&response_type=code&scope=email%20https%3a%2f%2fwww.googleapis.com%2fauth%2fdocs.test%20https%3a%2f%2fwww.googleapis.com%2fauth%2fdrive%20https%3a%2f%2fwww.googleapis.com%2fauth%2fdrive.photos.readonly%20https%3a%2f%2fwww.googleapis.com%2fauth%2fpeopleapi.readonly\n",
            "\n",
            "Enter your authorization code:\n",
            "··········\n",
            "Mounted at /content/drive\n"
          ],
          "name": "stdout"
        }
      ]
    },
    {
      "cell_type": "code",
      "metadata": {
        "id": "1JmGSkRObnmS",
        "colab_type": "code",
        "colab": {}
      },
      "source": [
        "# Copy Files from Google Drive\n",
        "import shutil"
      ],
      "execution_count": 0,
      "outputs": []
    },
    {
      "cell_type": "code",
      "metadata": {
        "id": "A9Vqf8mLbnmX",
        "colab_type": "code",
        "colab": {
          "base_uri": "https://localhost:8080/",
          "height": 34
        },
        "outputId": "153d0a9d-75b0-41ea-cc1a-14f6aa16c332"
      },
      "source": [
        "shutil.copy('/content/drive/My Drive/Playing Card.zip', '/content')"
      ],
      "execution_count": 3,
      "outputs": [
        {
          "output_type": "execute_result",
          "data": {
            "text/plain": [
              "'/content/Playing Card.zip'"
            ]
          },
          "metadata": {
            "tags": []
          },
          "execution_count": 3
        }
      ]
    },
    {
      "cell_type": "code",
      "metadata": {
        "id": "i7w67Uusbnmu",
        "colab_type": "code",
        "colab": {
          "base_uri": "https://localhost:8080/",
          "height": 52
        },
        "outputId": "4fb4e9cf-cb81-43e5-e412-e257ff37f731"
      },
      "source": [
        "# Unzip Files to Playing Cards Folder\n",
        "# importing required modules \n",
        "from zipfile import ZipFile \n",
        "\n",
        "# specifying the zip file name \n",
        "file_name = \"/content/Playing Card.zip\"\n",
        "\n",
        "# opening the zip file in READ mode \n",
        "with ZipFile(file_name, 'r') as zip: \n",
        "\t# printing all the contents of the zip file \n",
        "\t# zip.printdir() \n",
        "\n",
        "\t# extracting all the files \n",
        "\tprint('Extracting all the files now...') \n",
        "\tzip.extractall() \n",
        "\tprint('Done!') \n"
      ],
      "execution_count": 5,
      "outputs": [
        {
          "output_type": "stream",
          "text": [
            "Extracting all the files now...\n",
            "Done!\n"
          ],
          "name": "stdout"
        }
      ]
    },
    {
      "cell_type": "code",
      "metadata": {
        "id": "fEEWC8Z8bnmy",
        "colab_type": "code",
        "colab": {
          "base_uri": "https://localhost:8080/",
          "height": 34
        },
        "outputId": "2cf671d1-21d5-4b8c-fb91-302be31b44d8"
      },
      "source": [
        "cd /content/Playing Card"
      ],
      "execution_count": 6,
      "outputs": [
        {
          "output_type": "stream",
          "text": [
            "/content/Playing Card\n"
          ],
          "name": "stdout"
        }
      ]
    },
    {
      "cell_type": "code",
      "metadata": {
        "id": "dBQngJ2bbnm3",
        "colab_type": "code",
        "colab": {}
      },
      "source": [
        "# Import Necessary Packages\n",
        "import pandas as pd\n",
        "import matplotlib.pyplot as plt\n",
        "import os\n",
        "import cv2\n",
        "import numpy as np"
      ],
      "execution_count": 0,
      "outputs": []
    },
    {
      "cell_type": "code",
      "metadata": {
        "id": "JV9omeTcbnnm",
        "colab_type": "code",
        "colab": {
          "base_uri": "https://localhost:8080/",
          "height": 34
        },
        "outputId": "4bb41a78-9ca1-4981-ec38-5cbb39195fe5"
      },
      "source": [
        "# Import and Explore data\n",
        "path_train = os.path.join('/content/Playing Card/train')\n",
        "path_test = os.path.join('/content/Playing Card/test')\n",
        "print(path_train)"
      ],
      "execution_count": 8,
      "outputs": [
        {
          "output_type": "stream",
          "text": [
            "/content/Playing Card/train\n"
          ],
          "name": "stdout"
        }
      ]
    },
    {
      "cell_type": "code",
      "metadata": {
        "id": "dq6H9E-NfJ-T",
        "colab_type": "code",
        "colab": {
          "base_uri": "https://localhost:8080/",
          "height": 34
        },
        "outputId": "cdaaecea-1ddb-4853-f77e-f6eed30ff2d7"
      },
      "source": [
        "# Import csv files\n",
        "train = pd.read_csv('/content/Playing Card/train_labels.csv')\n",
        "test = pd.read_csv('/content/Playing Card/test_labels.csv')\n",
        "\n",
        "# Display shape\n",
        "train.shape, test.shape"
      ],
      "execution_count": 9,
      "outputs": [
        {
          "output_type": "execute_result",
          "data": {
            "text/plain": [
              "((527, 8), (143, 8))"
            ]
          },
          "metadata": {
            "tags": []
          },
          "execution_count": 9
        }
      ]
    },
    {
      "cell_type": "code",
      "metadata": {
        "id": "ezrlz8t9ftDp",
        "colab_type": "code",
        "colab": {
          "base_uri": "https://localhost:8080/",
          "height": 34
        },
        "outputId": "ba8682f0-cd79-4934-c791-2e02603b6cbc"
      },
      "source": [
        "# Number of classes\n",
        "train['class'].unique()"
      ],
      "execution_count": 10,
      "outputs": [
        {
          "output_type": "execute_result",
          "data": {
            "text/plain": [
              "array(['queen', 'ten', 'nine', 'king', 'jack', 'ace'], dtype=object)"
            ]
          },
          "metadata": {
            "tags": []
          },
          "execution_count": 10
        }
      ]
    },
    {
      "cell_type": "code",
      "metadata": {
        "id": "PjSjqy8R0L80",
        "colab_type": "code",
        "colab": {}
      },
      "source": [
        "# Importing Image module from PIL package  \n",
        "from PIL import Image  \n",
        "import PIL "
      ],
      "execution_count": 0,
      "outputs": []
    },
    {
      "cell_type": "code",
      "metadata": {
        "id": "q_cIDHSlf-tp",
        "colab_type": "code",
        "colab": {}
      },
      "source": [
        "#display crop image\n",
        "for i in range(train.shape[0]):\n",
        "  row = train.iloc[i]\n",
        "\n",
        "  # print(path_train)\n",
        "  img = cv2.imread(os.path.join(path_train, row['filename']))\n",
        "  # print(img.shape)\n",
        "  xmin = row['xmin']\n",
        "  xmax = row['xmax']\n",
        "  ymin = row['ymin']\n",
        "  ymax = row['ymax']\n",
        "  crop_img = img[ymin:ymax, xmin:xmax]\n",
        "\n",
        "  fig = plt.figure(figsize=(3, 6))\n",
        "\n",
        "  print(crop_img.shape)\n",
        "  plt.imshow(crop_img)\n",
        "  # # # plt.legend(labels=row['class'])\n",
        "  plt.show()\n",
        "\n",
        "  name = str(i) + \"-\" + row['class'] + \"-\" + row['filename']\n",
        "  my_path = '/content/train'\n",
        "  fig.savefig(os.path.join(my_path, name), dpi=fig.dpi)\n"
      ],
      "execution_count": 0,
      "outputs": []
    },
    {
      "cell_type": "code",
      "metadata": {
        "id": "q8B8kuW23rRE",
        "colab_type": "code",
        "colab": {
          "base_uri": "https://localhost:8080/",
          "height": 34
        },
        "outputId": "a5dbfa98-d1ec-4c13-e020-2124d90f42a3"
      },
      "source": [
        "train.shape[0]"
      ],
      "execution_count": 30,
      "outputs": [
        {
          "output_type": "execute_result",
          "data": {
            "text/plain": [
              "527"
            ]
          },
          "metadata": {
            "tags": []
          },
          "execution_count": 30
        }
      ]
    },
    {
      "cell_type": "code",
      "metadata": {
        "id": "RHOPa1X92VHp",
        "colab_type": "code",
        "colab": {}
      },
      "source": [
        "# Create new directory\n",
        "newFolder = \"/content/test\"\n",
        "\n",
        "if not os.path.exists(newFolder):\n",
        "  os.makedirs(newFolder)"
      ],
      "execution_count": 0,
      "outputs": []
    },
    {
      "cell_type": "code",
      "metadata": {
        "id": "dwGulotvgWiE",
        "colab_type": "code",
        "colab": {}
      },
      "source": [
        "# Save croped images\n",
        "from PIL import Image  \n",
        "import PIL "
      ],
      "execution_count": 0,
      "outputs": []
    },
    {
      "cell_type": "code",
      "metadata": {
        "id": "BSgIszhlkl5s",
        "colab_type": "code",
        "colab": {}
      },
      "source": [
        "#display crop image\n",
        "for i in range(test.shape[0]):\n",
        "  row = test.iloc[i]\n",
        "\n",
        "  # print(path_test)\n",
        "  img = cv2.imread(os.path.join(path_test, row['filename']))\n",
        "  # print(img.shape)\n",
        "  xmin = row['xmin']\n",
        "  xmax = row['xmax']\n",
        "  ymin = row['ymin']\n",
        "  ymax = row['ymax']\n",
        "  crop_img = img[ymin:ymax, xmin:xmax]\n",
        "\n",
        "  fig = plt.figure(figsize=(3, 6))\n",
        "\n",
        "  print(crop_img.shape)\n",
        "  plt.imshow(crop_img)\n",
        "  # # # plt.legend(labels=row['class'])\n",
        "  plt.show()\n",
        "\n",
        "  name = str(i) + \"-\" + row['class'] + \"-\" + row['filename']\n",
        "  my_path = '/content/test'\n",
        "  fig.savefig(os.path.join(my_path, name), dpi=fig.dpi)\n"
      ],
      "execution_count": 0,
      "outputs": []
    },
    {
      "cell_type": "code",
      "metadata": {
        "id": "LVDFfScW_9Vu",
        "colab_type": "code",
        "colab": {
          "base_uri": "https://localhost:8080/",
          "height": 34
        },
        "outputId": "1b6a7a0e-3b3e-454e-c77e-f5ea87bce2b8"
      },
      "source": [
        "cd .."
      ],
      "execution_count": 48,
      "outputs": [
        {
          "output_type": "stream",
          "text": [
            "/content\n"
          ],
          "name": "stdout"
        }
      ]
    },
    {
      "cell_type": "code",
      "metadata": {
        "id": "nm8Sa8E_-uZh",
        "colab_type": "code",
        "colab": {}
      },
      "source": [
        "# make a zip file\n",
        "# importing required modules \n",
        "from zipfile import ZipFile \n",
        "import os \n",
        "\n",
        "def get_all_file_paths(directory): \n",
        "\n",
        "\t# initializing empty file paths list \n",
        "\tfile_paths = [] \n",
        "\n",
        "\t# crawling through directory and subdirectories \n",
        "\tfor root, directories, files in os.walk(directory): \n",
        "\t\tfor filename in files: \n",
        "\t\t\t# join the two strings in order to form the full filepath. \n",
        "\t\t\tfilepath = os.path.join(root, filename) \n",
        "\t\t\tfile_paths.append(filepath) \n",
        "\n",
        "\t# returning all file paths \n",
        "\treturn file_paths\t\t \n",
        "\n",
        "def main(): \n",
        "\t# path to folder which needs to be zipped \n",
        "\tdirectory = '/content/train'\n",
        "\n",
        "\t# calling function to get all file paths in the directory \n",
        "\tfile_paths = get_all_file_paths(directory) \n",
        "\n",
        "\t# printing the list of all files to be zipped \n",
        "\tprint('Following files will be zipped:') \n",
        "\tfor file_name in file_paths: \n",
        "\t\tprint(file_name) \n",
        "\n",
        "\t# writing files to a zipfile \n",
        "\twith ZipFile('train.zip','w') as zip: \n",
        "\t\t# writing each file one by one \n",
        "\t\tfor file in file_paths: \n",
        "\t\t\tzip.write(file) \n",
        "\n",
        "\tprint('All files zipped successfully!')\t\t \n",
        "\n",
        "\n",
        "if __name__ == \"__main__\": \n",
        "\tmain() \n"
      ],
      "execution_count": 0,
      "outputs": []
    },
    {
      "cell_type": "code",
      "metadata": {
        "id": "TGQEsIbs__zW",
        "colab_type": "code",
        "colab": {}
      },
      "source": [
        "# make a zip file\n",
        "# importing required modules \n",
        "from zipfile import ZipFile \n",
        "import os \n",
        "\n",
        "def get_all_file_paths(directory): \n",
        "\n",
        "\t# initializing empty file paths list \n",
        "\tfile_paths = [] \n",
        "\n",
        "\t# crawling through directory and subdirectories \n",
        "\tfor root, directories, files in os.walk(directory): \n",
        "\t\tfor filename in files: \n",
        "\t\t\t# join the two strings in order to form the full filepath. \n",
        "\t\t\tfilepath = os.path.join(root, filename) \n",
        "\t\t\tfile_paths.append(filepath) \n",
        "\n",
        "\t# returning all file paths \n",
        "\treturn file_paths\t\t \n",
        "\n",
        "def main(): \n",
        "\t# path to folder which needs to be zipped \n",
        "\tdirectory = '/content/test'\n",
        "\n",
        "\t# calling function to get all file paths in the directory \n",
        "\tfile_paths = get_all_file_paths(directory) \n",
        "\n",
        "\t# printing the list of all files to be zipped \n",
        "\tprint('Following files will be zipped:') \n",
        "\tfor file_name in file_paths: \n",
        "\t\tprint(file_name) \n",
        "\n",
        "\t# writing files to a zipfile \n",
        "\twith ZipFile('test.zip','w') as zip: \n",
        "\t\t# writing each file one by one \n",
        "\t\tfor file in file_paths: \n",
        "\t\t\tzip.write(file) \n",
        "\n",
        "\tprint('All files zipped successfully!')\t\t \n",
        "\n",
        "\n",
        "if __name__ == \"__main__\": \n",
        "\tmain() "
      ],
      "execution_count": 0,
      "outputs": []
    },
    {
      "cell_type": "code",
      "metadata": {
        "id": "31WIg__LAOJa",
        "colab_type": "code",
        "colab": {}
      },
      "source": [
        ""
      ],
      "execution_count": 0,
      "outputs": []
    }
  ]
}