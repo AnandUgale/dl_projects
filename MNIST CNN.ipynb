{
  "nbformat": 4,
  "nbformat_minor": 0,
  "metadata": {
    "kernelspec": {
      "name": "python3",
      "display_name": "Python 3"
    },
    "language_info": {
      "codemirror_mode": {
        "name": "ipython",
        "version": 3
      },
      "file_extension": ".py",
      "mimetype": "text/x-python",
      "name": "python",
      "nbconvert_exporter": "python",
      "pygments_lexer": "ipython3",
      "version": "3.6.5"
    },
    "colab": {
      "name": "MNIST CNN.ipynb",
      "provenance": [],
      "toc_visible": true
    },
    "accelerator": "GPU"
  },
  "cells": [
    {
      "cell_type": "markdown",
      "metadata": {
        "id": "DVDlqKtabnmH",
        "colab_type": "text"
      },
      "source": [
        "# Playing Cards"
      ]
    },
    {
      "cell_type": "code",
      "metadata": {
        "id": "8r94MRzjcjz4",
        "colab_type": "code",
        "colab": {
          "base_uri": "https://localhost:8080/",
          "height": 124
        },
        "outputId": "f688f70f-591d-4133-9f2f-d13ad64f14b5"
      },
      "source": [
        "# Mount Google Drive\n",
        "from google.colab import drive\n",
        "drive.mount('/content/drive')"
      ],
      "execution_count": 1,
      "outputs": [
        {
          "output_type": "stream",
          "text": [
            "Go to this URL in a browser: https://accounts.google.com/o/oauth2/auth?client_id=947318989803-6bn6qk8qdgf4n4g3pfee6491hc0brc4i.apps.googleusercontent.com&redirect_uri=urn%3aietf%3awg%3aoauth%3a2.0%3aoob&response_type=code&scope=email%20https%3a%2f%2fwww.googleapis.com%2fauth%2fdocs.test%20https%3a%2f%2fwww.googleapis.com%2fauth%2fdrive%20https%3a%2f%2fwww.googleapis.com%2fauth%2fdrive.photos.readonly%20https%3a%2f%2fwww.googleapis.com%2fauth%2fpeopleapi.readonly\n",
            "\n",
            "Enter your authorization code:\n",
            "··········\n",
            "Mounted at /content/drive\n"
          ],
          "name": "stdout"
        }
      ]
    },
    {
      "cell_type": "code",
      "metadata": {
        "id": "1JmGSkRObnmS",
        "colab_type": "code",
        "colab": {}
      },
      "source": [
        "# Copy Files from Google Drive\n",
        "import shutil"
      ],
      "execution_count": 0,
      "outputs": []
    },
    {
      "cell_type": "code",
      "metadata": {
        "id": "A9Vqf8mLbnmX",
        "colab_type": "code",
        "colab": {
          "base_uri": "https://localhost:8080/",
          "height": 34
        },
        "outputId": "e6c8dd10-1320-4367-cce0-359b63b16e45"
      },
      "source": [
        "shutil.copy('/content/drive/My Drive/Playing Card.zip', '/content/')"
      ],
      "execution_count": 3,
      "outputs": [
        {
          "output_type": "execute_result",
          "data": {
            "text/plain": [
              "'/content/Playing Cards'"
            ]
          },
          "metadata": {
            "tags": []
          },
          "execution_count": 3
        }
      ]
    },
    {
      "cell_type": "code",
      "metadata": {
        "id": "i7w67Uusbnmu",
        "colab_type": "code",
        "colab": {
          "base_uri": "https://localhost:8080/",
          "height": 1000
        },
        "outputId": "903154ab-92e0-459d-bf3c-e7372fda09ce"
      },
      "source": [
        "# Unzip Files to Playing Cards Folder\n",
        "# importing required modules \n",
        "from zipfile import ZipFile \n",
        "\n",
        "# specifying the zip file name \n",
        "file_name = \"/content/Playing Cards\"\n",
        "\n",
        "# opening the zip file in READ mode \n",
        "with ZipFile(file_name, 'r') as zip: \n",
        "\t# printing all the contents of the zip file \n",
        "\tzip.printdir() \n",
        "\n",
        "\t# extracting all the files \n",
        "\tprint('Extracting all the files now...') \n",
        "\tzip.extractall() \n",
        "\tprint('Done!') \n"
      ],
      "execution_count": 4,
      "outputs": [
        {
          "output_type": "stream",
          "text": [
            "File Name                                             Modified             Size\n",
            "Playing Card/                                  2020-01-08 10:23:54            0\n",
            "Playing Card/test/                             2020-01-08 10:26:16            0\n",
            "Playing Card/test/cam_image2.jpg               2019-10-11 01:38:28       203917\n",
            "Playing Card/test/cam_image4.jpg               2019-10-11 01:38:28       245747\n",
            "Playing Card/test/cam_image45.jpg              2019-10-11 01:38:28       123637\n",
            "Playing Card/test/cam_image5.jpg               2019-10-11 01:38:28       194690\n",
            "Playing Card/test/cam_image6.jpg               2019-10-11 01:38:28       188820\n",
            "Playing Card/test/cam_image7.jpg               2019-10-11 01:38:28       251805\n",
            "Playing Card/test/cam_image8.jpg               2019-10-11 01:38:28       182831\n",
            "Playing Card/test/IMG_2383.JPG                 2019-10-11 01:38:20       112654\n",
            "Playing Card/test/IMG_2384.JPG                 2019-10-11 01:38:20       136363\n",
            "Playing Card/test/IMG_2387.JPG                 2019-10-11 01:38:22       126592\n",
            "Playing Card/test/IMG_2391.JPG                 2019-10-11 01:38:22       127054\n",
            "Playing Card/test/IMG_2395.JPG                 2019-10-11 01:38:22       132310\n",
            "Playing Card/test/IMG_2403.JPG                 2019-10-11 01:38:22       118221\n",
            "Playing Card/test/IMG_2432.JPG                 2019-10-11 01:38:24        46500\n",
            "Playing Card/test/IMG_2433.JPG                 2019-10-11 01:38:24        81522\n",
            "Playing Card/test/IMG_2435.JPG                 2019-10-11 01:38:24        51826\n",
            "Playing Card/test/IMG_2436.JPG                 2019-10-11 01:38:28        91420\n",
            "Playing Card/test/IMG_2440.JPG                 2019-10-11 01:38:28        75873\n",
            "Playing Card/test/IMG_2461.JPG                 2019-10-11 01:38:28        54164\n",
            "Playing Card/test/IMG_2463.JPG                 2019-10-11 01:38:28       133282\n",
            "Playing Card/test/IMG_2470.JPG                 2019-10-11 01:38:28        89570\n",
            "Playing Card/test/IMG_2476.JPG                 2019-10-11 01:38:28        83889\n",
            "Playing Card/test/IMG_2479.JPG                 2019-10-11 01:38:28        79241\n",
            "Playing Card/test/IMG_2482.JPG                 2019-10-11 01:38:28       103986\n",
            "Playing Card/test/IMG_2485.JPG                 2019-10-11 01:38:28        91232\n",
            "Playing Card/test/IMG_2510.JPG                 2019-10-11 01:38:28        76867\n",
            "Playing Card/test/IMG_2530.JPG                 2019-10-11 01:38:28        81919\n",
            "Playing Card/test/IMG_2531.JPG                 2019-10-11 01:38:28        89022\n",
            "Playing Card/test/IMG_2532.JPG                 2019-10-11 01:38:28        85249\n",
            "Playing Card/test/IMG_2539.JPG                 2019-10-11 01:38:28        94771\n",
            "Playing Card/test/IMG_2540.JPG                 2019-10-11 01:38:28        57143\n",
            "Playing Card/test/IMG_2544.JPG                 2019-10-11 01:38:28       112687\n",
            "Playing Card/test/IMG_2550.JPG                 2019-10-11 01:38:28        77690\n",
            "Playing Card/test/IMG_2551.JPG                 2019-10-11 01:38:28        93433\n",
            "Playing Card/test/IMG_2554.JPG                 2019-10-11 01:38:28        70918\n",
            "Playing Card/test/IMG_2555.JPG                 2019-10-11 01:38:28       106234\n",
            "Playing Card/test/IMG_2557.JPG                 2019-10-11 01:38:28        99788\n",
            "Playing Card/test/IMG_2560.JPG                 2019-10-11 01:38:28       128940\n",
            "Playing Card/test/IMG_2561.JPG                 2019-10-11 01:38:28       119782\n",
            "Playing Card/test/IMG_2564.JPG                 2019-10-11 01:38:28        98869\n",
            "Playing Card/test/IMG_2568.JPG                 2019-10-11 01:38:28        77697\n",
            "Playing Card/test/IMG_2571.JPG                 2019-10-11 01:38:28        78365\n",
            "Playing Card/test/IMG_2573.JPG                 2019-10-11 01:38:28        78583\n",
            "Playing Card/test/IMG_2580.JPG                 2019-10-11 01:38:28        65002\n",
            "Playing Card/test/IMG_2583.JPG                 2019-10-11 01:38:28       112993\n",
            "Playing Card/test/IMG_2585.JPG                 2019-10-11 01:38:28       115489\n",
            "Playing Card/test/IMG_2591.JPG                 2019-10-11 01:38:28       125379\n",
            "Playing Card/test/IMG_2592.JPG                 2019-10-11 01:38:28        53816\n",
            "Playing Card/test/IMG_2594.JPG                 2019-10-11 01:38:28        59705\n",
            "Playing Card/test/IMG_2595.JPG                 2019-10-11 01:38:28        40135\n",
            "Playing Card/test/IMG_2598.JPG                 2019-10-11 01:38:28        32002\n",
            "Playing Card/test/IMG_2600.JPG                 2019-10-11 01:38:28        60249\n",
            "Playing Card/test/IMG_2604.JPG                 2019-10-11 01:38:28        67560\n",
            "Playing Card/test/IMG_2634.JPG                 2019-10-11 01:38:28        85526\n",
            "Playing Card/test/IMG_2636.JPG                 2019-10-11 01:38:28       138016\n",
            "Playing Card/test/IMG_2639.JPG                 2019-10-11 01:38:28       127104\n",
            "Playing Card/test/IMG_2640.JPG                 2019-10-11 01:38:28       109221\n",
            "Playing Card/test/IMG_2647.JPG                 2019-10-11 01:38:28        69115\n",
            "Playing Card/test/IMG_2651.JPG                 2019-10-11 01:38:28       110222\n",
            "Playing Card/test/IMG_2654.JPG                 2019-10-11 01:38:28        89357\n",
            "Playing Card/test/IMG_2656.JPG                 2019-10-11 01:38:28       126329\n",
            "Playing Card/test/IMG_2662.JPG                 2019-10-11 01:38:28       101201\n",
            "Playing Card/test/IMG_2670.JPG                 2019-10-11 01:38:28        89934\n",
            "Playing Card/test/IMG_2675.JPG                 2019-10-11 01:38:28        86627\n",
            "Playing Card/test/IMG_2677.JPG                 2019-10-11 01:38:28        84675\n",
            "Playing Card/test/IMG_2678.JPG                 2019-10-11 01:38:28       100071\n",
            "Playing Card/test/IMG_2686.JPG                 2019-10-11 01:38:28       100492\n",
            "Playing Card/test_labels.csv                   2019-10-11 01:38:28         6154\n",
            "Playing Card/train/                            2020-01-08 10:25:26            0\n",
            "Playing Card/train/cam_image1.jpg              2019-10-11 01:38:44        41962\n",
            "Playing Card/train/cam_image10.jpg             2019-10-11 01:38:44       215988\n",
            "Playing Card/train/cam_image11.jpg             2019-10-11 01:38:44       252714\n",
            "Playing Card/train/cam_image12.jpg             2019-10-11 01:38:44       254553\n",
            "Playing Card/train/cam_image13.jpg             2019-10-11 01:38:44       247141\n",
            "Playing Card/train/cam_image14.jpg             2019-10-11 01:38:44       263744\n",
            "Playing Card/train/cam_image15.jpg             2019-10-11 01:38:44       233188\n",
            "Playing Card/train/cam_image16.jpg             2019-10-11 01:38:44       243532\n",
            "Playing Card/train/cam_image17.jpg             2019-10-11 01:38:44       181041\n",
            "Playing Card/train/cam_image18.jpg             2019-10-11 01:38:44       186237\n",
            "Playing Card/train/cam_image19.jpg             2019-10-11 01:38:44       247495\n",
            "Playing Card/train/cam_image20.jpg             2019-10-11 01:38:44       243555\n",
            "Playing Card/train/cam_image21.jpg             2019-10-11 01:38:44       248308\n",
            "Playing Card/train/cam_image22.jpg             2019-10-11 01:38:44       256246\n",
            "Playing Card/train/cam_image23.jpg             2019-10-11 01:38:44       203362\n",
            "Playing Card/train/cam_image24.jpg             2019-10-11 01:38:44       243605\n",
            "Playing Card/train/cam_image25.jpg             2019-10-11 01:38:44       224301\n",
            "Playing Card/train/cam_image26.jpg             2019-10-11 01:38:44       264640\n",
            "Playing Card/train/cam_image27.jpg             2019-10-11 01:38:44       250710\n",
            "Playing Card/train/cam_image28.jpg             2019-10-11 01:38:44       235339\n",
            "Playing Card/train/cam_image29.jpg             2019-10-11 01:38:44       257162\n",
            "Playing Card/train/cam_image3.jpg              2019-10-11 01:38:44       202997\n",
            "Playing Card/train/cam_image30.jpg             2019-10-11 01:38:44       232113\n",
            "Playing Card/train/cam_image31.jpg             2019-10-11 01:38:44       233153\n",
            "Playing Card/train/cam_image32.jpg             2019-10-11 01:38:44       198005\n",
            "Playing Card/train/cam_image33.jpg             2019-10-11 01:38:44       223097\n",
            "Playing Card/train/cam_image34.jpg             2019-10-11 01:38:44       259662\n",
            "Playing Card/train/cam_image35.jpg             2019-10-11 01:38:44       193344\n",
            "Playing Card/train/cam_image36.jpg             2019-10-11 01:38:44       192341\n",
            "Playing Card/train/cam_image37.jpg             2019-10-11 01:38:44       185417\n",
            "Playing Card/train/cam_image38.jpg             2019-10-11 01:38:44       203075\n",
            "Playing Card/train/cam_image39.jpg             2019-10-11 01:38:44       220251\n",
            "Playing Card/train/cam_image40.jpg             2019-10-11 01:38:44       190858\n",
            "Playing Card/train/cam_image41.jpg             2019-10-11 01:38:44       157542\n",
            "Playing Card/train/cam_image42.jpg             2019-10-11 01:38:44       174322\n",
            "Playing Card/train/cam_image43.jpg             2019-10-11 01:38:44       139056\n",
            "Playing Card/train/cam_image44.jpg             2019-10-11 01:38:44       129117\n",
            "Playing Card/train/cam_image46.jpg             2019-10-11 01:38:44       119055\n",
            "Playing Card/train/cam_image47.jpg             2019-10-11 01:38:44       124654\n",
            "Playing Card/train/cam_image48.jpg             2019-10-11 01:38:44       109769\n",
            "Playing Card/train/cam_image50.jpg             2019-10-11 01:38:44       126029\n",
            "Playing Card/train/cam_image51.jpg             2019-10-11 01:38:44       165488\n",
            "Playing Card/train/cam_image52.jpg             2019-10-11 01:38:44       156014\n",
            "Playing Card/train/cam_image54.jpg             2019-10-11 01:38:44       148953\n",
            "Playing Card/train/cam_image9.jpg              2019-10-11 01:38:44       191673\n",
            "Playing Card/train/IMG_2385.JPG                2019-10-11 01:38:28       138372\n",
            "Playing Card/train/IMG_2386.JPG                2019-10-11 01:38:28       123930\n",
            "Playing Card/train/IMG_2388.JPG                2019-10-11 01:38:28       136474\n",
            "Playing Card/train/IMG_2389.JPG                2019-10-11 01:38:28       125438\n",
            "Playing Card/train/IMG_2390.JPG                2019-10-11 01:38:28       124373\n",
            "Playing Card/train/IMG_2392.JPG                2019-10-11 01:38:28       112317\n",
            "Playing Card/train/IMG_2393.JPG                2019-10-11 01:38:28       113670\n",
            "Playing Card/train/IMG_2394.JPG                2019-10-11 01:38:36       146759\n",
            "Playing Card/train/IMG_2396.JPG                2019-10-11 01:38:36       129794\n",
            "Playing Card/train/IMG_2397.JPG                2019-10-11 01:38:36       131938\n",
            "Playing Card/train/IMG_2398.JPG                2019-10-11 01:38:36       128447\n",
            "Playing Card/train/IMG_2399.JPG                2019-10-11 01:38:36       135286\n",
            "Playing Card/train/IMG_2400.JPG                2019-10-11 01:38:36       140107\n",
            "Playing Card/train/IMG_2401.JPG                2019-10-11 01:38:36       137697\n",
            "Playing Card/train/IMG_2402.JPG                2019-10-11 01:38:36       118379\n",
            "Playing Card/train/IMG_2404.JPG                2019-10-11 01:38:36       139746\n",
            "Playing Card/train/IMG_2405.JPG                2019-10-11 01:38:36       134540\n",
            "Playing Card/train/IMG_2406.JPG                2019-10-11 01:38:36       132404\n",
            "Playing Card/train/IMG_2407.JPG                2019-10-11 01:38:36        74964\n",
            "Playing Card/train/IMG_2408.JPG                2019-10-11 01:38:36        80307\n",
            "Playing Card/train/IMG_2409.JPG                2019-10-11 01:38:36        54185\n",
            "Playing Card/train/IMG_2410.JPG                2019-10-11 01:38:36        68745\n",
            "Playing Card/train/IMG_2411.JPG                2019-10-11 01:38:36        72076\n",
            "Playing Card/train/IMG_2412.JPG                2019-10-11 01:38:36        77757\n",
            "Playing Card/train/IMG_2413.JPG                2019-10-11 01:38:36        67380\n",
            "Playing Card/train/IMG_2414.JPG                2019-10-11 01:38:36        79354\n",
            "Playing Card/train/IMG_2415.JPG                2019-10-11 01:38:36        75062\n",
            "Playing Card/train/IMG_2416.JPG                2019-10-11 01:38:36        60511\n",
            "Playing Card/train/IMG_2417.JPG                2019-10-11 01:38:36        46636\n",
            "Playing Card/train/IMG_2418.JPG                2019-10-11 01:38:36        62503\n",
            "Playing Card/train/IMG_2419.JPG                2019-10-11 01:38:36        77197\n",
            "Playing Card/train/IMG_2420.JPG                2019-10-11 01:38:36        61498\n",
            "Playing Card/train/IMG_2421.JPG                2019-10-11 01:38:36        61491\n",
            "Playing Card/train/IMG_2422.JPG                2019-10-11 01:38:36        88429\n",
            "Playing Card/train/IMG_2423.JPG                2019-10-11 01:38:36        58129\n",
            "Playing Card/train/IMG_2424.JPG                2019-10-11 01:38:36        57972\n",
            "Playing Card/train/IMG_2425.JPG                2019-10-11 01:38:36        65157\n",
            "Playing Card/train/IMG_2426.JPG                2019-10-11 01:38:36        72457\n",
            "Playing Card/train/IMG_2427.JPG                2019-10-11 01:38:36        81865\n",
            "Playing Card/train/IMG_2428.JPG                2019-10-11 01:38:36       123928\n",
            "Playing Card/train/IMG_2429.JPG                2019-10-11 01:38:36       108259\n",
            "Playing Card/train/IMG_2430.JPG                2019-10-11 01:38:36       120874\n",
            "Playing Card/train/IMG_2431.JPG                2019-10-11 01:38:36        50127\n",
            "Playing Card/train/IMG_2434.JPG                2019-10-11 01:38:36        45876\n",
            "Playing Card/train/IMG_2437.JPG                2019-10-11 01:38:36        86197\n",
            "Playing Card/train/IMG_2439.JPG                2019-10-11 01:38:36        99827\n",
            "Playing Card/train/IMG_2441.JPG                2019-10-11 01:38:36        62311\n",
            "Playing Card/train/IMG_2442.JPG                2019-10-11 01:38:36        57166\n",
            "Playing Card/train/IMG_2443.JPG                2019-10-11 01:38:36        87602\n",
            "Playing Card/train/IMG_2445.JPG                2019-10-11 01:38:36        55342\n",
            "Playing Card/train/IMG_2446.JPG                2019-10-11 01:38:36        51026\n",
            "Playing Card/train/IMG_2447.JPG                2019-10-11 01:38:36        45595\n",
            "Playing Card/train/IMG_2448.JPG                2019-10-11 01:38:36        36054\n",
            "Playing Card/train/IMG_2449.JPG                2019-10-11 01:38:36        49088\n",
            "Playing Card/train/IMG_2450.JPG                2019-10-11 01:38:36        49828\n",
            "Playing Card/train/IMG_2451.JPG                2019-10-11 01:38:36        45806\n",
            "Playing Card/train/IMG_2452.JPG                2019-10-11 01:38:36        69787\n",
            "Playing Card/train/IMG_2453.JPG                2019-10-11 01:38:36        60571\n",
            "Playing Card/train/IMG_2454.JPG                2019-10-11 01:38:36        57952\n",
            "Playing Card/train/IMG_2455.JPG                2019-10-11 01:38:36        58562\n",
            "Playing Card/train/IMG_2456.JPG                2019-10-11 01:38:36        54673\n",
            "Playing Card/train/IMG_2457.JPG                2019-10-11 01:38:36       139617\n",
            "Playing Card/train/IMG_2458.JPG                2019-10-11 01:38:36        76978\n",
            "Playing Card/train/IMG_2459.JPG                2019-10-11 01:38:36        72495\n",
            "Playing Card/train/IMG_2460.JPG                2019-10-11 01:38:36        97799\n",
            "Playing Card/train/IMG_2462.JPG                2019-10-11 01:38:36        55350\n",
            "Playing Card/train/IMG_2464.JPG                2019-10-11 01:38:36        74782\n",
            "Playing Card/train/IMG_2465.JPG                2019-10-11 01:38:36        76226\n",
            "Playing Card/train/IMG_2466.JPG                2019-10-11 01:38:36        94075\n",
            "Playing Card/train/IMG_2467.JPG                2019-10-11 01:38:36        93528\n",
            "Playing Card/train/IMG_2468.JPG                2019-10-11 01:38:36        94413\n",
            "Playing Card/train/IMG_2469.JPG                2019-10-11 01:38:36        83816\n",
            "Playing Card/train/IMG_2471.JPG                2019-10-11 01:38:36        79437\n",
            "Playing Card/train/IMG_2472.JPG                2019-10-11 01:38:36        80963\n",
            "Playing Card/train/IMG_2473.JPG                2019-10-11 01:38:36        73915\n",
            "Playing Card/train/IMG_2474.JPG                2019-10-11 01:38:36        75656\n",
            "Playing Card/train/IMG_2475.JPG                2019-10-11 01:38:36        83108\n",
            "Playing Card/train/IMG_2477.JPG                2019-10-11 01:38:36        65962\n",
            "Playing Card/train/IMG_2478.JPG                2019-10-11 01:38:36        58568\n",
            "Playing Card/train/IMG_2480.JPG                2019-10-11 01:38:36        96250\n",
            "Playing Card/train/IMG_2481.JPG                2019-10-11 01:38:36        64819\n",
            "Playing Card/train/IMG_2483.JPG                2019-10-11 01:38:36        96617\n",
            "Playing Card/train/IMG_2484.JPG                2019-10-11 01:38:36        65632\n",
            "Playing Card/train/IMG_2486.JPG                2019-10-11 01:38:36        92230\n",
            "Playing Card/train/IMG_2487.JPG                2019-10-11 01:38:36        87908\n",
            "Playing Card/train/IMG_2488.JPG                2019-10-11 01:38:36        85605\n",
            "Playing Card/train/IMG_2489.JPG                2019-10-11 01:38:36        76410\n",
            "Playing Card/train/IMG_2490.JPG                2019-10-11 01:38:36        92215\n",
            "Playing Card/train/IMG_2491.JPG                2019-10-11 01:38:36        87199\n",
            "Playing Card/train/IMG_2492.JPG                2019-10-11 01:38:36       108634\n",
            "Playing Card/train/IMG_2493.JPG                2019-10-11 01:38:36       101419\n",
            "Playing Card/train/IMG_2494.JPG                2019-10-11 01:38:36       119676\n",
            "Playing Card/train/IMG_2495.JPG                2019-10-11 01:38:36       111452\n",
            "Playing Card/train/IMG_2496.JPG                2019-10-11 01:38:36       119002\n",
            "Playing Card/train/IMG_2497.JPG                2019-10-11 01:38:36        98003\n",
            "Playing Card/train/IMG_2498.JPG                2019-10-11 01:38:36        87093\n",
            "Playing Card/train/IMG_2499.JPG                2019-10-11 01:38:36        85611\n",
            "Playing Card/train/IMG_2500.JPG                2019-10-11 01:38:36        80279\n",
            "Playing Card/train/IMG_2501.JPG                2019-10-11 01:38:36        78091\n",
            "Playing Card/train/IMG_2502.JPG                2019-10-11 01:38:36        84060\n",
            "Playing Card/train/IMG_2503.JPG                2019-10-11 01:38:36        89891\n",
            "Playing Card/train/IMG_2504.JPG                2019-10-11 01:38:36        66806\n",
            "Playing Card/train/IMG_2505.JPG                2019-10-11 01:38:36        46623\n",
            "Playing Card/train/IMG_2506.JPG                2019-10-11 01:38:36        61874\n",
            "Playing Card/train/IMG_2507.JPG                2019-10-11 01:38:36        69592\n",
            "Playing Card/train/IMG_2508.JPG                2019-10-11 01:38:36        67289\n",
            "Playing Card/train/IMG_2509.JPG                2019-10-11 01:38:36        65263\n",
            "Playing Card/train/IMG_2511.JPG                2019-10-11 01:38:36       119871\n",
            "Playing Card/train/IMG_2512.JPG                2019-10-11 01:38:36       102882\n",
            "Playing Card/train/IMG_2513.JPG                2019-10-11 01:38:36        60284\n",
            "Playing Card/train/IMG_2514.JPG                2019-10-11 01:38:36        96550\n",
            "Playing Card/train/IMG_2515.JPG                2019-10-11 01:38:36        85188\n",
            "Playing Card/train/IMG_2516.JPG                2019-10-11 01:38:36        75864\n",
            "Playing Card/train/IMG_2517.JPG                2019-10-11 01:38:36        76523\n",
            "Playing Card/train/IMG_2518.JPG                2019-10-11 01:38:36        97166\n",
            "Playing Card/train/IMG_2519.JPG                2019-10-11 01:38:36        77167\n",
            "Playing Card/train/IMG_2520.JPG                2019-10-11 01:38:36        70821\n",
            "Playing Card/train/IMG_2521.JPG                2019-10-11 01:38:36        66618\n",
            "Playing Card/train/IMG_2522.JPG                2019-10-11 01:38:36        92629\n",
            "Playing Card/train/IMG_2523.JPG                2019-10-11 01:38:36        62712\n",
            "Playing Card/train/IMG_2524.JPG                2019-10-11 01:38:36        88808\n",
            "Playing Card/train/IMG_2525.JPG                2019-10-11 01:38:36       117645\n",
            "Playing Card/train/IMG_2526.JPG                2019-10-11 01:38:36        74137\n",
            "Playing Card/train/IMG_2527.JPG                2019-10-11 01:38:36       109065\n",
            "Playing Card/train/IMG_2528.JPG                2019-10-11 01:38:36       116141\n",
            "Playing Card/train/IMG_2529.JPG                2019-10-11 01:38:38        87884\n",
            "Playing Card/train/IMG_2533.JPG                2019-10-11 01:38:38       105773\n",
            "Playing Card/train/IMG_2535.JPG                2019-10-11 01:38:38       108702\n",
            "Playing Card/train/IMG_2536.JPG                2019-10-11 01:38:38        86369\n",
            "Playing Card/train/IMG_2537.JPG                2019-10-11 01:38:38        91085\n",
            "Playing Card/train/IMG_2538.JPG                2019-10-11 01:38:38        97546\n",
            "Playing Card/train/IMG_2542.JPG                2019-10-11 01:38:38        55158\n",
            "Playing Card/train/IMG_2543.JPG                2019-10-11 01:38:38        87965\n",
            "Playing Card/train/IMG_2545.JPG                2019-10-11 01:38:38        98960\n",
            "Playing Card/train/IMG_2546.JPG                2019-10-11 01:38:38        63983\n",
            "Playing Card/train/IMG_2548.JPG                2019-10-11 01:38:38        88450\n",
            "Playing Card/train/IMG_2549.JPG                2019-10-11 01:38:38        62915\n",
            "Playing Card/train/IMG_2552.JPG                2019-10-11 01:38:38        70244\n",
            "Playing Card/train/IMG_2553.JPG                2019-10-11 01:38:38        65128\n",
            "Playing Card/train/IMG_2556.JPG                2019-10-11 01:38:38        83399\n",
            "Playing Card/train/IMG_2558.JPG                2019-10-11 01:38:38       110260\n",
            "Playing Card/train/IMG_2559.JPG                2019-10-11 01:38:38       128474\n",
            "Playing Card/train/IMG_2562.JPG                2019-10-11 01:38:38       100628\n",
            "Playing Card/train/IMG_2563.JPG                2019-10-11 01:38:38       109029\n",
            "Playing Card/train/IMG_2565.JPG                2019-10-11 01:38:38       108541\n",
            "Playing Card/train/IMG_2566.JPG                2019-10-11 01:38:38       117675\n",
            "Playing Card/train/IMG_2567.JPG                2019-10-11 01:38:38       131017\n",
            "Playing Card/train/IMG_2569.JPG                2019-10-11 01:38:38        77389\n",
            "Playing Card/train/IMG_2570.JPG                2019-10-11 01:38:38        76519\n",
            "Playing Card/train/IMG_2572.JPG                2019-10-11 01:38:38        82990\n",
            "Playing Card/train/IMG_2574.JPG                2019-10-11 01:38:38        78629\n",
            "Playing Card/train/IMG_2576.JPG                2019-10-11 01:38:38        75784\n",
            "Playing Card/train/IMG_2577.JPG                2019-10-11 01:38:38        74629\n",
            "Playing Card/train/IMG_2578.JPG                2019-10-11 01:38:38        82461\n",
            "Playing Card/train/IMG_2579.JPG                2019-10-11 01:38:38        60219\n",
            "Playing Card/train/IMG_2581.JPG                2019-10-11 01:38:38        56801\n",
            "Playing Card/train/IMG_2582.JPG                2019-10-11 01:38:38        46475\n",
            "Playing Card/train/IMG_2584.JPG                2019-10-11 01:38:38       118627\n",
            "Playing Card/train/IMG_2586.JPG                2019-10-11 01:38:38       121647\n",
            "Playing Card/train/IMG_2587.JPG                2019-10-11 01:38:38       106337\n",
            "Playing Card/train/IMG_2588.JPG                2019-10-11 01:38:38       110225\n",
            "Playing Card/train/IMG_2589.JPG                2019-10-11 01:38:38       129611\n",
            "Playing Card/train/IMG_2590.JPG                2019-10-11 01:38:38       120382\n",
            "Playing Card/train/IMG_2593.JPG                2019-10-11 01:38:38       116530\n",
            "Playing Card/train/IMG_2596.JPG                2019-10-11 01:38:38        29535\n",
            "Playing Card/train/IMG_2597.JPG                2019-10-11 01:38:38        51117\n",
            "Playing Card/train/IMG_2599.JPG                2019-10-11 01:38:38        43955\n",
            "Playing Card/train/IMG_2601.JPG                2019-10-11 01:38:38        57566\n",
            "Playing Card/train/IMG_2602.JPG                2019-10-11 01:38:38        73325\n",
            "Playing Card/train/IMG_2603.JPG                2019-10-11 01:38:38        44698\n",
            "Playing Card/train/IMG_2605.JPG                2019-10-11 01:38:42        76755\n",
            "Playing Card/train/IMG_2607.JPG                2019-10-11 01:38:42        54808\n",
            "Playing Card/train/IMG_2608.JPG                2019-10-11 01:38:42        57914\n",
            "Playing Card/train/IMG_2609.JPG                2019-10-11 01:38:42        63984\n",
            "Playing Card/train/IMG_2610.JPG                2019-10-11 01:38:42        68727\n",
            "Playing Card/train/IMG_2611.JPG                2019-10-11 01:38:42        51107\n",
            "Playing Card/train/IMG_2612.JPG                2019-10-11 01:38:42        51694\n",
            "Playing Card/train/IMG_2613.JPG                2019-10-11 01:38:42        66210\n",
            "Playing Card/train/IMG_2614.JPG                2019-10-11 01:38:42        69048\n",
            "Playing Card/train/IMG_2615.JPG                2019-10-11 01:38:42        76835\n",
            "Playing Card/train/IMG_2616.JPG                2019-10-11 01:38:42        90802\n",
            "Playing Card/train/IMG_2617.JPG                2019-10-11 01:38:42        66957\n",
            "Playing Card/train/IMG_2618.JPG                2019-10-11 01:38:42        71565\n",
            "Playing Card/train/IMG_2619.JPG                2019-10-11 01:38:42        97096\n",
            "Playing Card/train/IMG_2620.JPG                2019-10-11 01:38:42        63511\n",
            "Playing Card/train/IMG_2621.JPG                2019-10-11 01:38:42       108693\n",
            "Playing Card/train/IMG_2622.JPG                2019-10-11 01:38:42        82119\n",
            "Playing Card/train/IMG_2623.JPG                2019-10-11 01:38:42        66923\n",
            "Playing Card/train/IMG_2624.JPG                2019-10-11 01:38:42        97045\n",
            "Playing Card/train/IMG_2626.JPG                2019-10-11 01:38:42        94001\n",
            "Playing Card/train/IMG_2627.JPG                2019-10-11 01:38:42       107817\n",
            "Playing Card/train/IMG_2628.JPG                2019-10-11 01:38:42        94683\n",
            "Playing Card/train/IMG_2629.JPG                2019-10-11 01:38:42        63248\n",
            "Playing Card/train/IMG_2630.JPG                2019-10-11 01:38:42        75723\n",
            "Playing Card/train/IMG_2631.JPG                2019-10-11 01:38:42       104276\n",
            "Playing Card/train/IMG_2632.JPG                2019-10-11 01:38:42        75826\n",
            "Playing Card/train/IMG_2633.JPG                2019-10-11 01:38:42       110905\n",
            "Playing Card/train/IMG_2635.JPG                2019-10-11 01:38:42       104430\n",
            "Playing Card/train/IMG_2637.JPG                2019-10-11 01:38:42       131270\n",
            "Playing Card/train/IMG_2638.JPG                2019-10-11 01:38:42       131290\n",
            "Playing Card/train/IMG_2641.JPG                2019-10-11 01:38:42        89991\n",
            "Playing Card/train/IMG_2642.JPG                2019-10-11 01:38:42       106505\n",
            "Playing Card/train/IMG_2643.JPG                2019-10-11 01:38:42       133247\n",
            "Playing Card/train/IMG_2644.JPG                2019-10-11 01:38:42       117512\n",
            "Playing Card/train/IMG_2645.JPG                2019-10-11 01:38:42       127799\n",
            "Playing Card/train/IMG_2648.JPG                2019-10-11 01:38:42        68824\n",
            "Playing Card/train/IMG_2649.JPG                2019-10-11 01:38:42        69384\n",
            "Playing Card/train/IMG_2650.JPG                2019-10-11 01:38:42        81515\n",
            "Playing Card/train/IMG_2652.JPG                2019-10-11 01:38:42        99082\n",
            "Playing Card/train/IMG_2653.JPG                2019-10-11 01:38:42       102440\n",
            "Playing Card/train/IMG_2655.JPG                2019-10-11 01:38:42       105454\n",
            "Playing Card/train/IMG_2657.JPG                2019-10-11 01:38:42        98041\n",
            "Playing Card/train/IMG_2658.JPG                2019-10-11 01:38:42       112216\n",
            "Playing Card/train/IMG_2659.JPG                2019-10-11 01:38:42       117001\n",
            "Playing Card/train/IMG_2660.JPG                2019-10-11 01:38:42       102837\n",
            "Playing Card/train/IMG_2661.JPG                2019-10-11 01:38:42       104792\n",
            "Playing Card/train/IMG_2663.JPG                2019-10-11 01:38:42        91649\n",
            "Playing Card/train/IMG_2664.JPG                2019-10-11 01:38:42        90374\n",
            "Playing Card/train/IMG_2665.JPG                2019-10-11 01:38:42       120333\n",
            "Playing Card/train/IMG_2666.JPG                2019-10-11 01:38:42       110171\n",
            "Playing Card/train/IMG_2667.JPG                2019-10-11 01:38:42        84685\n",
            "Playing Card/train/IMG_2668.JPG                2019-10-11 01:38:42        93855\n",
            "Playing Card/train/IMG_2669.JPG                2019-10-11 01:38:42       108982\n",
            "Playing Card/train/IMG_2671.JPG                2019-10-11 01:38:42       110062\n",
            "Playing Card/train/IMG_2672.JPG                2019-10-11 01:38:42        86216\n",
            "Playing Card/train/IMG_2673.JPG                2019-10-11 01:38:42       106174\n",
            "Playing Card/train/IMG_2674.JPG                2019-10-11 01:38:42        77208\n",
            "Playing Card/train/IMG_2679.JPG                2019-10-11 01:38:42       111655\n",
            "Playing Card/train/IMG_2680.JPG                2019-10-11 01:38:44        72920\n",
            "Playing Card/train/IMG_2681.JPG                2019-10-11 01:38:44        75069\n",
            "Playing Card/train/IMG_2682.JPG                2019-10-11 01:38:44        80736\n",
            "Playing Card/train/IMG_2683.JPG                2019-10-11 01:38:44       106293\n",
            "Playing Card/train/IMG_2684.JPG                2019-10-11 01:38:44        64063\n",
            "Playing Card/train/IMG_2685.JPG                2019-10-11 01:38:44        91180\n",
            "Playing Card/train/IMG_2687.JPG                2019-10-11 01:38:44        94494\n",
            "Playing Card/train/IMG_2689.JPG                2019-10-11 01:38:44       103228\n",
            "Playing Card/train/IMG_2690.JPG                2019-10-11 01:38:44       122213\n",
            "Playing Card/train/IMG_2691.JPG                2019-10-11 01:38:44       106812\n",
            "Playing Card/train/IMG_2692.JPG                2019-10-11 01:38:44       120369\n",
            "Playing Card/train/IMG_2693.JPG                2019-10-11 01:38:44       122445\n",
            "Playing Card/train/IMG_2694.JPG                2019-10-11 01:38:44       120337\n",
            "Playing Card/train/IMG_2695.JPG                2019-10-11 01:38:44        99115\n",
            "Playing Card/train/IMG_2696.JPG                2019-10-11 01:38:44        94489\n",
            "Playing Card/train/IMG_2697.JPG                2019-10-11 01:38:44       120830\n",
            "Playing Card/train/IMG_2698.JPG                2019-10-11 01:38:44        98354\n",
            "Playing Card/train/IMG_2699.JPG                2019-10-11 01:38:44        88452\n",
            "Playing Card/train/IMG_2700.JPG                2019-10-11 01:38:44        87949\n",
            "Playing Card/train/IMG_2701.JPG                2019-10-11 01:38:44       120873\n",
            "Playing Card/train/IMG_2702.JPG                2019-10-11 01:38:44       107332\n",
            "Playing Card/train/IMG_2703.JPG                2019-10-11 01:38:44       107132\n",
            "Playing Card/train/IMG_2704.JPG                2019-10-11 01:38:44       122788\n",
            "Playing Card/train_labels.csv                  2019-10-11 01:38:44        22529\n",
            "Extracting all the files now...\n",
            "Done!\n"
          ],
          "name": "stdout"
        }
      ]
    },
    {
      "cell_type": "code",
      "metadata": {
        "id": "fEEWC8Z8bnmy",
        "colab_type": "code",
        "colab": {
          "base_uri": "https://localhost:8080/",
          "height": 34
        },
        "outputId": "d1538d6d-6eb3-4c07-dc21-803c5826c7ad"
      },
      "source": [
        "cd /content/Playing Card"
      ],
      "execution_count": 5,
      "outputs": [
        {
          "output_type": "stream",
          "text": [
            "/content/Playing Card\n"
          ],
          "name": "stdout"
        }
      ]
    },
    {
      "cell_type": "code",
      "metadata": {
        "id": "dBQngJ2bbnm3",
        "colab_type": "code",
        "colab": {}
      },
      "source": [
        "# Import Necessary Packages\n",
        "import pandas as pd\n",
        "import matplotlib.pyplot as plt\n",
        "import os\n",
        "import cv2\n",
        "import numpy as np"
      ],
      "execution_count": 0,
      "outputs": []
    },
    {
      "cell_type": "code",
      "metadata": {
        "id": "JV9omeTcbnnm",
        "colab_type": "code",
        "colab": {
          "base_uri": "https://localhost:8080/",
          "height": 34
        },
        "outputId": "a1fa22a8-1782-4759-ca02-a2532954c986"
      },
      "source": [
        "# Import and Explore data\n",
        "path_train = os.path.join('/content/Playing Card/train')\n",
        "path_test = os.path.join('/content/Playing Card/test')\n",
        "print(path_train)"
      ],
      "execution_count": 8,
      "outputs": [
        {
          "output_type": "stream",
          "text": [
            "/content/Playing Card/train\n"
          ],
          "name": "stdout"
        }
      ]
    },
    {
      "cell_type": "code",
      "metadata": {
        "id": "dq6H9E-NfJ-T",
        "colab_type": "code",
        "colab": {
          "base_uri": "https://localhost:8080/",
          "height": 34
        },
        "outputId": "670d8296-036c-4aa5-bfd4-e492a85741ed"
      },
      "source": [
        "# Import csv files\n",
        "train = pd.read_csv('/content/Playing Card/train_labels.csv')\n",
        "test = pd.read_csv('/content/Playing Card/test_labels.csv')\n",
        "\n",
        "# Display shape\n",
        "train.shape, test.shape"
      ],
      "execution_count": 9,
      "outputs": [
        {
          "output_type": "execute_result",
          "data": {
            "text/plain": [
              "((527, 8), (143, 8))"
            ]
          },
          "metadata": {
            "tags": []
          },
          "execution_count": 9
        }
      ]
    },
    {
      "cell_type": "code",
      "metadata": {
        "id": "ezrlz8t9ftDp",
        "colab_type": "code",
        "colab": {
          "base_uri": "https://localhost:8080/",
          "height": 34
        },
        "outputId": "7c43c929-d01a-4e9b-a119-11b058eba382"
      },
      "source": [
        "# Number of classes\n",
        "train['class'].unique()"
      ],
      "execution_count": 10,
      "outputs": [
        {
          "output_type": "execute_result",
          "data": {
            "text/plain": [
              "array(['queen', 'ten', 'nine', 'king', 'jack', 'ace'], dtype=object)"
            ]
          },
          "metadata": {
            "tags": []
          },
          "execution_count": 10
        }
      ]
    },
    {
      "cell_type": "code",
      "metadata": {
        "id": "q_cIDHSlf-tp",
        "colab_type": "code",
        "colab": {
          "base_uri": "https://localhost:8080/",
          "height": 285
        },
        "outputId": "7be4e838-e806-4c5a-b3a5-167a8619f50f"
      },
      "source": [
        "#display crop image\n",
        "for i in range(1):\n",
        "  row = train.iloc[i]\n",
        "\n",
        "  # print(path_train)\n",
        "  img = cv2.imread(os.path.join(path_train, row['filename']))\n",
        "  # print(img.shape)\n",
        "  xmin = row['xmin']\n",
        "  xmax = row['xmax']\n",
        "  ymin = row['ymin']\n",
        "  ymax = row['ymax']\n",
        "  crop_img = img[ymin:ymax, xmin:xmax]\n",
        "  print(crop_img.shape)\n",
        "  plt.imshow(crop_img)\n",
        "  plt.show()"
      ],
      "execution_count": 18,
      "outputs": [
        {
          "output_type": "stream",
          "text": [
            "(113, 87, 3)\n"
          ],
          "name": "stdout"
        },
        {
          "output_type": "display_data",
          "data": {
            "image/png": "[encoded data removed]",
            "text/plain": [
              "<Figure size 432x288 with 1 Axes>"
            ]
          },
          "metadata": {
            "tags": []
          }
        }
      ]
    },
    {
      "cell_type": "code",
      "metadata": {
        "id": "dwGulotvgWiE",
        "colab_type": "code",
        "colab": {}
      },
      "source": [
        "# Save croped images\n",
        "from PIL import Image  \n",
        "import PIL "
      ],
      "execution_count": 0,
      "outputs": []
    },
    {
      "cell_type": "code",
      "metadata": {
        "id": "haFfrNEXhYx8",
        "colab_type": "code",
        "colab": {
          "base_uri": "https://localhost:8080/",
          "height": 198
        },
        "outputId": "68e91ba1-1bef-4c02-cdd7-3cc8d401c13f"
      },
      "source": [
        "train.head()"
      ],
      "execution_count": 15,
      "outputs": [
        {
          "output_type": "execute_result",
          "data": {
            "text/html": [
              "<div>\n",
              "<style scoped>\n",
              "    .dataframe tbody tr th:only-of-type {\n",
              "        vertical-align: middle;\n",
              "    }\n",
              "\n",
              "    .dataframe tbody tr th {\n",
              "        vertical-align: top;\n",
              "    }\n",
              "\n",
              "    .dataframe thead th {\n",
              "        text-align: right;\n",
              "    }\n",
              "</style>\n",
              "<table border=\"1\" class=\"dataframe\">\n",
              "  <thead>\n",
              "    <tr style=\"text-align: right;\">\n",
              "      <th></th>\n",
              "      <th>filename</th>\n",
              "      <th>width</th>\n",
              "      <th>height</th>\n",
              "      <th>class</th>\n",
              "      <th>xmin</th>\n",
              "      <th>ymin</th>\n",
              "      <th>xmax</th>\n",
              "      <th>ymax</th>\n",
              "    </tr>\n",
              "  </thead>\n",
              "  <tbody>\n",
              "    <tr>\n",
              "      <th>0</th>\n",
              "      <td>cam_image1.jpg</td>\n",
              "      <td>480</td>\n",
              "      <td>270</td>\n",
              "      <td>queen</td>\n",
              "      <td>173</td>\n",
              "      <td>24</td>\n",
              "      <td>260</td>\n",
              "      <td>137</td>\n",
              "    </tr>\n",
              "    <tr>\n",
              "      <th>1</th>\n",
              "      <td>cam_image1.jpg</td>\n",
              "      <td>480</td>\n",
              "      <td>270</td>\n",
              "      <td>queen</td>\n",
              "      <td>165</td>\n",
              "      <td>135</td>\n",
              "      <td>253</td>\n",
              "      <td>251</td>\n",
              "    </tr>\n",
              "    <tr>\n",
              "      <th>2</th>\n",
              "      <td>cam_image1.jpg</td>\n",
              "      <td>480</td>\n",
              "      <td>270</td>\n",
              "      <td>ten</td>\n",
              "      <td>255</td>\n",
              "      <td>96</td>\n",
              "      <td>337</td>\n",
              "      <td>208</td>\n",
              "    </tr>\n",
              "    <tr>\n",
              "      <th>3</th>\n",
              "      <td>cam_image10.jpg</td>\n",
              "      <td>960</td>\n",
              "      <td>540</td>\n",
              "      <td>ten</td>\n",
              "      <td>501</td>\n",
              "      <td>116</td>\n",
              "      <td>700</td>\n",
              "      <td>353</td>\n",
              "    </tr>\n",
              "    <tr>\n",
              "      <th>4</th>\n",
              "      <td>cam_image10.jpg</td>\n",
              "      <td>960</td>\n",
              "      <td>540</td>\n",
              "      <td>queen</td>\n",
              "      <td>261</td>\n",
              "      <td>124</td>\n",
              "      <td>453</td>\n",
              "      <td>370</td>\n",
              "    </tr>\n",
              "  </tbody>\n",
              "</table>\n",
              "</div>"
            ],
            "text/plain": [
              "          filename  width  height  class  xmin  ymin  xmax  ymax\n",
              "0   cam_image1.jpg    480     270  queen   173    24   260   137\n",
              "1   cam_image1.jpg    480     270  queen   165   135   253   251\n",
              "2   cam_image1.jpg    480     270    ten   255    96   337   208\n",
              "3  cam_image10.jpg    960     540    ten   501   116   700   353\n",
              "4  cam_image10.jpg    960     540  queen   261   124   453   370"
            ]
          },
          "metadata": {
            "tags": []
          },
          "execution_count": 15
        }
      ]
    },
    {
      "cell_type": "code",
      "metadata": {
        "id": "O9LjUc9ciNS5",
        "colab_type": "code",
        "colab": {
          "base_uri": "https://localhost:8080/",
          "height": 78
        },
        "outputId": "38965cfe-8fb9-44e7-afab-181625c5f1ce"
      },
      "source": [
        "train[0:1]"
      ],
      "execution_count": 17,
      "outputs": [
        {
          "output_type": "execute_result",
          "data": {
            "text/html": [
              "<div>\n",
              "<style scoped>\n",
              "    .dataframe tbody tr th:only-of-type {\n",
              "        vertical-align: middle;\n",
              "    }\n",
              "\n",
              "    .dataframe tbody tr th {\n",
              "        vertical-align: top;\n",
              "    }\n",
              "\n",
              "    .dataframe thead th {\n",
              "        text-align: right;\n",
              "    }\n",
              "</style>\n",
              "<table border=\"1\" class=\"dataframe\">\n",
              "  <thead>\n",
              "    <tr style=\"text-align: right;\">\n",
              "      <th></th>\n",
              "      <th>filename</th>\n",
              "      <th>width</th>\n",
              "      <th>height</th>\n",
              "      <th>class</th>\n",
              "      <th>xmin</th>\n",
              "      <th>ymin</th>\n",
              "      <th>xmax</th>\n",
              "      <th>ymax</th>\n",
              "    </tr>\n",
              "  </thead>\n",
              "  <tbody>\n",
              "    <tr>\n",
              "      <th>0</th>\n",
              "      <td>cam_image1.jpg</td>\n",
              "      <td>480</td>\n",
              "      <td>270</td>\n",
              "      <td>queen</td>\n",
              "      <td>173</td>\n",
              "      <td>24</td>\n",
              "      <td>260</td>\n",
              "      <td>137</td>\n",
              "    </tr>\n",
              "  </tbody>\n",
              "</table>\n",
              "</div>"
            ],
            "text/plain": [
              "         filename  width  height  class  xmin  ymin  xmax  ymax\n",
              "0  cam_image1.jpg    480     270  queen   173    24   260   137"
            ]
          },
          "metadata": {
            "tags": []
          },
          "execution_count": 17
        }
      ]
    },
    {
      "cell_type": "code",
      "metadata": {
        "id": "BSgIszhlkl5s",
        "colab_type": "code",
        "colab": {}
      },
      "source": [
        ""
      ],
      "execution_count": 0,
      "outputs": []
    }
  ]
}