{
  "nbformat": 4,
  "nbformat_minor": 0,
  "metadata": {
    "kernelspec": {
      "name": "python3",
      "display_name": "Python 3"
    },
    "language_info": {
      "codemirror_mode": {
        "name": "ipython",
        "version": 3
      },
      "file_extension": ".py",
      "mimetype": "text/x-python",
      "name": "python",
      "nbconvert_exporter": "python",
      "pygments_lexer": "ipython3",
      "version": "3.7.3"
    },
    "colab": {
      "name": "test_notebook.ipynb",
      "provenance": []
    },
    "accelerator": "GPU"
  },
  "cells": [
    {
      "cell_type": "markdown",
      "metadata": {
        "id": "ySGJzCu_cx2Y",
        "colab_type": "text"
      },
      "source": [
        "# Data Processing for CWRU"
      ]
    },
    {
      "cell_type": "code",
      "metadata": {
        "id": "ZZoRVjMNeYkn",
        "colab_type": "code",
        "colab": {
          "base_uri": "https://localhost:8080/",
          "height": 124
        },
        "outputId": "838c08a3-9772-4e95-ab58-aacb91712e95"
      },
      "source": [
        "# mount google drive\n",
        "from google.colab import drive\n",
        "drive.mount('/content/drive')"
      ],
      "execution_count": 1,
      "outputs": [
        {
          "output_type": "stream",
          "text": [
            "Go to this URL in a browser: https://accounts.google.com/o/oauth2/auth?client_id=947318989803-6bn6qk8qdgf4n4g3pfee6491hc0brc4i.apps.googleusercontent.com&redirect_uri=urn%3aietf%3awg%3aoauth%3a2.0%3aoob&response_type=code&scope=email%20https%3a%2f%2fwww.googleapis.com%2fauth%2fdocs.test%20https%3a%2f%2fwww.googleapis.com%2fauth%2fdrive%20https%3a%2f%2fwww.googleapis.com%2fauth%2fdrive.photos.readonly%20https%3a%2f%2fwww.googleapis.com%2fauth%2fpeopleapi.readonly\n",
            "\n",
            "Enter your authorization code:\n",
            "··········\n",
            "Mounted at /content/drive\n"
          ],
          "name": "stdout"
        }
      ]
    },
    {
      "cell_type": "code",
      "metadata": {
        "id": "InM-f8E9cx2f",
        "colab_type": "code",
        "colab": {}
      },
      "source": [
        "# copy file from google drive\n",
        "import shutil"
      ],
      "execution_count": 0,
      "outputs": []
    },
    {
      "cell_type": "code",
      "metadata": {
        "id": "Au3T3iz6evvs",
        "colab_type": "code",
        "colab": {
          "base_uri": "https://localhost:8080/",
          "height": 34
        },
        "outputId": "7bf36967-1ae6-42ff-efc7-6d0fbf6bbd3c"
      },
      "source": [
        "shutil.copy('/content/drive/My Drive/accelerometer_data.zip', '/content/')"
      ],
      "execution_count": 3,
      "outputs": [
        {
          "output_type": "execute_result",
          "data": {
            "text/plain": [
              "'/content/accelerometer_data.zip'"
            ]
          },
          "metadata": {
            "tags": []
          },
          "execution_count": 3
        }
      ]
    },
    {
      "cell_type": "code",
      "metadata": {
        "id": "BpZ3kyK2e3XJ",
        "colab_type": "code",
        "colab": {
          "base_uri": "https://localhost:8080/",
          "height": 605
        },
        "outputId": "0119f3ec-8642-403c-a228-67aef795b4fb"
      },
      "source": [
        "# importing required modules \n",
        "from zipfile import ZipFile \n",
        "\n",
        "# specifying the zip file name \n",
        "file_name = \"/content/accelerometer_data.zip\"\n",
        "\n",
        "# opening the zip file in READ mode \n",
        "with ZipFile(file_name, 'r') as zip: \n",
        "\t# printing all the contents of the zip file \n",
        "\tzip.printdir() \n",
        "\n",
        "\t# extracting all the files \n",
        "\tprint('Extracting all the files now...') \n",
        "\tzip.extractall() \n",
        "\tprint('Done!')"
      ],
      "execution_count": 4,
      "outputs": [
        {
          "output_type": "stream",
          "text": [
            "File Name                                             Modified             Size\n",
            "accelerometer data/                            2020-01-30 11:49:44            0\n",
            "accelerometer data/098.csv                     2020-01-30 11:38:10     10369687\n",
            "accelerometer data/099.csv                     2020-01-30 11:38:40     10878191\n",
            "accelerometer data/100.csv                     2020-01-30 11:39:02     10900946\n",
            "accelerometer data/106.csv                     2020-01-30 11:39:20      4024058\n",
            "accelerometer data/107.csv                     2020-01-30 11:39:38      4028411\n",
            "accelerometer data/108.csv                     2020-01-30 11:40:00      4052406\n",
            "accelerometer data/119.csv                     2020-01-30 11:40:30      3987587\n",
            "accelerometer data/120.csv                     2020-01-30 11:40:54      3993252\n",
            "accelerometer data/121.csv                     2020-01-30 11:41:14      4000168\n",
            "accelerometer data/131.csv                     2020-01-30 11:41:46      4038166\n",
            "accelerometer data/132.csv                     2020-01-30 11:42:08      4003332\n",
            "accelerometer data/133.csv                     2020-01-30 11:42:24      4042357\n",
            "accelerometer data/170.csv                     2020-01-30 11:42:52      4004525\n",
            "accelerometer data/171.csv                     2020-01-30 11:43:14      4004967\n",
            "accelerometer data/172.csv                     2020-01-30 11:43:40      4002226\n",
            "accelerometer data/186.csv                     2020-01-30 11:44:00      4008765\n",
            "accelerometer data/187.csv                     2020-01-30 11:44:20      4006584\n",
            "accelerometer data/188.csv                     2020-01-30 11:44:42      4020563\n",
            "accelerometer data/198.csv                     2020-01-30 11:45:06      4014786\n",
            "accelerometer data/199.csv                     2020-01-30 11:45:28      4003815\n",
            "accelerometer data/200.csv                     2020-01-30 11:46:14      4010945\n",
            "accelerometer data/210.csv                     2020-01-30 11:46:34      4008265\n",
            "accelerometer data/211.csv                     2020-01-30 11:46:56      4016787\n",
            "accelerometer data/212.csv                     2020-01-30 11:47:20      4022576\n",
            "accelerometer data/223.csv                     2020-01-30 11:47:40      3994216\n",
            "accelerometer data/224.csv                     2020-01-30 11:48:00      4003215\n",
            "accelerometer data/225.csv                     2020-01-30 11:48:22      4004445\n",
            "accelerometer data/235.csv                     2020-01-30 11:48:46      4012735\n",
            "accelerometer data/236.csv                     2020-01-30 11:49:16      4021850\n",
            "accelerometer data/237.csv                     2020-01-30 11:49:44      4015048\n",
            "Extracting all the files now...\n",
            "Done!\n"
          ],
          "name": "stdout"
        }
      ]
    },
    {
      "cell_type": "code",
      "metadata": {
        "id": "wDb4n77-fLL9",
        "colab_type": "code",
        "colab": {}
      },
      "source": [
        "# Three Motor Load (HP)\n",
        "HP_1 = ['098.csv', '106.csv', '119.csv', '131.csv', '170.csv', '186.csv', '198.csv', '210.csv', '223.csv', '235.csv']\n",
        "HP_2 = ['099.csv', '107.csv', '120.csv', '132.csv', '171.csv', '187.csv', '199.csv', '211.csv', '224.csv', '236.csv']\n",
        "HP_3 = ['100.csv', '108.csv', '121.csv', '133.csv', '172.csv', '173.csv', '200.csv', '212.csv', '225.csv', '237.csv']"
      ],
      "execution_count": 0,
      "outputs": []
    },
    {
      "cell_type": "code",
      "metadata": {
        "id": "TFbvffrujnfI",
        "colab_type": "code",
        "colab": {}
      },
      "source": [
        "# List 10 types of fault\n",
        "faults = {'Normal Fault', \n",
        "          'Ball Fault for 0.007 Fault Diameter',    # For Three Motor Load\n",
        "          'Ball Fault for 0.014 Fault Diameter',    # For Three Motor Load\n",
        "          'Ball Fault for 0.021 Fault Diameter',    # For Three Motor Load\n",
        "          'Inner Race Fault for 0.007 Fault Diameter',    # For Three Motor Load  \n",
        "          'Inner Race Fault for 0.014 Fault Diameter',    # For Three Motor Load\n",
        "          'Inner Race Fault for 0.021 Fault Diameter',    # For Three Motor Load\n",
        "          'Outer Race Fault for 0.007 Fault Diameter',    # For Three Motor Load\n",
        "          'Outer Race Fault for 0.014 Fault Diameter',    # For Three Motor Load\n",
        "          'Outer Race Fault for 0.021 Fault Diameter'     # For Three Motor Load\n",
        "          }"
      ],
      "execution_count": 0,
      "outputs": []
    },
    {
      "cell_type": "code",
      "metadata": {
        "id": "m4R4mscihUfj",
        "colab_type": "code",
        "colab": {}
      },
      "source": [
        "import os\n",
        "from six.moves.urllib.request import urlretrieve\n",
        "\n",
        "import scipy.io\n",
        "import numpy as np\n",
        "import pandas as pd\n",
        "import matplotlib.pyplot as plt\n",
        "from six.moves import cPickle as pickle\n",
        "%matplotlib inline"
      ],
      "execution_count": 0,
      "outputs": []
    },
    {
      "cell_type": "code",
      "metadata": {
        "id": "ohc0_t6Qi-H7",
        "colab_type": "code",
        "colab": {}
      },
      "source": [
        ""
      ],
      "execution_count": 0,
      "outputs": []
    }
  ]
}