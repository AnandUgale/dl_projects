{
  "nbformat": 4,
  "nbformat_minor": 0,
  "metadata": {
    "kernelspec": {
      "name": "python3",
      "display_name": "Python 3"
    },
    "language_info": {
      "codemirror_mode": {
        "name": "ipython",
        "version": 3
      },
      "file_extension": ".py",
      "mimetype": "text/x-python",
      "name": "python",
      "nbconvert_exporter": "python",
      "pygments_lexer": "ipython3",
      "version": "3.7.3"
    },
    "colab": {
      "name": "test_notebook.ipynb",
      "provenance": []
    },
    "accelerator": "GPU"
  },
  "cells": [
    {
      "cell_type": "markdown",
      "metadata": {
        "id": "ySGJzCu_cx2Y",
        "colab_type": "text"
      },
      "source": [
        "# Data Processing for CWRU"
      ]
    },
    {
      "cell_type": "code",
      "metadata": {
        "id": "ZZoRVjMNeYkn",
        "colab_type": "code",
        "outputId": "0db777c1-4918-471c-f731-0fb0e69078c2",
        "colab": {
          "base_uri": "https://localhost:8080/",
          "height": 124
        }
      },
      "source": [
        "# mount google drive\n",
        "from google.colab import drive\n",
        "drive.mount('/content/drive')"
      ],
      "execution_count": 1,
      "outputs": [
        {
          "output_type": "stream",
          "text": [
            "Go to this URL in a browser: https://accounts.google.com/o/oauth2/auth?client_id=947318989803-6bn6qk8qdgf4n4g3pfee6491hc0brc4i.apps.googleusercontent.com&redirect_uri=urn%3aietf%3awg%3aoauth%3a2.0%3aoob&response_type=code&scope=email%20https%3a%2f%2fwww.googleapis.com%2fauth%2fdocs.test%20https%3a%2f%2fwww.googleapis.com%2fauth%2fdrive%20https%3a%2f%2fwww.googleapis.com%2fauth%2fdrive.photos.readonly%20https%3a%2f%2fwww.googleapis.com%2fauth%2fpeopleapi.readonly\n",
            "\n",
            "Enter your authorization code:\n",
            "··········\n",
            "Mounted at /content/drive\n"
          ],
          "name": "stdout"
        }
      ]
    },
    {
      "cell_type": "code",
      "metadata": {
        "id": "InM-f8E9cx2f",
        "colab_type": "code",
        "colab": {}
      },
      "source": [
        "# copy file from google drive\n",
        "import shutil"
      ],
      "execution_count": 0,
      "outputs": []
    },
    {
      "cell_type": "code",
      "metadata": {
        "id": "Au3T3iz6evvs",
        "colab_type": "code",
        "outputId": "2b0d6e79-f2e5-4268-c617-00134104d95f",
        "colab": {
          "base_uri": "https://localhost:8080/",
          "height": 34
        }
      },
      "source": [
        "shutil.copy('/content/drive/My Drive/accelerometer_data.zip', '/content/')"
      ],
      "execution_count": 3,
      "outputs": [
        {
          "output_type": "execute_result",
          "data": {
            "text/plain": [
              "'/content/accelerometer_data.zip'"
            ]
          },
          "metadata": {
            "tags": []
          },
          "execution_count": 3
        }
      ]
    },
    {
      "cell_type": "code",
      "metadata": {
        "id": "BpZ3kyK2e3XJ",
        "colab_type": "code",
        "outputId": "d53ffdb0-29f4-4e61-82c4-3169939116f2",
        "colab": {
          "base_uri": "https://localhost:8080/",
          "height": 605
        }
      },
      "source": [
        "# importing required modules \n",
        "from zipfile import ZipFile \n",
        "\n",
        "# specifying the zip file name \n",
        "file_name = \"/content/accelerometer_data.zip\"\n",
        "\n",
        "# opening the zip file in READ mode \n",
        "with ZipFile(file_name, 'r') as zip: \n",
        "\t# printing all the contents of the zip file \n",
        "\tzip.printdir() \n",
        "\n",
        "\t# extracting all the files \n",
        "\tprint('Extracting all the files now...') \n",
        "\tzip.extractall() \n",
        "\tprint('Done!')"
      ],
      "execution_count": 4,
      "outputs": [
        {
          "output_type": "stream",
          "text": [
            "File Name                                             Modified             Size\n",
            "accelerometer data/                            2020-01-30 11:49:44            0\n",
            "accelerometer data/098.csv                     2020-01-30 11:38:10     10369687\n",
            "accelerometer data/099.csv                     2020-01-30 11:38:40     10878191\n",
            "accelerometer data/100.csv                     2020-01-30 11:39:02     10900946\n",
            "accelerometer data/106.csv                     2020-01-30 11:39:20      4024058\n",
            "accelerometer data/107.csv                     2020-01-30 11:39:38      4028411\n",
            "accelerometer data/108.csv                     2020-01-30 11:40:00      4052406\n",
            "accelerometer data/119.csv                     2020-01-30 11:40:30      3987587\n",
            "accelerometer data/120.csv                     2020-01-30 11:40:54      3993252\n",
            "accelerometer data/121.csv                     2020-01-30 11:41:14      4000168\n",
            "accelerometer data/131.csv                     2020-01-30 11:41:46      4038166\n",
            "accelerometer data/132.csv                     2020-01-30 11:42:08      4003332\n",
            "accelerometer data/133.csv                     2020-01-30 11:42:24      4042357\n",
            "accelerometer data/170.csv                     2020-01-30 11:42:52      4004525\n",
            "accelerometer data/171.csv                     2020-01-30 11:43:14      4004967\n",
            "accelerometer data/172.csv                     2020-01-30 11:43:40      4002226\n",
            "accelerometer data/186.csv                     2020-01-30 11:44:00      4008765\n",
            "accelerometer data/187.csv                     2020-01-30 11:44:20      4006584\n",
            "accelerometer data/188.csv                     2020-01-30 11:44:42      4020563\n",
            "accelerometer data/198.csv                     2020-01-30 11:45:06      4014786\n",
            "accelerometer data/199.csv                     2020-01-30 11:45:28      4003815\n",
            "accelerometer data/200.csv                     2020-01-30 11:46:14      4010945\n",
            "accelerometer data/210.csv                     2020-01-30 11:46:34      4008265\n",
            "accelerometer data/211.csv                     2020-01-30 11:46:56      4016787\n",
            "accelerometer data/212.csv                     2020-01-30 11:47:20      4022576\n",
            "accelerometer data/223.csv                     2020-01-30 11:47:40      3994216\n",
            "accelerometer data/224.csv                     2020-01-30 11:48:00      4003215\n",
            "accelerometer data/225.csv                     2020-01-30 11:48:22      4004445\n",
            "accelerometer data/235.csv                     2020-01-30 11:48:46      4012735\n",
            "accelerometer data/236.csv                     2020-01-30 11:49:16      4021850\n",
            "accelerometer data/237.csv                     2020-01-30 11:49:44      4015048\n",
            "Extracting all the files now...\n",
            "Done!\n"
          ],
          "name": "stdout"
        }
      ]
    },
    {
      "cell_type": "code",
      "metadata": {
        "id": "wDb4n77-fLL9",
        "colab_type": "code",
        "colab": {}
      },
      "source": [
        "# Three Motor Load (HP)\n",
        "HP_1 = {0: '098.csv', 4: '106.csv', 1: '119.csv', 7: '131.csv', 5: '170.csv', 2: '186.csv', 8: '198.csv', 6: '210.csv', 3: '223.csv', 9: '235.csv'}\n",
        "HP_2 = {0: '099.csv', 4: '107.csv', 1: '120.csv', 7: '132.csv', 5: '171.csv', 2: '187.csv', 8: '199.csv', 6: '211.csv', 3: '224.csv', 9: '236.csv'}\n",
        "HP_3 = {0: '100.csv', 4: '108.csv', 1: '121.csv', 7: '133.csv', 5: '172.csv', 2: '188.csv', 8: '200.csv', 6: '212.csv', 3: '225.csv', 9: '237.csv'}"
      ],
      "execution_count": 0,
      "outputs": []
    },
    {
      "cell_type": "code",
      "metadata": {
        "id": "TFbvffrujnfI",
        "colab_type": "code",
        "colab": {}
      },
      "source": [
        "# List 10 types of fault\n",
        "faults = {0: 'Normal Fault', \n",
        "          1: 'Ball Fault for 0.007 Fault Diameter',    # For Three Motor Load\n",
        "          2: 'Ball Fault for 0.014 Fault Diameter',    # For Three Motor Load\n",
        "          3: 'Ball Fault for 0.021 Fault Diameter',    # For Three Motor Load\n",
        "          4: 'Inner Race Fault for 0.007 Fault Diameter',    # For Three Motor Load  \n",
        "          5: 'Inner Race Fault for 0.014 Fault Diameter',    # For Three Motor Load\n",
        "          6: 'Inner Race Fault for 0.021 Fault Diameter',    # For Three Motor Load\n",
        "          7: 'Outer Race Fault for 0.007 Fault Diameter',    # For Three Motor Load\n",
        "          8: 'Outer Race Fault for 0.014 Fault Diameter',    # For Three Motor Load\n",
        "          9: 'Outer Race Fault for 0.021 Fault Diameter'     # For Three Motor Load\n",
        "          }"
      ],
      "execution_count": 0,
      "outputs": []
    },
    {
      "cell_type": "code",
      "metadata": {
        "id": "m4R4mscihUfj",
        "colab_type": "code",
        "colab": {}
      },
      "source": [
        "import os\n",
        "from six.moves.urllib.request import urlretrieve\n",
        "\n",
        "import scipy.io\n",
        "import numpy as np\n",
        "import pandas as pd\n",
        "import matplotlib.pyplot as plt\n",
        "from six.moves import cPickle as pickle\n",
        "%matplotlib inline"
      ],
      "execution_count": 0,
      "outputs": []
    },
    {
      "cell_type": "code",
      "metadata": {
        "id": "ohc0_t6Qi-H7",
        "colab_type": "code",
        "colab": {}
      },
      "source": [
        "# Create Training and test dataset for Motor Load (HP_0)\n",
        "# We have missing data from Base on Normal\n",
        "channels = ['DE_time', 'FE_time']   # assume they only used 'DE_time' and 'FE_time' for bearing fault detection"
      ],
      "execution_count": 0,
      "outputs": []
    },
    {
      "cell_type": "code",
      "metadata": {
        "id": "TXSa0SabO3OC",
        "colab_type": "code",
        "outputId": "d71d1d5d-f639-4f13-f8ce-2126d323195f",
        "colab": {
          "base_uri": "https://localhost:8080/",
          "height": 34
        }
      },
      "source": [
        "# change path\n",
        "cd /content/accelerometer data"
      ],
      "execution_count": 9,
      "outputs": [
        {
          "output_type": "stream",
          "text": [
            "/content/accelerometer data\n"
          ],
          "name": "stdout"
        }
      ]
    },
    {
      "cell_type": "code",
      "metadata": {
        "id": "hjPBtHDdEFnC",
        "colab_type": "code",
        "colab": {}
      },
      "source": [
        "# Create DataFrame for Motor Load (HP) -> 1\n",
        "HP_1_train = []\n",
        "HP_1_test = []"
      ],
      "execution_count": 0,
      "outputs": []
    },
    {
      "cell_type": "code",
      "metadata": {
        "id": "nUa1qu9sEFkR",
        "colab_type": "code",
        "colab": {}
      },
      "source": [
        "# iterate accross dictionary\n",
        "for key,val in HP_1.items():\n",
        "    df = pd.read_csv(val)\n",
        "    test_tmp = np.concatenate((df['DE_time'][:2048 * 25].values.reshape(25, 2048, 1), df['FE_time'][:2048 * 25].values.reshape(25, 2048, 1)), axis=2)\n",
        "    HP_1_test.append(test_tmp)"
      ],
      "execution_count": 0,
      "outputs": []
    },
    {
      "cell_type": "code",
      "metadata": {
        "id": "c0YdnChREFhD",
        "colab_type": "code",
        "colab": {
          "base_uri": "https://localhost:8080/",
          "height": 34
        },
        "outputId": "37a5ac0d-0ab1-4c90-ae06-f497e948f1f9"
      },
      "source": [
        "len(HP_1_test)"
      ],
      "execution_count": 12,
      "outputs": [
        {
          "output_type": "execute_result",
          "data": {
            "text/plain": [
              "10"
            ]
          },
          "metadata": {
            "tags": []
          },
          "execution_count": 12
        }
      ]
    },
    {
      "cell_type": "code",
      "metadata": {
        "id": "qYLzf8tUVM1d",
        "colab_type": "code",
        "colab": {
          "base_uri": "https://localhost:8080/",
          "height": 34
        },
        "outputId": "8c9ac1dc-0c4d-4a81-e103-715d811171e3"
      },
      "source": [
        "HP_1_test[1].shape"
      ],
      "execution_count": 13,
      "outputs": [
        {
          "output_type": "execute_result",
          "data": {
            "text/plain": [
              "(25, 2048, 2)"
            ]
          },
          "metadata": {
            "tags": []
          },
          "execution_count": 13
        }
      ]
    },
    {
      "cell_type": "code",
      "metadata": {
        "id": "m7y6LfYJVoun",
        "colab_type": "code",
        "colab": {}
      },
      "source": [
        "# iterate accross dictionary\n",
        "for key,val in HP_1.items():\n",
        "    df = pd.read_csv(val)\n",
        "    train_array = np.concatenate((df['DE_time'][2048 * 25 : 2048 * 25 + 2048].values.reshape(1, 2048, 1), df['FE_time'][2048 * 25 : 2048 * 25 + 2048].values.reshape(1, 2048, 1)), axis=2)\n",
        "    for i in range(659):\n",
        "      train_array = np.concatenate((train_array, \n",
        "                                    np.concatenate((df['DE_time'][2048*25 + 103*(i+1): 2048*25 + 2048 + 103*(i+1)].values.reshape(1, 2048, 1),\n",
        "                                                    df['FE_time'][2048*25 + 103*(i+1): 2048*25 + 2048 + 103*(i+1)].values.reshape(1, 2048, 1)),\n",
        "                                                   axis=2)),\n",
        "                                   axis=0)\n",
        "    HP_1_train.append(train_array)"
      ],
      "execution_count": 0,
      "outputs": []
    },
    {
      "cell_type": "code",
      "metadata": {
        "id": "kBRhtQfDVpCe",
        "colab_type": "code",
        "colab": {
          "base_uri": "https://localhost:8080/",
          "height": 34
        },
        "outputId": "4eaf6b47-9f15-4b96-b718-2f665617dbee"
      },
      "source": [
        "len(HP_1_train)"
      ],
      "execution_count": 15,
      "outputs": [
        {
          "output_type": "execute_result",
          "data": {
            "text/plain": [
              "10"
            ]
          },
          "metadata": {
            "tags": []
          },
          "execution_count": 15
        }
      ]
    },
    {
      "cell_type": "code",
      "metadata": {
        "id": "ufyQpm7gVpGG",
        "colab_type": "code",
        "colab": {
          "base_uri": "https://localhost:8080/",
          "height": 34
        },
        "outputId": "b906d017-f9e1-4b58-8a7e-e479d02040c4"
      },
      "source": [
        "HP_1_train[0].shape"
      ],
      "execution_count": 16,
      "outputs": [
        {
          "output_type": "execute_result",
          "data": {
            "text/plain": [
              "(660, 2048, 2)"
            ]
          },
          "metadata": {
            "tags": []
          },
          "execution_count": 16
        }
      ]
    },
    {
      "cell_type": "code",
      "metadata": {
        "id": "TwTGy006YrkG",
        "colab_type": "code",
        "colab": {}
      },
      "source": [
        "# Create DataFrame for Motor Load (HP) -> 2\n",
        "HP_2_train = []\n",
        "HP_2_test = []"
      ],
      "execution_count": 0,
      "outputs": []
    },
    {
      "cell_type": "code",
      "metadata": {
        "id": "sU4eWZ_nvlaQ",
        "colab_type": "code",
        "colab": {}
      },
      "source": [
        "# iterate accross dictionary\n",
        "for key,val in HP_2.items():\n",
        "    df = pd.read_csv(val)\n",
        "    test_tmp = np.concatenate((df['DE_time'][:2048 * 25].values.reshape(25, 2048, 1), df['FE_time'][:2048 * 25].values.reshape(25, 2048, 1)), axis=2)\n",
        "    HP_2_test.append(test_tmp)"
      ],
      "execution_count": 0,
      "outputs": []
    },
    {
      "cell_type": "code",
      "metadata": {
        "id": "-1xUElC4vqZm",
        "colab_type": "code",
        "colab": {
          "base_uri": "https://localhost:8080/",
          "height": 34
        },
        "outputId": "077b568b-d0c1-4ad5-aa15-3e796135e1ec"
      },
      "source": [
        "len(HP_2_test)"
      ],
      "execution_count": 19,
      "outputs": [
        {
          "output_type": "execute_result",
          "data": {
            "text/plain": [
              "10"
            ]
          },
          "metadata": {
            "tags": []
          },
          "execution_count": 19
        }
      ]
    },
    {
      "cell_type": "code",
      "metadata": {
        "id": "qYEzuZ3-vuW_",
        "colab_type": "code",
        "colab": {
          "base_uri": "https://localhost:8080/",
          "height": 34
        },
        "outputId": "21bad077-fd55-479a-ec53-1e3dca25e4e0"
      },
      "source": [
        "HP_2_test[2].shape"
      ],
      "execution_count": 21,
      "outputs": [
        {
          "output_type": "execute_result",
          "data": {
            "text/plain": [
              "(25, 2048, 2)"
            ]
          },
          "metadata": {
            "tags": []
          },
          "execution_count": 21
        }
      ]
    },
    {
      "cell_type": "code",
      "metadata": {
        "id": "reFtOuTovxkw",
        "colab_type": "code",
        "colab": {}
      },
      "source": [
        "# iterate accross dictionary\n",
        "for key,val in HP_2.items():\n",
        "    df = pd.read_csv(val)\n",
        "    train_array = np.concatenate((df['DE_time'][2048 * 25 : 2048 * 25 + 2048].values.reshape(1, 2048, 1), df['FE_time'][2048 * 25 : 2048 * 25 + 2048].values.reshape(1, 2048, 1)), axis=2)\n",
        "    for i in range(659):\n",
        "      train_array = np.concatenate((train_array, \n",
        "                                    np.concatenate((df['DE_time'][2048*25 + 103*(i+1): 2048*25 + 2048 + 103*(i+1)].values.reshape(1, 2048, 1),\n",
        "                                                    df['FE_time'][2048*25 + 103*(i+1): 2048*25 + 2048 + 103*(i+1)].values.reshape(1, 2048, 1)),\n",
        "                                                   axis=2)),\n",
        "                                   axis=0)\n",
        "    HP_2_train.append(train_array)"
      ],
      "execution_count": 0,
      "outputs": []
    },
    {
      "cell_type": "code",
      "metadata": {
        "id": "QfDm1MHg0GHN",
        "colab_type": "code",
        "colab": {
          "base_uri": "https://localhost:8080/",
          "height": 34
        },
        "outputId": "8d320f48-dd3e-4f84-ea47-e08fb0b61055"
      },
      "source": [
        "len(HP_2_train)"
      ],
      "execution_count": 23,
      "outputs": [
        {
          "output_type": "execute_result",
          "data": {
            "text/plain": [
              "10"
            ]
          },
          "metadata": {
            "tags": []
          },
          "execution_count": 23
        }
      ]
    },
    {
      "cell_type": "code",
      "metadata": {
        "id": "VgytkipL0LOD",
        "colab_type": "code",
        "colab": {
          "base_uri": "https://localhost:8080/",
          "height": 34
        },
        "outputId": "35736430-bd2c-477e-feb0-2b75762f3cdf"
      },
      "source": [
        "HP_2_train[0].shape"
      ],
      "execution_count": 24,
      "outputs": [
        {
          "output_type": "execute_result",
          "data": {
            "text/plain": [
              "(660, 2048, 2)"
            ]
          },
          "metadata": {
            "tags": []
          },
          "execution_count": 24
        }
      ]
    },
    {
      "cell_type": "code",
      "metadata": {
        "id": "Xx5WfAE_0O41",
        "colab_type": "code",
        "colab": {}
      },
      "source": [
        "# Create DataFrame for Motor Load (HP) -> 3\n",
        "HP_3_train = []\n",
        "HP_3_test = []"
      ],
      "execution_count": 0,
      "outputs": []
    },
    {
      "cell_type": "code",
      "metadata": {
        "id": "STnQtln60VGz",
        "colab_type": "code",
        "colab": {}
      },
      "source": [
        "# iterate accross dictionary\n",
        "for key,val in HP_3.items():\n",
        "    df = pd.read_csv(val)\n",
        "    test_tmp = np.concatenate((df['DE_time'][:2048 * 25].values.reshape(25, 2048, 1), df['FE_time'][:2048 * 25].values.reshape(25, 2048, 1)), axis=2)\n",
        "    HP_3_test.append(test_tmp)"
      ],
      "execution_count": 0,
      "outputs": []
    },
    {
      "cell_type": "code",
      "metadata": {
        "id": "JLBoTxy40ak3",
        "colab_type": "code",
        "colab": {
          "base_uri": "https://localhost:8080/",
          "height": 34
        },
        "outputId": "799c68cd-c172-407c-a41b-6f281d1141f4"
      },
      "source": [
        "len(HP_3_test)"
      ],
      "execution_count": 33,
      "outputs": [
        {
          "output_type": "execute_result",
          "data": {
            "text/plain": [
              "10"
            ]
          },
          "metadata": {
            "tags": []
          },
          "execution_count": 33
        }
      ]
    },
    {
      "cell_type": "code",
      "metadata": {
        "id": "nVhiKKvu0r9I",
        "colab_type": "code",
        "colab": {}
      },
      "source": [
        "# iterate accross dictionary\n",
        "for key,val in HP_3.items():\n",
        "    df = pd.read_csv(val)\n",
        "    train_array = np.concatenate((df['DE_time'][2048 * 25 : 2048 * 25 + 2048].values.reshape(1, 2048, 1), df['FE_time'][2048 * 25 : 2048 * 25 + 2048].values.reshape(1, 2048, 1)), axis=2)\n",
        "    for i in range(659):\n",
        "      train_array = np.concatenate((train_array, \n",
        "                                    np.concatenate((df['DE_time'][2048*25 + 103*(i+1): 2048*25 + 2048 + 103*(i+1)].values.reshape(1, 2048, 1),\n",
        "                                                    df['FE_time'][2048*25 + 103*(i+1): 2048*25 + 2048 + 103*(i+1)].values.reshape(1, 2048, 1)),\n",
        "                                                   axis=2)),\n",
        "                                   axis=0)\n",
        "    HP_3_train.append(train_array)"
      ],
      "execution_count": 0,
      "outputs": []
    },
    {
      "cell_type": "code",
      "metadata": {
        "id": "qaQC7Kju0_8_",
        "colab_type": "code",
        "colab": {
          "base_uri": "https://localhost:8080/",
          "height": 34
        },
        "outputId": "cf3b2dbd-ccf2-40e2-9e8f-2cf351f15a8d"
      },
      "source": [
        "len(HP_3_train)"
      ],
      "execution_count": 35,
      "outputs": [
        {
          "output_type": "execute_result",
          "data": {
            "text/plain": [
              "10"
            ]
          },
          "metadata": {
            "tags": []
          },
          "execution_count": 35
        }
      ]
    },
    {
      "cell_type": "code",
      "metadata": {
        "id": "m3YTkIfN1Fib",
        "colab_type": "code",
        "colab": {
          "base_uri": "https://localhost:8080/",
          "height": 34
        },
        "outputId": "0dbc7e82-e04b-4c5c-bb1d-55a83ceb9d06"
      },
      "source": [
        "HP_3_train[0].shape"
      ],
      "execution_count": 36,
      "outputs": [
        {
          "output_type": "execute_result",
          "data": {
            "text/plain": [
              "(660, 2048, 2)"
            ]
          },
          "metadata": {
            "tags": []
          },
          "execution_count": 36
        }
      ]
    }
  ]
}