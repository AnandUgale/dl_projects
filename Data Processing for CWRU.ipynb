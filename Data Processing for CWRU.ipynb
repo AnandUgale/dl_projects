{
  "nbformat": 4,
  "nbformat_minor": 0,
  "metadata": {
    "kernelspec": {
      "name": "python3",
      "display_name": "Python 3"
    },
    "language_info": {
      "codemirror_mode": {
        "name": "ipython",
        "version": 3
      },
      "file_extension": ".py",
      "mimetype": "text/x-python",
      "name": "python",
      "nbconvert_exporter": "python",
      "pygments_lexer": "ipython3",
      "version": "3.7.3"
    },
    "colab": {
      "name": "test_notebook.ipynb",
      "provenance": []
    },
    "accelerator": "GPU"
  },
  "cells": [
    {
      "cell_type": "markdown",
      "metadata": {
        "id": "ySGJzCu_cx2Y",
        "colab_type": "text"
      },
      "source": [
        "# Data Processing for CWRU"
      ]
    },
    {
      "cell_type": "code",
      "metadata": {
        "id": "ZZoRVjMNeYkn",
        "colab_type": "code",
        "outputId": "40e2531c-4c9e-4147-d668-01c04a35c129",
        "colab": {
          "base_uri": "https://localhost:8080/",
          "height": 124
        }
      },
      "source": [
        "# mount google drive\n",
        "from google.colab import drive\n",
        "drive.mount('/content/drive')"
      ],
      "execution_count": 2,
      "outputs": [
        {
          "output_type": "stream",
          "text": [
            "Go to this URL in a browser: https://accounts.google.com/o/oauth2/auth?client_id=947318989803-6bn6qk8qdgf4n4g3pfee6491hc0brc4i.apps.googleusercontent.com&redirect_uri=urn%3aietf%3awg%3aoauth%3a2.0%3aoob&response_type=code&scope=email%20https%3a%2f%2fwww.googleapis.com%2fauth%2fdocs.test%20https%3a%2f%2fwww.googleapis.com%2fauth%2fdrive%20https%3a%2f%2fwww.googleapis.com%2fauth%2fdrive.photos.readonly%20https%3a%2f%2fwww.googleapis.com%2fauth%2fpeopleapi.readonly\n",
            "\n",
            "Enter your authorization code:\n",
            "··········\n",
            "Mounted at /content/drive\n"
          ],
          "name": "stdout"
        }
      ]
    },
    {
      "cell_type": "code",
      "metadata": {
        "id": "InM-f8E9cx2f",
        "colab_type": "code",
        "colab": {}
      },
      "source": [
        "# copy file from google drive\n",
        "import shutil"
      ],
      "execution_count": 0,
      "outputs": []
    },
    {
      "cell_type": "code",
      "metadata": {
        "id": "Au3T3iz6evvs",
        "colab_type": "code",
        "outputId": "0de7fc0c-7298-4eb2-addd-c9ffc1787177",
        "colab": {
          "base_uri": "https://localhost:8080/",
          "height": 34
        }
      },
      "source": [
        "shutil.copy('/content/drive/My Drive/accelerometer_data.zip', '/content/')"
      ],
      "execution_count": 4,
      "outputs": [
        {
          "output_type": "execute_result",
          "data": {
            "text/plain": [
              "'/content/accelerometer_data.zip'"
            ]
          },
          "metadata": {
            "tags": []
          },
          "execution_count": 4
        }
      ]
    },
    {
      "cell_type": "code",
      "metadata": {
        "id": "BpZ3kyK2e3XJ",
        "colab_type": "code",
        "outputId": "3dba81cb-ef18-4606-be18-bf63436b6e24",
        "colab": {
          "base_uri": "https://localhost:8080/",
          "height": 605
        }
      },
      "source": [
        "# importing required modules \n",
        "from zipfile import ZipFile \n",
        "\n",
        "# specifying the zip file name \n",
        "file_name = \"/content/accelerometer_data.zip\"\n",
        "\n",
        "# opening the zip file in READ mode \n",
        "with ZipFile(file_name, 'r') as zip: \n",
        "\t# printing all the contents of the zip file \n",
        "\tzip.printdir() \n",
        "\n",
        "\t# extracting all the files \n",
        "\tprint('Extracting all the files now...') \n",
        "\tzip.extractall() \n",
        "\tprint('Done!')"
      ],
      "execution_count": 5,
      "outputs": [
        {
          "output_type": "stream",
          "text": [
            "File Name                                             Modified             Size\n",
            "accelerometer data/                            2020-01-30 11:49:44            0\n",
            "accelerometer data/098.csv                     2020-01-30 11:38:10     10369687\n",
            "accelerometer data/099.csv                     2020-01-30 11:38:40     10878191\n",
            "accelerometer data/100.csv                     2020-01-30 11:39:02     10900946\n",
            "accelerometer data/106.csv                     2020-01-30 11:39:20      4024058\n",
            "accelerometer data/107.csv                     2020-01-30 11:39:38      4028411\n",
            "accelerometer data/108.csv                     2020-01-30 11:40:00      4052406\n",
            "accelerometer data/119.csv                     2020-01-30 11:40:30      3987587\n",
            "accelerometer data/120.csv                     2020-01-30 11:40:54      3993252\n",
            "accelerometer data/121.csv                     2020-01-30 11:41:14      4000168\n",
            "accelerometer data/131.csv                     2020-01-30 11:41:46      4038166\n",
            "accelerometer data/132.csv                     2020-01-30 11:42:08      4003332\n",
            "accelerometer data/133.csv                     2020-01-30 11:42:24      4042357\n",
            "accelerometer data/170.csv                     2020-01-30 11:42:52      4004525\n",
            "accelerometer data/171.csv                     2020-01-30 11:43:14      4004967\n",
            "accelerometer data/172.csv                     2020-01-30 11:43:40      4002226\n",
            "accelerometer data/186.csv                     2020-01-30 11:44:00      4008765\n",
            "accelerometer data/187.csv                     2020-01-30 11:44:20      4006584\n",
            "accelerometer data/188.csv                     2020-01-30 11:44:42      4020563\n",
            "accelerometer data/198.csv                     2020-01-30 11:45:06      4014786\n",
            "accelerometer data/199.csv                     2020-01-30 11:45:28      4003815\n",
            "accelerometer data/200.csv                     2020-01-30 11:46:14      4010945\n",
            "accelerometer data/210.csv                     2020-01-30 11:46:34      4008265\n",
            "accelerometer data/211.csv                     2020-01-30 11:46:56      4016787\n",
            "accelerometer data/212.csv                     2020-01-30 11:47:20      4022576\n",
            "accelerometer data/223.csv                     2020-01-30 11:47:40      3994216\n",
            "accelerometer data/224.csv                     2020-01-30 11:48:00      4003215\n",
            "accelerometer data/225.csv                     2020-01-30 11:48:22      4004445\n",
            "accelerometer data/235.csv                     2020-01-30 11:48:46      4012735\n",
            "accelerometer data/236.csv                     2020-01-30 11:49:16      4021850\n",
            "accelerometer data/237.csv                     2020-01-30 11:49:44      4015048\n",
            "Extracting all the files now...\n",
            "Done!\n"
          ],
          "name": "stdout"
        }
      ]
    },
    {
      "cell_type": "code",
      "metadata": {
        "id": "wDb4n77-fLL9",
        "colab_type": "code",
        "colab": {}
      },
      "source": [
        "# Three Motor Load (HP)\n",
        "HP_1 = {0: '098.csv', 4: '106.csv', 1: '119.csv', 7: '131.csv', 5: '170.csv', 2: '186.csv', 8: '198.csv', 6: '210.csv', 3: '223.csv', 9: '235.csv'}\n",
        "HP_2 = {0: '099.csv', 4: '107.csv', 1: '120.csv', 7: '132.csv', 5: '171.csv', 2: '187.csv', 8: '199.csv', 6: '211.csv', 3: '224.csv', 9: '236.csv'}\n",
        "HP_3 = {0: '100.csv', 4: '108.csv', 1: '121.csv', 7: '133.csv', 5: '172.csv', 2: '173.csv', 8: '200.csv', 6: '212.csv', 3: '225.csv', 9: '237.csv'}"
      ],
      "execution_count": 0,
      "outputs": []
    },
    {
      "cell_type": "code",
      "metadata": {
        "id": "TFbvffrujnfI",
        "colab_type": "code",
        "colab": {}
      },
      "source": [
        "# List 10 types of fault\n",
        "faults = {0: 'Normal Fault', \n",
        "          1: 'Ball Fault for 0.007 Fault Diameter',    # For Three Motor Load\n",
        "          2: 'Ball Fault for 0.014 Fault Diameter',    # For Three Motor Load\n",
        "          3: 'Ball Fault for 0.021 Fault Diameter',    # For Three Motor Load\n",
        "          4: 'Inner Race Fault for 0.007 Fault Diameter',    # For Three Motor Load  \n",
        "          5: 'Inner Race Fault for 0.014 Fault Diameter',    # For Three Motor Load\n",
        "          6: 'Inner Race Fault for 0.021 Fault Diameter',    # For Three Motor Load\n",
        "          7: 'Outer Race Fault for 0.007 Fault Diameter',    # For Three Motor Load\n",
        "          8: 'Outer Race Fault for 0.014 Fault Diameter',    # For Three Motor Load\n",
        "          9: 'Outer Race Fault for 0.021 Fault Diameter'     # For Three Motor Load\n",
        "          }"
      ],
      "execution_count": 0,
      "outputs": []
    },
    {
      "cell_type": "code",
      "metadata": {
        "id": "m4R4mscihUfj",
        "colab_type": "code",
        "colab": {}
      },
      "source": [
        "import os\n",
        "from six.moves.urllib.request import urlretrieve\n",
        "\n",
        "import scipy.io\n",
        "import numpy as np\n",
        "import pandas as pd\n",
        "import matplotlib.pyplot as plt\n",
        "from six.moves import cPickle as pickle\n",
        "%matplotlib inline"
      ],
      "execution_count": 0,
      "outputs": []
    },
    {
      "cell_type": "code",
      "metadata": {
        "id": "ohc0_t6Qi-H7",
        "colab_type": "code",
        "colab": {}
      },
      "source": [
        "# Create Training and test dataset for Motor Load (HP_0)\n",
        "# We have missing data from Base on Normal\n",
        "channels = ['DE_time', 'FE_time']   # assume they only used 'DE_time' and 'FE_time' for bearing fault detection"
      ],
      "execution_count": 0,
      "outputs": []
    },
    {
      "cell_type": "code",
      "metadata": {
        "id": "TXSa0SabO3OC",
        "colab_type": "code",
        "outputId": "3e71c2b6-b2ca-4786-a37f-8ba6f97f6410",
        "colab": {
          "base_uri": "https://localhost:8080/",
          "height": 34
        }
      },
      "source": [
        "# change path\n",
        "cd /content/accelerometer data"
      ],
      "execution_count": 10,
      "outputs": [
        {
          "output_type": "stream",
          "text": [
            "/content/accelerometer data\n"
          ],
          "name": "stdout"
        }
      ]
    },
    {
      "cell_type": "code",
      "metadata": {
        "id": "hjPBtHDdEFnC",
        "colab_type": "code",
        "colab": {}
      },
      "source": [
        "# Create DataFrame for Motor Load (HP) -> 1\n",
        "HP_1_train = []\n",
        "HP_1_test = []"
      ],
      "execution_count": 0,
      "outputs": []
    },
    {
      "cell_type": "code",
      "metadata": {
        "id": "nUa1qu9sEFkR",
        "colab_type": "code",
        "colab": {}
      },
      "source": [
        "# iterate accross dictionary\n",
        "for key,val in HP_1.items():\n",
        "    df = pd.read_csv(val)\n",
        "    test_tmp = np.concatenate((df['DE_time'][:2048 * 25].values.reshape(25, 2048, 1), df['FE_time'][:2048 * 25].values.reshape(25, 2048, 1)), axis=2)\n",
        "    HP_1_test.append(test_tmp)"
      ],
      "execution_count": 0,
      "outputs": []
    },
    {
      "cell_type": "code",
      "metadata": {
        "id": "c0YdnChREFhD",
        "colab_type": "code",
        "colab": {
          "base_uri": "https://localhost:8080/",
          "height": 34
        },
        "outputId": "bcfd8e02-b1a0-41ed-9d4f-1d72776b2a9b"
      },
      "source": [
        "len(HP_1_test)"
      ],
      "execution_count": 13,
      "outputs": [
        {
          "output_type": "execute_result",
          "data": {
            "text/plain": [
              "10"
            ]
          },
          "metadata": {
            "tags": []
          },
          "execution_count": 13
        }
      ]
    },
    {
      "cell_type": "code",
      "metadata": {
        "id": "qYLzf8tUVM1d",
        "colab_type": "code",
        "colab": {
          "base_uri": "https://localhost:8080/",
          "height": 34
        },
        "outputId": "989b833f-1ca0-49b2-dc4c-f56aaa760ef6"
      },
      "source": [
        "HP_1_test[1].shape"
      ],
      "execution_count": 15,
      "outputs": [
        {
          "output_type": "execute_result",
          "data": {
            "text/plain": [
              "(25, 2048, 2)"
            ]
          },
          "metadata": {
            "tags": []
          },
          "execution_count": 15
        }
      ]
    },
    {
      "cell_type": "code",
      "metadata": {
        "id": "oAiUvGmAOVyV",
        "colab_type": "code",
        "outputId": "ed682644-3dd0-40ce-9ad4-5b35fafd7f7d",
        "colab": {
          "base_uri": "https://localhost:8080/",
          "height": 138
        }
      },
      "source": [
        "df = pd.read_csv('098.csv')\n",
        "df.info()"
      ],
      "execution_count": 0,
      "outputs": [
        {
          "output_type": "stream",
          "text": [
            "<class 'pandas.core.frame.DataFrame'>\n",
            "RangeIndex: 483903 entries, 0 to 483902\n",
            "Data columns (total 2 columns):\n",
            "DE_time    483903 non-null float64\n",
            "FE_time    483903 non-null float64\n",
            "dtypes: float64(2)\n",
            "memory usage: 7.4 MB\n"
          ],
          "name": "stdout"
        }
      ]
    },
    {
      "cell_type": "code",
      "metadata": {
        "id": "gW8XcK3xPLhD",
        "colab_type": "code",
        "outputId": "4c83f1a9-222f-49cd-dfaa-2878560f6382",
        "colab": {
          "base_uri": "https://localhost:8080/",
          "height": 265
        }
      },
      "source": [
        "# how data looks like\n",
        "sample = df['DE_time']\n",
        "plt.plot(sample[:128])\n",
        "plt.show()"
      ],
      "execution_count": 0,
      "outputs": [
        {
          "output_type": "display_data",
          "data": {
            "image/png": "[encoded data removed]",
            "text/plain": [
              "<Figure size 432x288 with 1 Axes>"
            ]
          },
          "metadata": {
            "tags": []
          }
        }
      ]
    },
    {
      "cell_type": "code",
      "metadata": {
        "id": "YuYqwVx4PrxX",
        "colab_type": "code",
        "outputId": "10c2bd64-f760-4c3f-f0fa-fe4f05881b4f",
        "colab": {
          "base_uri": "https://localhost:8080/",
          "height": 265
        }
      },
      "source": [
        "# how data looks like\n",
        "sample = df['FE_time']\n",
        "plt.plot(sample[:128])\n",
        "plt.show()"
      ],
      "execution_count": 0,
      "outputs": [
        {
          "output_type": "display_data",
          "data": {
            "image/png": "[encoded data removed]",
            "text/plain": [
              "<Figure size 432x288 with 1 Axes>"
            ]
          },
          "metadata": {
            "tags": []
          }
        }
      ]
    },
    {
      "cell_type": "code",
      "metadata": {
        "id": "EusZ6wJ_P5WM",
        "colab_type": "code",
        "colab": {}
      },
      "source": [
        "# For Test set\n",
        "# take 25 samples (each 2048 data points) from each series\n",
        "# to fit keras input\n",
        "sample_len = 2048\n",
        "sample_test_cnt = 25"
      ],
      "execution_count": 0,
      "outputs": []
    },
    {
      "cell_type": "code",
      "metadata": {
        "id": "IjisFCz4QZkI",
        "colab_type": "code",
        "colab": {}
      },
      "source": [
        "tmp = df['DE_time'][:sample_len * sample_test_cnt].values.reshape(sample_test_cnt, sample_len, 1)"
      ],
      "execution_count": 0,
      "outputs": []
    },
    {
      "cell_type": "code",
      "metadata": {
        "id": "3IYx6MuBRRcP",
        "colab_type": "code",
        "outputId": "3ef8c413-6c3b-4f70-933a-993eaaa00ac6",
        "colab": {
          "base_uri": "https://localhost:8080/",
          "height": 34
        }
      },
      "source": [
        "tmp.shape"
      ],
      "execution_count": 0,
      "outputs": [
        {
          "output_type": "execute_result",
          "data": {
            "text/plain": [
              "(25, 2048, 1)"
            ]
          },
          "metadata": {
            "tags": []
          },
          "execution_count": 21
        }
      ]
    },
    {
      "cell_type": "code",
      "metadata": {
        "id": "OciOdEh2RcgZ",
        "colab_type": "code",
        "colab": {}
      },
      "source": [
        "tmp_1 = df['FE_time'][:sample_len * sample_test_cnt].values.reshape(sample_test_cnt, sample_len, 1)"
      ],
      "execution_count": 0,
      "outputs": []
    },
    {
      "cell_type": "code",
      "metadata": {
        "id": "jXZk103pRw3J",
        "colab_type": "code",
        "outputId": "78422b7c-5734-4d35-a86e-4b7eb7130bc3",
        "colab": {
          "base_uri": "https://localhost:8080/",
          "height": 34
        }
      },
      "source": [
        "tmp_1.shape"
      ],
      "execution_count": 0,
      "outputs": [
        {
          "output_type": "execute_result",
          "data": {
            "text/plain": [
              "(25, 2048, 1)"
            ]
          },
          "metadata": {
            "tags": []
          },
          "execution_count": 23
        }
      ]
    },
    {
      "cell_type": "code",
      "metadata": {
        "id": "DcOV0jCkRywe",
        "colab_type": "code",
        "colab": {}
      },
      "source": [
        "test_tmp = np.concatenate((tmp, tmp_1), axis=2)"
      ],
      "execution_count": 0,
      "outputs": []
    },
    {
      "cell_type": "code",
      "metadata": {
        "id": "9t_kveArSA5Z",
        "colab_type": "code",
        "outputId": "580ac7a6-3c23-4336-e639-caa0748121a2",
        "colab": {
          "base_uri": "https://localhost:8080/",
          "height": 34
        }
      },
      "source": [
        "test_tmp.shape"
      ],
      "execution_count": 0,
      "outputs": [
        {
          "output_type": "execute_result",
          "data": {
            "text/plain": [
              "(25, 2048, 2)"
            ]
          },
          "metadata": {
            "tags": []
          },
          "execution_count": 27
        }
      ]
    },
    {
      "cell_type": "code",
      "metadata": {
        "id": "m_h8FfrASDF9",
        "colab_type": "code",
        "colab": {}
      },
      "source": [
        "# For Training Data (660, 2048, 2)\n",
        "sample_len = 2048\n",
        "sample_train_cnt = 660\n",
        "sample_train_shift = 103"
      ],
      "execution_count": 0,
      "outputs": []
    },
    {
      "cell_type": "code",
      "metadata": {
        "id": "W6FqFfIBSfZ6",
        "colab_type": "code",
        "colab": {}
      },
      "source": [
        "tmp = df['DE_time'][sample_len * sample_test_cnt : sample_len * sample_test_cnt + sample_len].values.reshape(1, sample_len, 1)"
      ],
      "execution_count": 0,
      "outputs": []
    },
    {
      "cell_type": "code",
      "metadata": {
        "id": "siVhfHGjTE5c",
        "colab_type": "code",
        "outputId": "3afb3a9c-9cf4-4809-8120-145008005b2a",
        "colab": {
          "base_uri": "https://localhost:8080/",
          "height": 34
        }
      },
      "source": [
        "tmp.shape"
      ],
      "execution_count": 0,
      "outputs": [
        {
          "output_type": "execute_result",
          "data": {
            "text/plain": [
              "(1, 2048, 1)"
            ]
          },
          "metadata": {
            "tags": []
          },
          "execution_count": 35
        }
      ]
    },
    {
      "cell_type": "code",
      "metadata": {
        "id": "X8zd__HVTbAL",
        "colab_type": "code",
        "colab": {}
      },
      "source": [
        "for i in range(659):\n",
        "  tmp_t = df['DE_time'][2048 * 25 + 103*(i+1) : 2048 * 25 + 2048+ 103*(i+1)].values.reshape(1, sample_len, 1)\n",
        "  tmp = np.concatenate((tmp, tmp_t), axis=0)"
      ],
      "execution_count": 0,
      "outputs": []
    },
    {
      "cell_type": "code",
      "metadata": {
        "id": "Ox30Pg1yTbIy",
        "colab_type": "code",
        "outputId": "4cc9d0ab-4d80-472e-fd81-5f2c6b5af613",
        "colab": {
          "base_uri": "https://localhost:8080/",
          "height": 34
        }
      },
      "source": [
        "tmp.shape"
      ],
      "execution_count": 0,
      "outputs": [
        {
          "output_type": "execute_result",
          "data": {
            "text/plain": [
              "(660, 2048, 1)"
            ]
          },
          "metadata": {
            "tags": []
          },
          "execution_count": 37
        }
      ]
    },
    {
      "cell_type": "code",
      "metadata": {
        "id": "Np5Dk6C6TGES",
        "colab_type": "code",
        "colab": {}
      },
      "source": [
        "tmp_1 = df['FE_time'][sample_len * sample_test_cnt : sample_len * sample_test_cnt + sample_len].values.reshape(1, sample_len, 1)"
      ],
      "execution_count": 0,
      "outputs": []
    },
    {
      "cell_type": "code",
      "metadata": {
        "id": "9re2aNgxTPR7",
        "colab_type": "code",
        "outputId": "f16ab2f9-a95f-468b-902f-22f34dcac823",
        "colab": {
          "base_uri": "https://localhost:8080/",
          "height": 34
        }
      },
      "source": [
        "tmp_1.shape"
      ],
      "execution_count": 0,
      "outputs": [
        {
          "output_type": "execute_result",
          "data": {
            "text/plain": [
              "(1, 2048, 1)"
            ]
          },
          "metadata": {
            "tags": []
          },
          "execution_count": 32
        }
      ]
    },
    {
      "cell_type": "code",
      "metadata": {
        "id": "nk71Hm5lTRYp",
        "colab_type": "code",
        "colab": {}
      },
      "source": [
        "for i in range(659):\n",
        "  tmp_1_t = df['DE_time'][2048 * 25 + 103*(i+1) : 2048 * 25 + 2048+ 103*(i+1)].values.reshape(1, sample_len, 1)\n",
        "  tmp_1 = np.concatenate((tmp_1, tmp_1_t), axis=0)"
      ],
      "execution_count": 0,
      "outputs": []
    },
    {
      "cell_type": "code",
      "metadata": {
        "id": "PF250kt5Yh4S",
        "colab_type": "code",
        "outputId": "37ce1a26-1de4-4b1f-a862-0dcbc7305ac1",
        "colab": {
          "base_uri": "https://localhost:8080/",
          "height": 34
        }
      },
      "source": [
        "tmp_1.shape"
      ],
      "execution_count": 0,
      "outputs": [
        {
          "output_type": "execute_result",
          "data": {
            "text/plain": [
              "(660, 2048, 1)"
            ]
          },
          "metadata": {
            "tags": []
          },
          "execution_count": 39
        }
      ]
    },
    {
      "cell_type": "code",
      "metadata": {
        "id": "brAvjGwGYkBm",
        "colab_type": "code",
        "colab": {}
      },
      "source": [
        "train_tmp = np.concatenate((tmp, tmp_1), axis=2)"
      ],
      "execution_count": 0,
      "outputs": []
    },
    {
      "cell_type": "code",
      "metadata": {
        "id": "Hcw6bOU1Yp94",
        "colab_type": "code",
        "outputId": "03504264-78da-4732-8d88-33775930ff43",
        "colab": {
          "base_uri": "https://localhost:8080/",
          "height": 34
        }
      },
      "source": [
        "train_tmp.shape"
      ],
      "execution_count": 0,
      "outputs": [
        {
          "output_type": "execute_result",
          "data": {
            "text/plain": [
              "(660, 2048, 2)"
            ]
          },
          "metadata": {
            "tags": []
          },
          "execution_count": 41
        }
      ]
    },
    {
      "cell_type": "code",
      "metadata": {
        "id": "TwTGy006YrkG",
        "colab_type": "code",
        "colab": {}
      },
      "source": [
        ""
      ],
      "execution_count": 0,
      "outputs": []
    }
  ]
}