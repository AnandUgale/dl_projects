{
  "nbformat": 4,
  "nbformat_minor": 0,
  "metadata": {
    "kernelspec": {
      "name": "python3",
      "display_name": "Python 3"
    },
    "language_info": {
      "codemirror_mode": {
        "name": "ipython",
        "version": 3
      },
      "file_extension": ".py",
      "mimetype": "text/x-python",
      "name": "python",
      "nbconvert_exporter": "python",
      "pygments_lexer": "ipython3",
      "version": "3.7.3"
    },
    "colab": {
      "name": "test_notebook.ipynb",
      "provenance": []
    },
    "accelerator": "GPU"
  },
  "cells": [
    {
      "cell_type": "markdown",
      "metadata": {
        "id": "JnlZHDctB3cx",
        "colab_type": "text"
      },
      "source": [
        "# Test Notebook for Deep Learining FrameWork"
      ]
    },
    {
      "cell_type": "code",
      "metadata": {
        "id": "XvD3CX2Fmt4a",
        "colab_type": "code",
        "colab": {
          "base_uri": "https://localhost:8080/",
          "height": 124
        },
        "outputId": "c805a4b1-b02e-45e6-f30a-001676596b93"
      },
      "source": [
        "# mount google drive\n",
        "from google.colab import drive\n",
        "drive.mount('/content/drive')"
      ],
      "execution_count": 1,
      "outputs": [
        {
          "output_type": "stream",
          "text": [
            "Go to this URL in a browser: https://accounts.google.com/o/oauth2/auth?client_id=947318989803-6bn6qk8qdgf4n4g3pfee6491hc0brc4i.apps.googleusercontent.com&redirect_uri=urn%3aietf%3awg%3aoauth%3a2.0%3aoob&response_type=code&scope=email%20https%3a%2f%2fwww.googleapis.com%2fauth%2fdocs.test%20https%3a%2f%2fwww.googleapis.com%2fauth%2fdrive%20https%3a%2f%2fwww.googleapis.com%2fauth%2fdrive.photos.readonly%20https%3a%2f%2fwww.googleapis.com%2fauth%2fpeopleapi.readonly\n",
            "\n",
            "Enter your authorization code:\n",
            "··········\n",
            "Mounted at /content/drive\n"
          ],
          "name": "stdout"
        }
      ]
    },
    {
      "cell_type": "code",
      "metadata": {
        "id": "gZXeFODKvneA",
        "colab_type": "code",
        "colab": {}
      },
      "source": [
        "import os\n",
        "import tarfile"
      ],
      "execution_count": 0,
      "outputs": []
    },
    {
      "cell_type": "code",
      "metadata": {
        "id": "p25EgcaXmumc",
        "colab_type": "code",
        "colab": {}
      },
      "source": [
        "# Create new folder\n",
        "FolderName = '/content/TextRecognition'\n",
        "\n",
        "if not os.path.exists(FolderName):\n",
        "  os.makedirs(FolderName)"
      ],
      "execution_count": 0,
      "outputs": []
    },
    {
      "cell_type": "code",
      "metadata": {
        "id": "ccCw9A8_m-A5",
        "colab_type": "code",
        "colab": {
          "base_uri": "https://localhost:8080/",
          "height": 34
        },
        "outputId": "3bc79faf-1743-42bd-e4bd-750632708432"
      },
      "source": [
        "cd /content/TextRecognition"
      ],
      "execution_count": 4,
      "outputs": [
        {
          "output_type": "stream",
          "text": [
            "/content/TextRecognition\n"
          ],
          "name": "stdout"
        }
      ]
    },
    {
      "cell_type": "code",
      "metadata": {
        "id": "81zHurz9wGuU",
        "colab_type": "code",
        "colab": {}
      },
      "source": [
        "my_tar = tarfile.open('/content/drive/My Drive/mjsynth.tar.gz')"
      ],
      "execution_count": 0,
      "outputs": []
    },
    {
      "cell_type": "code",
      "metadata": {
        "id": "f39lnPHawTOr",
        "colab_type": "code",
        "colab": {}
      },
      "source": [
        "my_tar.extractall()"
      ],
      "execution_count": 0,
      "outputs": []
    },
    {
      "cell_type": "code",
      "metadata": {
        "id": "oWA8xe67w1Rk",
        "colab_type": "code",
        "colab": {}
      },
      "source": [
        "my_tar.close()"
      ],
      "execution_count": 0,
      "outputs": []
    },
    {
      "cell_type": "code",
      "metadata": {
        "id": "0flbMMH53SSO",
        "colab_type": "code",
        "colab": {
          "base_uri": "https://localhost:8080/",
          "height": 98
        },
        "outputId": "0d3156c9-1cf4-4f54-ae13-e1e315d220a0"
      },
      "source": [
        "# Import\n",
        "import os\n",
        "import fnmatch\n",
        "import cv2\n",
        "import numpy as np\n",
        "import string\n",
        "import time\n",
        "\n",
        "from keras.preprocessing.sequence import pad_sequences\n",
        "\n",
        "from keras.layers import Dense, LSTM, Reshape, BatchNormalization, Input, Conv2D, MaxPool2D, Lambda, Bidirectional\n",
        "from keras.models import Model\n",
        "from keras.activations import relu, sigmoid, softmax\n",
        "import keras.backend as K\n",
        "from keras.utils import to_categorical\n",
        "from keras.callbacks import ModelCheckpoint"
      ],
      "execution_count": 11,
      "outputs": [
        {
          "output_type": "stream",
          "text": [
            "Using TensorFlow backend.\n"
          ],
          "name": "stderr"
        },
        {
          "output_type": "display_data",
          "data": {
            "text/html": [
              "<p style=\"color: red;\">\n",
              "The default version of TensorFlow in Colab will soon switch to TensorFlow 2.x.<br>\n",
              "We recommend you <a href=\"https://www.tensorflow.org/guide/migrate\" target=\"_blank\">upgrade</a> now \n",
              "or ensure your notebook will continue to use TensorFlow 1.x via the <code>%tensorflow_version 1.x</code> magic:\n",
              "<a href=\"https://colab.research.google.com/notebooks/tensorflow_version.ipynb\" target=\"_blank\">more info</a>.</p>\n"
            ],
            "text/plain": [
              "<IPython.core.display.HTML object>"
            ]
          },
          "metadata": {
            "tags": []
          }
        }
      ]
    },
    {
      "cell_type": "code",
      "metadata": {
        "id": "LQWOglGJ3X5S",
        "colab_type": "code",
        "colab": {}
      },
      "source": [
        "import tensorflow as tf\n",
        "\n",
        "#ignore warnings in the output\n",
        "tf.logging.set_verbosity(tf.logging.ERROR)"
      ],
      "execution_count": 0,
      "outputs": []
    },
    {
      "cell_type": "code",
      "metadata": {
        "id": "Avgd-2XF3bvB",
        "colab_type": "code",
        "colab": {
          "base_uri": "https://localhost:8080/",
          "height": 659
        },
        "outputId": "0c413b2a-1d26-4d50-a026-f72c8945d9ba"
      },
      "source": [
        "from tensorflow.python.client import device_lib\n",
        "\n",
        "# Check all available devices if GPU is available\n",
        "print(device_lib.list_local_devices())\n",
        "sess = tf.Session(config=tf.ConfigProto(log_device_placement=True))"
      ],
      "execution_count": 13,
      "outputs": [
        {
          "output_type": "stream",
          "text": [
            "[name: \"/device:CPU:0\"\n",
            "device_type: \"CPU\"\n",
            "memory_limit: 268435456\n",
            "locality {\n",
            "}\n",
            "incarnation: 932421052639660254\n",
            ", name: \"/device:XLA_CPU:0\"\n",
            "device_type: \"XLA_CPU\"\n",
            "memory_limit: 17179869184\n",
            "locality {\n",
            "}\n",
            "incarnation: 11289911078658077236\n",
            "physical_device_desc: \"device: XLA_CPU device\"\n",
            ", name: \"/device:XLA_GPU:0\"\n",
            "device_type: \"XLA_GPU\"\n",
            "memory_limit: 17179869184\n",
            "locality {\n",
            "}\n",
            "incarnation: 7861498589132607438\n",
            "physical_device_desc: \"device: XLA_GPU device\"\n",
            ", name: \"/device:GPU:0\"\n",
            "device_type: \"GPU\"\n",
            "memory_limit: 15956161332\n",
            "locality {\n",
            "  bus_id: 1\n",
            "  links {\n",
            "  }\n",
            "}\n",
            "incarnation: 14510527023313263176\n",
            "physical_device_desc: \"device: 0, name: Tesla P100-PCIE-16GB, pci bus id: 0000:00:04.0, compute capability: 6.0\"\n",
            "]\n",
            "Device mapping:\n",
            "/job:localhost/replica:0/task:0/device:XLA_CPU:0 -> device: XLA_CPU device\n",
            "/job:localhost/replica:0/task:0/device:XLA_GPU:0 -> device: XLA_GPU device\n",
            "/job:localhost/replica:0/task:0/device:GPU:0 -> device: 0, name: Tesla P100-PCIE-16GB, pci bus id: 0000:00:04.0, compute capability: 6.0\n",
            "\n"
          ],
          "name": "stdout"
        }
      ]
    },
    {
      "cell_type": "code",
      "metadata": {
        "id": "I5DeTxuZ3fQ_",
        "colab_type": "code",
        "colab": {}
      },
      "source": [
        "# Preprocessing\n",
        "# char_list:   'abcdefghijklmnopqrstuvwxyzABCDEFGHIJKLMNOPQRSTUVWXYZ0123456789'\n",
        "# total number of our output classes: len(char_list)\n",
        "char_list = string.ascii_letters+string.digits\n",
        " \n",
        "def encode_to_labels(txt):\n",
        "    # encoding each output word into digits\n",
        "    dig_lst = []\n",
        "    for index, char in enumerate(txt):\n",
        "        try:\n",
        "            dig_lst.append(char_list.index(char))\n",
        "        except:\n",
        "            print(char)\n",
        "        \n",
        "    return dig_lst"
      ],
      "execution_count": 0,
      "outputs": []
    },
    {
      "cell_type": "code",
      "metadata": {
        "id": "UWpXa-Q53l8i",
        "colab_type": "code",
        "colab": {}
      },
      "source": [
        "path = '/content/TextRecognition/mnt/ramdisk/max/90kDICT32px'\n",
        " \n",
        " \n",
        "# lists for training dataset\n",
        "training_img = []\n",
        "training_txt = []\n",
        "train_input_length = []\n",
        "train_label_length = []\n",
        "orig_txt = []\n",
        " \n",
        "#lists for validation dataset\n",
        "valid_img = []\n",
        "valid_txt = []\n",
        "valid_input_length = []\n",
        "valid_label_length = []\n",
        "valid_orig_txt = []\n",
        " \n",
        "max_label_len = 0\n",
        " \n",
        "i =1 \n",
        "flag = 0\n",
        " \n",
        "for root, dirnames, filenames in os.walk(path):\n",
        " \n",
        "    for f_name in fnmatch.filter(filenames, '*.jpg'):\n",
        "        # read input image and convert into gray scale image\n",
        "        img = cv2.cvtColor(cv2.imread(os.path.join(root, f_name)), cv2.COLOR_BGR2GRAY)   \n",
        " \n",
        "        # convert each image of shape (32, 128, 1)\n",
        "        w, h = img.shape\n",
        "        if h > 128 or w > 32:\n",
        "            continue\n",
        "        if w < 32:\n",
        "            add_zeros = np.ones((32-w, h))*255\n",
        "            img = np.concatenate((img, add_zeros))\n",
        " \n",
        "        if h < 128:\n",
        "            add_zeros = np.ones((32, 128-h))*255\n",
        "            img = np.concatenate((img, add_zeros), axis=1)\n",
        "        img = np.expand_dims(img , axis = 2)\n",
        "        \n",
        "        # Normalize each image\n",
        "        img = img/255.\n",
        "        \n",
        "        # get the text from the image\n",
        "        txt = f_name.split('_')[1]\n",
        "        \n",
        "        # compute maximum length of the text\n",
        "        if len(txt) > max_label_len:\n",
        "            max_label_len = len(txt)\n",
        "            \n",
        "           \n",
        "        # split the 150000 data into validation and training dataset as 10% and 90% respectively\n",
        "        if i%10 == 0:     \n",
        "            valid_orig_txt.append(txt)   \n",
        "            valid_label_length.append(len(txt))\n",
        "            valid_input_length.append(31)\n",
        "            valid_img.append(img)\n",
        "            valid_txt.append(encode_to_labels(txt))\n",
        "        else:\n",
        "            orig_txt.append(txt)   \n",
        "            train_label_length.append(len(txt))\n",
        "            train_input_length.append(31)\n",
        "            training_img.append(img)\n",
        "            training_txt.append(encode_to_labels(txt)) \n",
        "        \n",
        "        # break the loop if total data is 150000\n",
        "        if i == 150000:\n",
        "            flag = 1\n",
        "            break\n",
        "        i+=1\n",
        "    if flag == 1:\n",
        "        break"
      ],
      "execution_count": 0,
      "outputs": []
    },
    {
      "cell_type": "code",
      "metadata": {
        "id": "H9c_8SXH3uMt",
        "colab_type": "code",
        "colab": {}
      },
      "source": [
        "# pad each output label to maximum text length\n",
        " \n",
        "train_padded_txt = pad_sequences(training_txt, maxlen=max_label_len, padding='post', value = len(char_list))\n",
        "valid_padded_txt = pad_sequences(valid_txt, maxlen=max_label_len, padding='post', value = len(char_list))"
      ],
      "execution_count": 0,
      "outputs": []
    },
    {
      "cell_type": "code",
      "metadata": {
        "id": "dUZH7QGM7qh1",
        "colab_type": "code",
        "colab": {}
      },
      "source": [
        "# input with shape of height=32 and width=128 \n",
        "inputs = Input(shape=(32,128,1))\n",
        " \n",
        "# convolution layer with kernel size (3,3)\n",
        "conv_1 = Conv2D(64, (3,3), activation = 'relu', padding='same')(inputs)\n",
        "# poolig layer with kernel size (2,2)\n",
        "pool_1 = MaxPool2D(pool_size=(2, 2), strides=2)(conv_1)\n",
        " \n",
        "conv_2 = Conv2D(128, (3,3), activation = 'relu', padding='same')(pool_1)\n",
        "pool_2 = MaxPool2D(pool_size=(2, 2), strides=2)(conv_2)\n",
        " \n",
        "conv_3 = Conv2D(256, (3,3), activation = 'relu', padding='same')(pool_2)\n",
        " \n",
        "conv_4 = Conv2D(256, (3,3), activation = 'relu', padding='same')(conv_3)\n",
        "# poolig layer with kernel size (2,1)\n",
        "pool_4 = MaxPool2D(pool_size=(2, 1))(conv_4)\n",
        " \n",
        "conv_5 = Conv2D(512, (3,3), activation = 'relu', padding='same')(pool_4)\n",
        "# Batch normalization layer\n",
        "batch_norm_5 = BatchNormalization()(conv_5)\n",
        " \n",
        "conv_6 = Conv2D(512, (3,3), activation = 'relu', padding='same')(batch_norm_5)\n",
        "batch_norm_6 = BatchNormalization()(conv_6)\n",
        "pool_6 = MaxPool2D(pool_size=(2, 1))(batch_norm_6)\n",
        " \n",
        "conv_7 = Conv2D(512, (2,2), activation = 'relu')(pool_6)\n",
        " \n",
        "squeezed = Lambda(lambda x: K.squeeze(x, 1))(conv_7)\n",
        " \n",
        "# bidirectional LSTM layers with units=128\n",
        "blstm_1 = Bidirectional(LSTM(128, return_sequences=True, dropout = 0.2))(squeezed)\n",
        "blstm_2 = Bidirectional(LSTM(128, return_sequences=True, dropout = 0.2))(blstm_1)\n",
        " \n",
        "outputs = Dense(len(char_list)+1, activation = 'softmax')(blstm_2)\n",
        "\n",
        "# model to be used at test time\n",
        "act_model = Model(inputs, outputs)"
      ],
      "execution_count": 0,
      "outputs": []
    },
    {
      "cell_type": "code",
      "metadata": {
        "id": "VydNBOXy7twZ",
        "colab_type": "code",
        "colab": {
          "base_uri": "https://localhost:8080/",
          "height": 777
        },
        "outputId": "971b2e0d-3fe3-4042-8ef7-d36d961e93a7"
      },
      "source": [
        "act_model.summary()"
      ],
      "execution_count": 18,
      "outputs": [
        {
          "output_type": "stream",
          "text": [
            "Model: \"model_1\"\n",
            "_________________________________________________________________\n",
            "Layer (type)                 Output Shape              Param #   \n",
            "=================================================================\n",
            "input_1 (InputLayer)         (None, 32, 128, 1)        0         \n",
            "_________________________________________________________________\n",
            "conv2d_1 (Conv2D)            (None, 32, 128, 64)       640       \n",
            "_________________________________________________________________\n",
            "max_pooling2d_1 (MaxPooling2 (None, 16, 64, 64)        0         \n",
            "_________________________________________________________________\n",
            "conv2d_2 (Conv2D)            (None, 16, 64, 128)       73856     \n",
            "_________________________________________________________________\n",
            "max_pooling2d_2 (MaxPooling2 (None, 8, 32, 128)        0         \n",
            "_________________________________________________________________\n",
            "conv2d_3 (Conv2D)            (None, 8, 32, 256)        295168    \n",
            "_________________________________________________________________\n",
            "conv2d_4 (Conv2D)            (None, 8, 32, 256)        590080    \n",
            "_________________________________________________________________\n",
            "max_pooling2d_3 (MaxPooling2 (None, 4, 32, 256)        0         \n",
            "_________________________________________________________________\n",
            "conv2d_5 (Conv2D)            (None, 4, 32, 512)        1180160   \n",
            "_________________________________________________________________\n",
            "batch_normalization_1 (Batch (None, 4, 32, 512)        2048      \n",
            "_________________________________________________________________\n",
            "conv2d_6 (Conv2D)            (None, 4, 32, 512)        2359808   \n",
            "_________________________________________________________________\n",
            "batch_normalization_2 (Batch (None, 4, 32, 512)        2048      \n",
            "_________________________________________________________________\n",
            "max_pooling2d_4 (MaxPooling2 (None, 2, 32, 512)        0         \n",
            "_________________________________________________________________\n",
            "conv2d_7 (Conv2D)            (None, 1, 31, 512)        1049088   \n",
            "_________________________________________________________________\n",
            "lambda_1 (Lambda)            (None, 31, 512)           0         \n",
            "_________________________________________________________________\n",
            "bidirectional_1 (Bidirection (None, 31, 256)           656384    \n",
            "_________________________________________________________________\n",
            "bidirectional_2 (Bidirection (None, 31, 256)           394240    \n",
            "_________________________________________________________________\n",
            "dense_1 (Dense)              (None, 31, 63)            16191     \n",
            "=================================================================\n",
            "Total params: 6,619,711\n",
            "Trainable params: 6,617,663\n",
            "Non-trainable params: 2,048\n",
            "_________________________________________________________________\n"
          ],
          "name": "stdout"
        }
      ]
    },
    {
      "cell_type": "code",
      "metadata": {
        "id": "YZNf2ogN7yrl",
        "colab_type": "code",
        "colab": {}
      },
      "source": [
        "# Loss Function\n",
        "labels = Input(name='the_labels', shape=[max_label_len], dtype='float32')\n",
        "input_length = Input(name='input_length', shape=[1], dtype='int64')\n",
        "label_length = Input(name='label_length', shape=[1], dtype='int64')\n",
        " \n",
        " \n",
        "def ctc_lambda_func(args):\n",
        "    y_pred, labels, input_length, label_length = args\n",
        " \n",
        "    return K.ctc_batch_cost(labels, y_pred, input_length, label_length)\n",
        " \n",
        " \n",
        "loss_out = Lambda(ctc_lambda_func, output_shape=(1,), name='ctc')([outputs, labels, input_length, label_length])\n",
        "\n",
        "#model to be used at training time\n",
        "model = Model(inputs=[inputs, labels, input_length, label_length], outputs=loss_out)"
      ],
      "execution_count": 0,
      "outputs": []
    },
    {
      "cell_type": "code",
      "metadata": {
        "id": "C6f8HZFF75wv",
        "colab_type": "code",
        "colab": {}
      },
      "source": [
        "# train the Model\n",
        "model.compile(loss={'ctc': lambda y_true, y_pred: y_pred}, optimizer = 'adam')\n",
        " \n",
        "filepath=\"best_model.hdf5\"\n",
        "checkpoint = ModelCheckpoint(filepath=filepath, monitor='val_loss', verbose=1, save_best_only=True, mode='auto')\n",
        "callbacks_list = [checkpoint]"
      ],
      "execution_count": 0,
      "outputs": []
    },
    {
      "cell_type": "code",
      "metadata": {
        "id": "QVZ4QLOF8AFi",
        "colab_type": "code",
        "colab": {}
      },
      "source": [
        "training_img = np.array(training_img)\n",
        "train_input_length = np.array(train_input_length)\n",
        "train_label_length = np.array(train_label_length)\n",
        "\n",
        "valid_img = np.array(valid_img)\n",
        "valid_input_length = np.array(valid_input_length)\n",
        "valid_label_length = np.array(valid_label_length)"
      ],
      "execution_count": 0,
      "outputs": []
    },
    {
      "cell_type": "code",
      "metadata": {
        "id": "B6hQzx9a8B9J",
        "colab_type": "code",
        "colab": {
          "base_uri": "https://localhost:8080/",
          "height": 743
        },
        "outputId": "341ed30f-11a3-4da6-d091-a354c7f94509"
      },
      "source": [
        "batch_size = 256\n",
        "epochs = 10\n",
        "model.fit(x=[training_img, train_padded_txt, train_input_length, train_label_length], y=np.zeros(len(training_img)), batch_size=batch_size, epochs = epochs, validation_data = ([valid_img, valid_padded_txt, valid_input_length, valid_label_length], [np.zeros(len(valid_img))]), verbose = 1, callbacks = callbacks_list)"
      ],
      "execution_count": 22,
      "outputs": [
        {
          "output_type": "stream",
          "text": [
            "Train on 135000 samples, validate on 15000 samples\n",
            "Epoch 1/10\n",
            "135000/135000 [==============================] - 240s 2ms/step - loss: 27.0459 - val_loss: 29.4470\n",
            "\n",
            "Epoch 00001: val_loss improved from inf to 29.44695, saving model to best_model.hdf5\n",
            "Epoch 2/10\n",
            "135000/135000 [==============================] - 223s 2ms/step - loss: 16.3180 - val_loss: 7.8861\n",
            "\n",
            "Epoch 00002: val_loss improved from 29.44695 to 7.88606, saving model to best_model.hdf5\n",
            "Epoch 3/10\n",
            "135000/135000 [==============================] - 223s 2ms/step - loss: 5.3282 - val_loss: 4.4830\n",
            "\n",
            "Epoch 00003: val_loss improved from 7.88606 to 4.48301, saving model to best_model.hdf5\n",
            "Epoch 4/10\n",
            "135000/135000 [==============================] - 221s 2ms/step - loss: 3.7811 - val_loss: 4.4772\n",
            "\n",
            "Epoch 00004: val_loss improved from 4.48301 to 4.47718, saving model to best_model.hdf5\n",
            "Epoch 5/10\n",
            "135000/135000 [==============================] - 220s 2ms/step - loss: 3.1996 - val_loss: 3.2762\n",
            "\n",
            "Epoch 00005: val_loss improved from 4.47718 to 3.27621, saving model to best_model.hdf5\n",
            "Epoch 6/10\n",
            "135000/135000 [==============================] - 222s 2ms/step - loss: 2.7335 - val_loss: 3.1636\n",
            "\n",
            "Epoch 00006: val_loss improved from 3.27621 to 3.16363, saving model to best_model.hdf5\n",
            "Epoch 7/10\n",
            "135000/135000 [==============================] - 224s 2ms/step - loss: 2.4401 - val_loss: 3.0837\n",
            "\n",
            "Epoch 00007: val_loss improved from 3.16363 to 3.08369, saving model to best_model.hdf5\n",
            "Epoch 8/10\n",
            "135000/135000 [==============================] - 219s 2ms/step - loss: 2.2215 - val_loss: 2.9172\n",
            "\n",
            "Epoch 00008: val_loss improved from 3.08369 to 2.91718, saving model to best_model.hdf5\n",
            "Epoch 9/10\n",
            "135000/135000 [==============================] - 216s 2ms/step - loss: 2.0531 - val_loss: 2.8411\n",
            "\n",
            "Epoch 00009: val_loss improved from 2.91718 to 2.84112, saving model to best_model.hdf5\n",
            "Epoch 10/10\n",
            "135000/135000 [==============================] - 216s 2ms/step - loss: 1.8980 - val_loss: 2.9802\n",
            "\n",
            "Epoch 00010: val_loss did not improve from 2.84112\n"
          ],
          "name": "stdout"
        },
        {
          "output_type": "execute_result",
          "data": {
            "text/plain": [
              "<keras.callbacks.History at 0x7f32a9b07fd0>"
            ]
          },
          "metadata": {
            "tags": []
          },
          "execution_count": 22
        }
      ]
    },
    {
      "cell_type": "code",
      "metadata": {
        "id": "6nJf2QgA8M_R",
        "colab_type": "code",
        "colab": {}
      },
      "source": [
        "import shutil"
      ],
      "execution_count": 0,
      "outputs": []
    },
    {
      "cell_type": "code",
      "metadata": {
        "id": "YkdOwuhsEv_W",
        "colab_type": "code",
        "colab": {
          "base_uri": "https://localhost:8080/",
          "height": 34
        },
        "outputId": "98543fc8-ce4e-4635-b34c-e54a34e188c9"
      },
      "source": [
        "shutil.copy('/content/TextRecognition/best_model.hdf5', '/content/drive/My Drive/best_model.hdf5')"
      ],
      "execution_count": 24,
      "outputs": [
        {
          "output_type": "execute_result",
          "data": {
            "text/plain": [
              "'/content/drive/My Drive/best_model.hdf5'"
            ]
          },
          "metadata": {
            "tags": []
          },
          "execution_count": 24
        }
      ]
    },
    {
      "cell_type": "code",
      "metadata": {
        "id": "7wwjvfJUE7VH",
        "colab_type": "code",
        "colab": {
          "base_uri": "https://localhost:8080/",
          "height": 536
        },
        "outputId": "8fdd6764-a598-495d-e54c-4c1419f45a2d"
      },
      "source": [
        "# load the saved best model weights\n",
        "act_model.load_weights('best_model.hdf5')\n",
        " \n",
        "# predict outputs on validation images\n",
        "prediction = act_model.predict(valid_img[30:40])\n",
        " \n",
        "# use CTC decoder\n",
        "out = K.get_value(K.ctc_decode(prediction, input_length=np.ones(prediction.shape[0])*prediction.shape[1],\n",
        "                         greedy=True)[0][0])\n",
        " \n",
        "# see the results\n",
        "i = 30\n",
        "for x in out:\n",
        "    print(\"original_text =  \", valid_orig_txt[i])\n",
        "    print(\"predicted text = \", end = '')\n",
        "    for p in x:  \n",
        "        if int(p) != -1:\n",
        "            print(spell.correction(char_list[int(p)]), end = '')       \n",
        "    print('\\n')\n",
        "    i+=1"
      ],
      "execution_count": 36,
      "outputs": [
        {
          "output_type": "stream",
          "text": [
            "original_text =   Staff\n",
            "predicted text = StEff\n",
            "\n",
            "original_text =   unsightlier\n",
            "predicted text = unsightlier\n",
            "\n",
            "original_text =   premeditation\n",
            "predicted text = premeditation\n",
            "\n",
            "original_text =   Softer\n",
            "predicted text = Softer\n",
            "\n",
            "original_text =   DEPILATORIES\n",
            "predicted text = DEPILATORIES\n",
            "\n",
            "original_text =   outed\n",
            "predicted text = Orted\n",
            "\n",
            "original_text =   RENEWED\n",
            "predicted text = RENEWED\n",
            "\n",
            "original_text =   replant\n",
            "predicted text = replant\n",
            "\n",
            "original_text =   feedlots\n",
            "predicted text = feedlots\n",
            "\n",
            "original_text =   NACELLES\n",
            "predicted text = NACELLES\n",
            "\n"
          ],
          "name": "stdout"
        }
      ]
    },
    {
      "cell_type": "code",
      "metadata": {
        "id": "wPjBHwxlFCxU",
        "colab_type": "code",
        "colab": {
          "base_uri": "https://localhost:8080/",
          "height": 124
        },
        "outputId": "a4bdd39d-4a9d-45a1-dec7-e6d7663b22fb"
      },
      "source": [
        "!pip install pyspellchecker"
      ],
      "execution_count": 29,
      "outputs": [
        {
          "output_type": "stream",
          "text": [
            "Collecting pyspellchecker\n",
            "\u001b[?25l  Downloading https://files.pythonhosted.org/packages/93/24/9a570f49dfefc16e9ce1f483bb2d5bff701b95094e051db502e3c11f5092/pyspellchecker-0.5.3-py2.py3-none-any.whl (1.9MB)\n",
            "\r\u001b[K     |▏                               | 10kB 26.5MB/s eta 0:00:01\r\u001b[K     |▍                               | 20kB 2.9MB/s eta 0:00:01\r\u001b[K     |▌                               | 30kB 4.3MB/s eta 0:00:01\r\u001b[K     |▊                               | 40kB 2.8MB/s eta 0:00:01\r\u001b[K     |▉                               | 51kB 3.5MB/s eta 0:00:01\r\u001b[K     |█                               | 61kB 4.1MB/s eta 0:00:01\r\u001b[K     |█▏                              | 71kB 4.7MB/s eta 0:00:01\r\u001b[K     |█▍                              | 81kB 5.4MB/s eta 0:00:01\r\u001b[K     |█▌                              | 92kB 6.0MB/s eta 0:00:01\r\u001b[K     |█▊                              | 102kB 4.6MB/s eta 0:00:01\r\u001b[K     |█▉                              | 112kB 4.6MB/s eta 0:00:01\r\u001b[K     |██                              | 122kB 4.6MB/s eta 0:00:01\r\u001b[K     |██▎                             | 133kB 4.6MB/s eta 0:00:01\r\u001b[K     |██▍                             | 143kB 4.6MB/s eta 0:00:01\r\u001b[K     |██▋                             | 153kB 4.6MB/s eta 0:00:01\r\u001b[K     |██▊                             | 163kB 4.6MB/s eta 0:00:01\r\u001b[K     |███                             | 174kB 4.6MB/s eta 0:00:01\r\u001b[K     |███                             | 184kB 4.6MB/s eta 0:00:01\r\u001b[K     |███▎                            | 194kB 4.6MB/s eta 0:00:01\r\u001b[K     |███▍                            | 204kB 4.6MB/s eta 0:00:01\r\u001b[K     |███▋                            | 215kB 4.6MB/s eta 0:00:01\r\u001b[K     |███▊                            | 225kB 4.6MB/s eta 0:00:01\r\u001b[K     |████                            | 235kB 4.6MB/s eta 0:00:01\r\u001b[K     |████▏                           | 245kB 4.6MB/s eta 0:00:01\r\u001b[K     |████▎                           | 256kB 4.6MB/s eta 0:00:01\r\u001b[K     |████▌                           | 266kB 4.6MB/s eta 0:00:01\r\u001b[K     |████▋                           | 276kB 4.6MB/s eta 0:00:01\r\u001b[K     |████▉                           | 286kB 4.6MB/s eta 0:00:01\r\u001b[K     |█████                           | 296kB 4.6MB/s eta 0:00:01\r\u001b[K     |█████▏                          | 307kB 4.6MB/s eta 0:00:01\r\u001b[K     |█████▎                          | 317kB 4.6MB/s eta 0:00:01\r\u001b[K     |█████▌                          | 327kB 4.6MB/s eta 0:00:01\r\u001b[K     |█████▋                          | 337kB 4.6MB/s eta 0:00:01\r\u001b[K     |█████▉                          | 348kB 4.6MB/s eta 0:00:01\r\u001b[K     |██████                          | 358kB 4.6MB/s eta 0:00:01\r\u001b[K     |██████▏                         | 368kB 4.6MB/s eta 0:00:01\r\u001b[K     |██████▍                         | 378kB 4.6MB/s eta 0:00:01\r\u001b[K     |██████▌                         | 389kB 4.6MB/s eta 0:00:01\r\u001b[K     |██████▊                         | 399kB 4.6MB/s eta 0:00:01\r\u001b[K     |██████▉                         | 409kB 4.6MB/s eta 0:00:01\r\u001b[K     |███████                         | 419kB 4.6MB/s eta 0:00:01\r\u001b[K     |███████▏                        | 430kB 4.6MB/s eta 0:00:01\r\u001b[K     |███████▍                        | 440kB 4.6MB/s eta 0:00:01\r\u001b[K     |███████▌                        | 450kB 4.6MB/s eta 0:00:01\r\u001b[K     |███████▊                        | 460kB 4.6MB/s eta 0:00:01\r\u001b[K     |████████                        | 471kB 4.6MB/s eta 0:00:01\r\u001b[K     |████████                        | 481kB 4.6MB/s eta 0:00:01\r\u001b[K     |████████▎                       | 491kB 4.6MB/s eta 0:00:01\r\u001b[K     |████████▍                       | 501kB 4.6MB/s eta 0:00:01\r\u001b[K     |████████▋                       | 512kB 4.6MB/s eta 0:00:01\r\u001b[K     |████████▊                       | 522kB 4.6MB/s eta 0:00:01\r\u001b[K     |█████████                       | 532kB 4.6MB/s eta 0:00:01\r\u001b[K     |█████████                       | 542kB 4.6MB/s eta 0:00:01\r\u001b[K     |█████████▎                      | 552kB 4.6MB/s eta 0:00:01\r\u001b[K     |█████████▍                      | 563kB 4.6MB/s eta 0:00:01\r\u001b[K     |█████████▋                      | 573kB 4.6MB/s eta 0:00:01\r\u001b[K     |█████████▉                      | 583kB 4.6MB/s eta 0:00:01\r\u001b[K     |██████████                      | 593kB 4.6MB/s eta 0:00:01\r\u001b[K     |██████████▏                     | 604kB 4.6MB/s eta 0:00:01\r\u001b[K     |██████████▎                     | 614kB 4.6MB/s eta 0:00:01\r\u001b[K     |██████████▌                     | 624kB 4.6MB/s eta 0:00:01\r\u001b[K     |██████████▋                     | 634kB 4.6MB/s eta 0:00:01\r\u001b[K     |██████████▉                     | 645kB 4.6MB/s eta 0:00:01\r\u001b[K     |███████████                     | 655kB 4.6MB/s eta 0:00:01\r\u001b[K     |███████████▏                    | 665kB 4.6MB/s eta 0:00:01\r\u001b[K     |███████████▎                    | 675kB 4.6MB/s eta 0:00:01\r\u001b[K     |███████████▌                    | 686kB 4.6MB/s eta 0:00:01\r\u001b[K     |███████████▊                    | 696kB 4.6MB/s eta 0:00:01\r\u001b[K     |███████████▉                    | 706kB 4.6MB/s eta 0:00:01\r\u001b[K     |████████████                    | 716kB 4.6MB/s eta 0:00:01\r\u001b[K     |████████████▏                   | 727kB 4.6MB/s eta 0:00:01\r\u001b[K     |████████████▍                   | 737kB 4.6MB/s eta 0:00:01\r\u001b[K     |████████████▌                   | 747kB 4.6MB/s eta 0:00:01\r\u001b[K     |████████████▊                   | 757kB 4.6MB/s eta 0:00:01\r\u001b[K     |████████████▉                   | 768kB 4.6MB/s eta 0:00:01\r\u001b[K     |█████████████                   | 778kB 4.6MB/s eta 0:00:01\r\u001b[K     |█████████████▏                  | 788kB 4.6MB/s eta 0:00:01\r\u001b[K     |█████████████▍                  | 798kB 4.6MB/s eta 0:00:01\r\u001b[K     |█████████████▋                  | 808kB 4.6MB/s eta 0:00:01\r\u001b[K     |█████████████▊                  | 819kB 4.6MB/s eta 0:00:01\r\u001b[K     |██████████████                  | 829kB 4.6MB/s eta 0:00:01\r\u001b[K     |██████████████                  | 839kB 4.6MB/s eta 0:00:01\r\u001b[K     |██████████████▎                 | 849kB 4.6MB/s eta 0:00:01\r\u001b[K     |██████████████▍                 | 860kB 4.6MB/s eta 0:00:01\r\u001b[K     |██████████████▋                 | 870kB 4.6MB/s eta 0:00:01\r\u001b[K     |██████████████▊                 | 880kB 4.6MB/s eta 0:00:01\r\u001b[K     |███████████████                 | 890kB 4.6MB/s eta 0:00:01\r\u001b[K     |███████████████                 | 901kB 4.6MB/s eta 0:00:01\r\u001b[K     |███████████████▎                | 911kB 4.6MB/s eta 0:00:01\r\u001b[K     |███████████████▌                | 921kB 4.6MB/s eta 0:00:01\r\u001b[K     |███████████████▋                | 931kB 4.6MB/s eta 0:00:01\r\u001b[K     |███████████████▉                | 942kB 4.6MB/s eta 0:00:01\r\u001b[K     |████████████████                | 952kB 4.6MB/s eta 0:00:01\r\u001b[K     |████████████████▏               | 962kB 4.6MB/s eta 0:00:01\r\u001b[K     |████████████████▎               | 972kB 4.6MB/s eta 0:00:01\r\u001b[K     |████████████████▌               | 983kB 4.6MB/s eta 0:00:01\r\u001b[K     |████████████████▋               | 993kB 4.6MB/s eta 0:00:01\r\u001b[K     |████████████████▉               | 1.0MB 4.6MB/s eta 0:00:01\r\u001b[K     |█████████████████               | 1.0MB 4.6MB/s eta 0:00:01\r\u001b[K     |█████████████████▏              | 1.0MB 4.6MB/s eta 0:00:01\r\u001b[K     |█████████████████▍              | 1.0MB 4.6MB/s eta 0:00:01\r\u001b[K     |█████████████████▌              | 1.0MB 4.6MB/s eta 0:00:01\r\u001b[K     |█████████████████▊              | 1.1MB 4.6MB/s eta 0:00:01\r\u001b[K     |█████████████████▉              | 1.1MB 4.6MB/s eta 0:00:01\r\u001b[K     |██████████████████              | 1.1MB 4.6MB/s eta 0:00:01\r\u001b[K     |██████████████████▏             | 1.1MB 4.6MB/s eta 0:00:01\r\u001b[K     |██████████████████▍             | 1.1MB 4.6MB/s eta 0:00:01\r\u001b[K     |██████████████████▌             | 1.1MB 4.6MB/s eta 0:00:01\r\u001b[K     |██████████████████▊             | 1.1MB 4.6MB/s eta 0:00:01\r\u001b[K     |██████████████████▉             | 1.1MB 4.6MB/s eta 0:00:01\r\u001b[K     |███████████████████             | 1.1MB 4.6MB/s eta 0:00:01\r\u001b[K     |███████████████████▎            | 1.1MB 4.6MB/s eta 0:00:01\r\u001b[K     |███████████████████▍            | 1.2MB 4.6MB/s eta 0:00:01\r\u001b[K     |███████████████████▋            | 1.2MB 4.6MB/s eta 0:00:01\r\u001b[K     |███████████████████▊            | 1.2MB 4.6MB/s eta 0:00:01\r\u001b[K     |████████████████████            | 1.2MB 4.6MB/s eta 0:00:01\r\u001b[K     |████████████████████            | 1.2MB 4.6MB/s eta 0:00:01\r\u001b[K     |████████████████████▎           | 1.2MB 4.6MB/s eta 0:00:01\r\u001b[K     |████████████████████▍           | 1.2MB 4.6MB/s eta 0:00:01\r\u001b[K     |████████████████████▋           | 1.2MB 4.6MB/s eta 0:00:01\r\u001b[K     |████████████████████▊           | 1.2MB 4.6MB/s eta 0:00:01\r\u001b[K     |█████████████████████           | 1.2MB 4.6MB/s eta 0:00:01\r\u001b[K     |█████████████████████▏          | 1.3MB 4.6MB/s eta 0:00:01\r\u001b[K     |█████████████████████▎          | 1.3MB 4.6MB/s eta 0:00:01\r\u001b[K     |█████████████████████▌          | 1.3MB 4.6MB/s eta 0:00:01\r\u001b[K     |█████████████████████▋          | 1.3MB 4.6MB/s eta 0:00:01\r\u001b[K     |█████████████████████▉          | 1.3MB 4.6MB/s eta 0:00:01\r\u001b[K     |██████████████████████          | 1.3MB 4.6MB/s eta 0:00:01\r\u001b[K     |██████████████████████▏         | 1.3MB 4.6MB/s eta 0:00:01\r\u001b[K     |██████████████████████▎         | 1.3MB 4.6MB/s eta 0:00:01\r\u001b[K     |██████████████████████▌         | 1.3MB 4.6MB/s eta 0:00:01\r\u001b[K     |██████████████████████▋         | 1.4MB 4.6MB/s eta 0:00:01\r\u001b[K     |██████████████████████▉         | 1.4MB 4.6MB/s eta 0:00:01\r\u001b[K     |███████████████████████         | 1.4MB 4.6MB/s eta 0:00:01\r\u001b[K     |███████████████████████▏        | 1.4MB 4.6MB/s eta 0:00:01\r\u001b[K     |███████████████████████▍        | 1.4MB 4.6MB/s eta 0:00:01\r\u001b[K     |███████████████████████▌        | 1.4MB 4.6MB/s eta 0:00:01\r\u001b[K     |███████████████████████▊        | 1.4MB 4.6MB/s eta 0:00:01\r\u001b[K     |███████████████████████▉        | 1.4MB 4.6MB/s eta 0:00:01\r\u001b[K     |████████████████████████        | 1.4MB 4.6MB/s eta 0:00:01\r\u001b[K     |████████████████████████▏       | 1.4MB 4.6MB/s eta 0:00:01\r\u001b[K     |████████████████████████▍       | 1.5MB 4.6MB/s eta 0:00:01\r\u001b[K     |████████████████████████▌       | 1.5MB 4.6MB/s eta 0:00:01\r\u001b[K     |████████████████████████▊       | 1.5MB 4.6MB/s eta 0:00:01\r\u001b[K     |█████████████████████████       | 1.5MB 4.6MB/s eta 0:00:01\r\u001b[K     |█████████████████████████       | 1.5MB 4.6MB/s eta 0:00:01\r\u001b[K     |█████████████████████████▎      | 1.5MB 4.6MB/s eta 0:00:01\r\u001b[K     |█████████████████████████▍      | 1.5MB 4.6MB/s eta 0:00:01\r\u001b[K     |█████████████████████████▋      | 1.5MB 4.6MB/s eta 0:00:01\r\u001b[K     |█████████████████████████▊      | 1.5MB 4.6MB/s eta 0:00:01\r\u001b[K     |██████████████████████████      | 1.5MB 4.6MB/s eta 0:00:01\r\u001b[K     |██████████████████████████      | 1.6MB 4.6MB/s eta 0:00:01\r\u001b[K     |██████████████████████████▎     | 1.6MB 4.6MB/s eta 0:00:01\r\u001b[K     |██████████████████████████▍     | 1.6MB 4.6MB/s eta 0:00:01\r\u001b[K     |██████████████████████████▋     | 1.6MB 4.6MB/s eta 0:00:01\r\u001b[K     |██████████████████████████▉     | 1.6MB 4.6MB/s eta 0:00:01\r\u001b[K     |███████████████████████████     | 1.6MB 4.6MB/s eta 0:00:01\r\u001b[K     |███████████████████████████▏    | 1.6MB 4.6MB/s eta 0:00:01\r\u001b[K     |███████████████████████████▎    | 1.6MB 4.6MB/s eta 0:00:01\r\u001b[K     |███████████████████████████▌    | 1.6MB 4.6MB/s eta 0:00:01\r\u001b[K     |███████████████████████████▋    | 1.6MB 4.6MB/s eta 0:00:01\r\u001b[K     |███████████████████████████▉    | 1.7MB 4.6MB/s eta 0:00:01\r\u001b[K     |████████████████████████████    | 1.7MB 4.6MB/s eta 0:00:01\r\u001b[K     |████████████████████████████▏   | 1.7MB 4.6MB/s eta 0:00:01\r\u001b[K     |████████████████████████████▎   | 1.7MB 4.6MB/s eta 0:00:01\r\u001b[K     |████████████████████████████▌   | 1.7MB 4.6MB/s eta 0:00:01\r\u001b[K     |████████████████████████████▊   | 1.7MB 4.6MB/s eta 0:00:01\r\u001b[K     |████████████████████████████▉   | 1.7MB 4.6MB/s eta 0:00:01\r\u001b[K     |█████████████████████████████   | 1.7MB 4.6MB/s eta 0:00:01\r\u001b[K     |█████████████████████████████▏  | 1.7MB 4.6MB/s eta 0:00:01\r\u001b[K     |█████████████████████████████▍  | 1.8MB 4.6MB/s eta 0:00:01\r\u001b[K     |█████████████████████████████▌  | 1.8MB 4.6MB/s eta 0:00:01\r\u001b[K     |█████████████████████████████▊  | 1.8MB 4.6MB/s eta 0:00:01\r\u001b[K     |█████████████████████████████▉  | 1.8MB 4.6MB/s eta 0:00:01\r\u001b[K     |██████████████████████████████  | 1.8MB 4.6MB/s eta 0:00:01\r\u001b[K     |██████████████████████████████▏ | 1.8MB 4.6MB/s eta 0:00:01\r\u001b[K     |██████████████████████████████▍ | 1.8MB 4.6MB/s eta 0:00:01\r\u001b[K     |██████████████████████████████▋ | 1.8MB 4.6MB/s eta 0:00:01\r\u001b[K     |██████████████████████████████▊ | 1.8MB 4.6MB/s eta 0:00:01\r\u001b[K     |███████████████████████████████ | 1.8MB 4.6MB/s eta 0:00:01\r\u001b[K     |███████████████████████████████ | 1.9MB 4.6MB/s eta 0:00:01\r\u001b[K     |███████████████████████████████▎| 1.9MB 4.6MB/s eta 0:00:01\r\u001b[K     |███████████████████████████████▍| 1.9MB 4.6MB/s eta 0:00:01\r\u001b[K     |███████████████████████████████▋| 1.9MB 4.6MB/s eta 0:00:01\r\u001b[K     |███████████████████████████████▊| 1.9MB 4.6MB/s eta 0:00:01\r\u001b[K     |████████████████████████████████| 1.9MB 4.6MB/s eta 0:00:01\r\u001b[K     |████████████████████████████████| 1.9MB 4.6MB/s \n",
            "\u001b[?25hInstalling collected packages: pyspellchecker\n",
            "Successfully installed pyspellchecker-0.5.3\n"
          ],
          "name": "stdout"
        }
      ]
    },
    {
      "cell_type": "code",
      "metadata": {
        "id": "8dTRi3-RHFFR",
        "colab_type": "code",
        "colab": {
          "base_uri": "https://localhost:8080/",
          "height": 52
        },
        "outputId": "edfd53be-a5c4-41c9-89ed-3c631bcd65ed"
      },
      "source": [
        "from spellchecker import SpellChecker\n",
        "\n",
        "spell = SpellChecker()\n",
        "\n",
        "# find those words that may be misspelled\n",
        "misspelled = spell.unknown(['something', 'is', 'hapenning', 'here'])\n",
        "\n",
        "for word in misspelled:\n",
        "    # Get the one `most likely` answer\n",
        "    print(spell.correction(word))\n",
        "\n",
        "    # Get a list of `likely` options\n",
        "    print(spell.candidates(word))"
      ],
      "execution_count": 30,
      "outputs": [
        {
          "output_type": "stream",
          "text": [
            "happening\n",
            "{'penning', 'happening', 'henning'}\n"
          ],
          "name": "stdout"
        }
      ]
    },
    {
      "cell_type": "code",
      "metadata": {
        "id": "_yRaXwiAHLFS",
        "colab_type": "code",
        "colab": {
          "base_uri": "https://localhost:8080/",
          "height": 34
        },
        "outputId": "87830302-7b67-43ae-d39c-e535abe3bcdb"
      },
      "source": [
        "spell.correction('cerhdhious')"
      ],
      "execution_count": 35,
      "outputs": [
        {
          "output_type": "execute_result",
          "data": {
            "text/plain": [
              "'cerhdhious'"
            ]
          },
          "metadata": {
            "tags": []
          },
          "execution_count": 35
        }
      ]
    },
    {
      "cell_type": "code",
      "metadata": {
        "id": "GXLroMtSHZt7",
        "colab_type": "code",
        "colab": {}
      },
      "source": [
        ""
      ],
      "execution_count": 0,
      "outputs": []
    }
  ]
}