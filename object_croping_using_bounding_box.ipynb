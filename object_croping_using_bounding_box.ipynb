{
  "nbformat": 4,
  "nbformat_minor": 0,
  "metadata": {
    "colab": {
      "name": "object croping using bounding box.ipynb",
      "provenance": [],
      "collapsed_sections": [],
      "authorship_tag": "ABX9TyPl+yv9qjnEzR5GgSKtw286",
      "include_colab_link": true
    },
    "kernelspec": {
      "name": "python3",
      "display_name": "Python 3"
    }
  },
  "cells": [
    {
      "cell_type": "markdown",
      "metadata": {
        "id": "view-in-github",
        "colab_type": "text"
      },
      "source": [
        "<a href=\"https://colab.research.google.com/github/AnandUgale/dl_projects/blob/master/object_croping_using_bounding_box.ipynb\" target=\"_parent\"><img src=\"https://colab.research.google.com/assets/colab-badge.svg\" alt=\"Open In Colab\"/></a>"
      ]
    },
    {
      "cell_type": "code",
      "metadata": {
        "id": "E-dyZNa7fSMj",
        "colab_type": "code",
        "colab": {}
      },
      "source": [
        "# object croping using bounding boxes\n",
        "import cv2\n",
        "import os\n",
        "import numpy as np"
      ],
      "execution_count": 0,
      "outputs": []
    },
    {
      "cell_type": "code",
      "metadata": {
        "id": "hxWGNd9gficY",
        "colab_type": "code",
        "colab": {}
      },
      "source": [
        "# Create new folder\n",
        "newFolder = '/content/test'\n",
        "\n",
        "if not os.path.exists(newFolder):\n",
        "  os.makedirs(newFolder)"
      ],
      "execution_count": 0,
      "outputs": []
    },
    {
      "cell_type": "code",
      "metadata": {
        "id": "HxUGY6Dsfmg9",
        "colab_type": "code",
        "colab": {
          "base_uri": "https://localhost:8080/",
          "height": 34
        },
        "outputId": "2e11a9bd-c3c4-4ff4-d6b8-26dceb0e1d9e"
      },
      "source": [
        "# number of files sub-dir\n",
        "cd /content/test"
      ],
      "execution_count": 8,
      "outputs": [
        {
          "output_type": "stream",
          "text": [
            "/content/test\n"
          ],
          "name": "stdout"
        }
      ]
    },
    {
      "cell_type": "code",
      "metadata": {
        "id": "336gy-Yafo0J",
        "colab_type": "code",
        "colab": {
          "base_uri": "https://localhost:8080/",
          "height": 34
        },
        "outputId": "265f4d05-a47b-453e-821f-597029fdba67"
      },
      "source": [
        "# number of files in sub-dir\n",
        "!ls"
      ],
      "execution_count": 9,
      "outputs": [
        {
          "output_type": "stream",
          "text": [
            "books.jpg  books.txt\n"
          ],
          "name": "stdout"
        }
      ]
    },
    {
      "cell_type": "code",
      "metadata": {
        "id": "CPm6aoGJl-JP",
        "colab_type": "code",
        "colab": {}
      },
      "source": [
        "img_ = []"
      ],
      "execution_count": 0,
      "outputs": []
    },
    {
      "cell_type": "code",
      "metadata": {
        "id": "sQeTazwGglIN",
        "colab_type": "code",
        "colab": {
          "base_uri": "https://localhost:8080/",
          "height": 138
        },
        "outputId": "4631a17f-90ea-4ae4-932e-b49a5d4c7a15"
      },
      "source": [
        "for filename in os.listdir('/content/test'):\n",
        "  # if filename.endswith(('jpeg','jpg','png','tif'))\n",
        "  \n",
        "  if filename.endswith(('txt')):\n",
        "    with open(os.path.join('/content/test/', filename), 'r') as f:\n",
        "      index = 0\n",
        "      for line in f:\n",
        "        img = cv2.imread(os.path.join('/content/test/', 'books.jpg'))\n",
        "        coords_list = line.strip().split(',')\n",
        "        coords = list(map(int, coords_list))\n",
        "\n",
        "        x1 = coords[0]\n",
        "        y1 = coords[1]\n",
        "        x2 = coords[2]\n",
        "        y2 = coords[3]\n",
        "        x3 = coords[4]\n",
        "        y3 = coords[5]\n",
        "        x4 = coords[6]\n",
        "        y4 = coords[7]\n",
        "\n",
        "        top_left_x = min([x1,x2,x3,x4])\n",
        "        top_left_y = min([y1,y2,y3,y4])\n",
        "        bot_right_x = max([x1,x2,x3,x4])\n",
        "        bot_right_y = max([y1,y2,y3,y4])\n",
        "\n",
        "\n",
        "\n",
        "        print(top_left_x, top_left_y, bot_right_x, bot_right_y)\n",
        "\n",
        "        img = img[top_left_y:bot_right_y, top_left_x:bot_right_x]\n",
        "\n",
        "        # img_.append(img)\n",
        "\n",
        "        cv2.imwrite('img_'+str(index)+'.jpg',img)\n",
        "\n",
        "        index += 1\n",
        "      f.close()"
      ],
      "execution_count": 56,
      "outputs": [
        {
          "output_type": "stream",
          "text": [
            "117 260 261 298\n",
            "95 313 261 351\n",
            "95 103 263 152\n",
            "103 157 256 193\n",
            "103 48 256 105\n",
            "106 210 274 242\n",
            "95 365 250 409\n"
          ],
          "name": "stdout"
        }
      ]
    }
  ]
}