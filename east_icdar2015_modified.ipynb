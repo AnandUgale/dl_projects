{
  "nbformat": 4,
  "nbformat_minor": 0,
  "metadata": {
    "kernelspec": {
      "name": "python3",
      "display_name": "Python 3"
    },
    "language_info": {
      "codemirror_mode": {
        "name": "ipython",
        "version": 3
      },
      "file_extension": ".py",
      "mimetype": "text/x-python",
      "name": "python",
      "nbconvert_exporter": "python",
      "pygments_lexer": "ipython3",
      "version": "3.7.3"
    },
    "colab": {
      "name": "test_notebook.ipynb",
      "provenance": [],
      "toc_visible": true
    },
    "accelerator": "GPU"
  },
  "cells": [
    {
      "cell_type": "markdown",
      "metadata": {
        "id": "OI15GRp45ug6",
        "colab_type": "text"
      },
      "source": [
        "# Test Notebook for Deep Learining FrameWork"
      ]
    },
    {
      "cell_type": "code",
      "metadata": {
        "id": "1KfaGpy45uhB",
        "colab_type": "code",
        "outputId": "811c9678-1653-4329-8975-f59081b68bef",
        "colab": {
          "base_uri": "https://localhost:8080/",
          "height": 104
        }
      },
      "source": [
        "# clone git repo\n",
        "!git clone https://github.com/argman/EAST.git"
      ],
      "execution_count": 1,
      "outputs": [
        {
          "output_type": "stream",
          "text": [
            "Cloning into 'EAST'...\n",
            "remote: Enumerating objects: 270, done.\u001b[K\n",
            "remote: Total 270 (delta 0), reused 0 (delta 0), pack-reused 270\u001b[K\n",
            "Receiving objects: 100% (270/270), 2.00 MiB | 5.15 MiB/s, done.\n",
            "Resolving deltas: 100% (127/127), done.\n"
          ],
          "name": "stdout"
        }
      ]
    },
    {
      "cell_type": "code",
      "metadata": {
        "id": "R9NFollf6Gi8",
        "colab_type": "code",
        "outputId": "077acb2e-db7d-44aa-dd3e-619534dded4a",
        "colab": {
          "base_uri": "https://localhost:8080/",
          "height": 124
        }
      },
      "source": [
        "# mount google drive\n",
        "from google.colab import drive\n",
        "drive.mount('/content/drive')"
      ],
      "execution_count": 2,
      "outputs": [
        {
          "output_type": "stream",
          "text": [
            "Go to this URL in a browser: https://accounts.google.com/o/oauth2/auth?client_id=947318989803-6bn6qk8qdgf4n4g3pfee6491hc0brc4i.apps.googleusercontent.com&redirect_uri=urn%3aietf%3awg%3aoauth%3a2.0%3aoob&response_type=code&scope=email%20https%3a%2f%2fwww.googleapis.com%2fauth%2fdocs.test%20https%3a%2f%2fwww.googleapis.com%2fauth%2fdrive%20https%3a%2f%2fwww.googleapis.com%2fauth%2fdrive.photos.readonly%20https%3a%2f%2fwww.googleapis.com%2fauth%2fpeopleapi.readonly\n",
            "\n",
            "Enter your authorization code:\n",
            "··········\n",
            "Mounted at /content/drive\n"
          ],
          "name": "stdout"
        }
      ]
    },
    {
      "cell_type": "code",
      "metadata": {
        "id": "5amMuAha59Ct",
        "colab_type": "code",
        "colab": {}
      },
      "source": [
        "import shutil"
      ],
      "execution_count": 0,
      "outputs": []
    },
    {
      "cell_type": "code",
      "metadata": {
        "id": "nrj4vwN16b1T",
        "colab_type": "code",
        "outputId": "c9e2b9cd-bc42-45cd-cd18-ea3a45601c4a",
        "colab": {
          "base_uri": "https://localhost:8080/",
          "height": 34
        }
      },
      "source": [
        "shutil.copy('/content/drive/My Drive/east_icdar2015_resnet_v1_50_rbox.zip', '/content/EAST')"
      ],
      "execution_count": 4,
      "outputs": [
        {
          "output_type": "execute_result",
          "data": {
            "text/plain": [
              "'/content/EAST/east_icdar2015_resnet_v1_50_rbox.zip'"
            ]
          },
          "metadata": {
            "tags": []
          },
          "execution_count": 4
        }
      ]
    },
    {
      "cell_type": "code",
      "metadata": {
        "id": "Be-x-b2-6jao",
        "colab_type": "code",
        "outputId": "f9e60f75-ea30-4073-c6eb-fa25e972b3e0",
        "colab": {
          "base_uri": "https://localhost:8080/",
          "height": 52
        }
      },
      "source": [
        "# importing required modules \n",
        "from zipfile import ZipFile \n",
        "\n",
        "# specifying the zip file name \n",
        "file_name = \"/content/EAST/east_icdar2015_resnet_v1_50_rbox.zip\"\n",
        "\n",
        "# opening the zip file in READ mode \n",
        "with ZipFile(file_name, 'r') as zip: \n",
        "\t# printing all the contents of the zip file \n",
        "\t# zip.printdir() \n",
        "\n",
        "\t# extracting all the files \n",
        "\tprint('Extracting all the files now...') \n",
        "\tzip.extractall() \n",
        "\tprint('Done!') "
      ],
      "execution_count": 5,
      "outputs": [
        {
          "output_type": "stream",
          "text": [
            "Extracting all the files now...\n",
            "Done!\n"
          ],
          "name": "stdout"
        }
      ]
    },
    {
      "cell_type": "code",
      "metadata": {
        "id": "-wZufBFE61Zk",
        "colab_type": "code",
        "outputId": "187aac97-e660-4a80-ef34-7e09763ca960",
        "colab": {
          "base_uri": "https://localhost:8080/",
          "height": 34
        }
      },
      "source": [
        "cd /content/EAST"
      ],
      "execution_count": 6,
      "outputs": [
        {
          "output_type": "stream",
          "text": [
            "/content/EAST\n"
          ],
          "name": "stdout"
        }
      ]
    },
    {
      "cell_type": "code",
      "metadata": {
        "id": "z7M2Wm-L7awT",
        "colab_type": "code",
        "colab": {}
      },
      "source": [
        "checkpoint_path = '/content/east_icdar2015_resnet_v1_50_rbox/'"
      ],
      "execution_count": 0,
      "outputs": []
    },
    {
      "cell_type": "code",
      "metadata": {
        "id": "7sS6_w61YxG_",
        "colab_type": "code",
        "colab": {
          "base_uri": "https://localhost:8080/",
          "height": 34
        },
        "outputId": "6f1921bd-f639-4d1d-ca82-7a96ef1dc70f"
      },
      "source": [
        "cd /content/"
      ],
      "execution_count": 8,
      "outputs": [
        {
          "output_type": "stream",
          "text": [
            "/content\n"
          ],
          "name": "stdout"
        }
      ]
    },
    {
      "cell_type": "code",
      "metadata": {
        "id": "NrKIQLN-YxLY",
        "colab_type": "code",
        "colab": {}
      },
      "source": [
        "# object croping using bounding boxes\n",
        "import cv2\n",
        "import os\n",
        "import numpy as np"
      ],
      "execution_count": 0,
      "outputs": []
    },
    {
      "cell_type": "code",
      "metadata": {
        "id": "UkuVkHe3YxD1",
        "colab_type": "code",
        "colab": {}
      },
      "source": [
        "newFolder = '/content/test'"
      ],
      "execution_count": 0,
      "outputs": []
    },
    {
      "cell_type": "code",
      "metadata": {
        "id": "bNV_FWcUZJvK",
        "colab_type": "code",
        "colab": {}
      },
      "source": [
        "if not os.path.exists(newFolder):\n",
        "  os.makedirs(newFolder)"
      ],
      "execution_count": 0,
      "outputs": []
    },
    {
      "cell_type": "code",
      "metadata": {
        "id": "u-53r-aBZL9y",
        "colab_type": "code",
        "colab": {
          "base_uri": "https://localhost:8080/",
          "height": 34
        },
        "outputId": "a5406a14-0831-43d7-8568-e63ae3fa6180"
      },
      "source": [
        "# number of files sub-dir\n",
        "cd /content/test"
      ],
      "execution_count": 13,
      "outputs": [
        {
          "output_type": "stream",
          "text": [
            "/content/test\n"
          ],
          "name": "stdout"
        }
      ]
    },
    {
      "cell_type": "code",
      "metadata": {
        "id": "PjPeWh99ZMHK",
        "colab_type": "code",
        "colab": {
          "base_uri": "https://localhost:8080/",
          "height": 34
        },
        "outputId": "6831b991-0097-4851-d8cb-1aae1c2e7a32"
      },
      "source": [
        "# number of files in sub-dir\n",
        "!ls"
      ],
      "execution_count": 14,
      "outputs": [
        {
          "output_type": "stream",
          "text": [
            "books.jpg\n"
          ],
          "name": "stdout"
        }
      ]
    },
    {
      "cell_type": "code",
      "metadata": {
        "id": "vICw_PDdZjyP",
        "colab_type": "code",
        "colab": {
          "base_uri": "https://localhost:8080/",
          "height": 34
        },
        "outputId": "be659cf5-325f-4844-f674-f2960f12a35b"
      },
      "source": [
        "cd /content/EAST"
      ],
      "execution_count": 16,
      "outputs": [
        {
          "output_type": "stream",
          "text": [
            "/content/EAST\n"
          ],
          "name": "stdout"
        }
      ]
    },
    {
      "cell_type": "code",
      "metadata": {
        "id": "ijTqvCj77PLb",
        "colab_type": "code",
        "outputId": "4a32d17b-fe63-45b5-a9b2-2ad1c46e3de9",
        "colab": {
          "base_uri": "https://localhost:8080/",
          "height": 1000
        }
      },
      "source": [
        "!python eval.py --test_data_path=/content/ --gpu_list=0 --checkpoint_path=/content/east_icdar2015_resnet_v1_50_rbox/ \\\n",
        "--output_dir=/content/output/"
      ],
      "execution_count": 19,
      "outputs": [
        {
          "output_type": "stream",
          "text": [
            "make: Entering directory '/content/EAST/lanms'\n",
            "make: 'adaptor.so' is up to date.\n",
            "make: Leaving directory '/content/EAST/lanms'\n",
            "WARNING:tensorflow:\n",
            "The TensorFlow contrib module will not be included in TensorFlow 2.0.\n",
            "For more information, please see:\n",
            "  * https://github.com/tensorflow/community/blob/master/rfcs/20180907-contrib-sunset.md\n",
            "  * https://github.com/tensorflow/addons\n",
            "  * https://github.com/tensorflow/io (for I/O related ops)\n",
            "If you depend on functionality not listed there, please file an issue.\n",
            "\n",
            "WARNING:tensorflow:From eval.py:196: The name tf.app.run is deprecated. Please use tf.compat.v1.app.run instead.\n",
            "\n",
            "WARNING:tensorflow:From eval.py:136: The name tf.get_default_graph is deprecated. Please use tf.compat.v1.get_default_graph instead.\n",
            "\n",
            "W0115 18:13:14.736339 140571515303808 module_wrapper.py:139] From eval.py:136: The name tf.get_default_graph is deprecated. Please use tf.compat.v1.get_default_graph instead.\n",
            "\n",
            "WARNING:tensorflow:From eval.py:137: The name tf.placeholder is deprecated. Please use tf.compat.v1.placeholder instead.\n",
            "\n",
            "W0115 18:13:14.736927 140571515303808 module_wrapper.py:139] From eval.py:137: The name tf.placeholder is deprecated. Please use tf.compat.v1.placeholder instead.\n",
            "\n",
            "WARNING:tensorflow:From eval.py:138: The name tf.get_variable is deprecated. Please use tf.compat.v1.get_variable instead.\n",
            "\n",
            "W0115 18:13:14.737965 140571515303808 module_wrapper.py:139] From eval.py:138: The name tf.get_variable is deprecated. Please use tf.compat.v1.get_variable instead.\n",
            "\n",
            "WARNING:tensorflow:From /content/EAST/nets/resnet_utils.py:236: The name tf.GraphKeys is deprecated. Please use tf.compat.v1.GraphKeys instead.\n",
            "\n",
            "W0115 18:13:14.747499 140571515303808 module_wrapper.py:139] From /content/EAST/nets/resnet_utils.py:236: The name tf.GraphKeys is deprecated. Please use tf.compat.v1.GraphKeys instead.\n",
            "\n",
            "WARNING:tensorflow:From /content/EAST/nets/resnet_v1.py:181: The name tf.variable_scope is deprecated. Please use tf.compat.v1.variable_scope instead.\n",
            "\n",
            "W0115 18:13:14.747766 140571515303808 module_wrapper.py:139] From /content/EAST/nets/resnet_v1.py:181: The name tf.variable_scope is deprecated. Please use tf.compat.v1.variable_scope instead.\n",
            "\n",
            "WARNING:tensorflow:From /usr/local/lib/python3.6/dist-packages/tensorflow_core/contrib/layers/python/layers/layers.py:1057: Layer.apply (from tensorflow.python.keras.engine.base_layer) is deprecated and will be removed in a future version.\n",
            "Instructions for updating:\n",
            "Please use `layer.__call__` method instead.\n",
            "W0115 18:13:14.751263 140571515303808 deprecation.py:323] From /usr/local/lib/python3.6/dist-packages/tensorflow_core/contrib/layers/python/layers/layers.py:1057: Layer.apply (from tensorflow.python.keras.engine.base_layer) is deprecated and will be removed in a future version.\n",
            "Instructions for updating:\n",
            "Please use `layer.__call__` method instead.\n",
            "resnet_v1_50/block1 (?, ?, ?, 256)\n",
            "resnet_v1_50/block2 (?, ?, ?, 512)\n",
            "resnet_v1_50/block3 (?, ?, ?, 1024)\n",
            "resnet_v1_50/block4 (?, ?, ?, 2048)\n",
            "Shape of f_0 (?, ?, ?, 2048)\n",
            "Shape of f_1 (?, ?, ?, 512)\n",
            "Shape of f_2 (?, ?, ?, 256)\n",
            "Shape of f_3 (?, ?, ?, 64)\n",
            "WARNING:tensorflow:From /content/EAST/model.py:14: The name tf.image.resize_bilinear is deprecated. Please use tf.compat.v1.image.resize_bilinear instead.\n",
            "\n",
            "W0115 18:13:16.124084 140571515303808 module_wrapper.py:139] From /content/EAST/model.py:14: The name tf.image.resize_bilinear is deprecated. Please use tf.compat.v1.image.resize_bilinear instead.\n",
            "\n",
            "Shape of h_0 (?, ?, ?, 2048), g_0 (?, ?, ?, 2048)\n",
            "Shape of h_1 (?, ?, ?, 128), g_1 (?, ?, ?, 128)\n",
            "Shape of h_2 (?, ?, ?, 64), g_2 (?, ?, ?, 64)\n",
            "Shape of h_3 (?, ?, ?, 32), g_3 (?, ?, ?, 32)\n",
            "WARNING:tensorflow:From eval.py:143: The name tf.train.Saver is deprecated. Please use tf.compat.v1.train.Saver instead.\n",
            "\n",
            "W0115 18:13:16.374315 140571515303808 module_wrapper.py:139] From eval.py:143: The name tf.train.Saver is deprecated. Please use tf.compat.v1.train.Saver instead.\n",
            "\n",
            "WARNING:tensorflow:From eval.py:145: The name tf.Session is deprecated. Please use tf.compat.v1.Session instead.\n",
            "\n",
            "W0115 18:13:16.690397 140571515303808 module_wrapper.py:139] From eval.py:145: The name tf.Session is deprecated. Please use tf.compat.v1.Session instead.\n",
            "\n",
            "WARNING:tensorflow:From eval.py:145: The name tf.ConfigProto is deprecated. Please use tf.compat.v1.ConfigProto instead.\n",
            "\n",
            "W0115 18:13:16.690623 140571515303808 module_wrapper.py:139] From eval.py:145: The name tf.ConfigProto is deprecated. Please use tf.compat.v1.ConfigProto instead.\n",
            "\n",
            "2020-01-15 18:13:16.695918: I tensorflow/core/platform/profile_utils/cpu_utils.cc:94] CPU Frequency: 2200000000 Hz\n",
            "2020-01-15 18:13:16.696145: I tensorflow/compiler/xla/service/service.cc:168] XLA service 0x25b3480 initialized for platform Host (this does not guarantee that XLA will be used). Devices:\n",
            "2020-01-15 18:13:16.696177: I tensorflow/compiler/xla/service/service.cc:176]   StreamExecutor device (0): Host, Default Version\n",
            "2020-01-15 18:13:16.698043: I tensorflow/stream_executor/platform/default/dso_loader.cc:44] Successfully opened dynamic library libcuda.so.1\n",
            "2020-01-15 18:13:16.806797: I tensorflow/stream_executor/cuda/cuda_gpu_executor.cc:983] successful NUMA node read from SysFS had negative value (-1), but there must be at least one NUMA node, so returning NUMA node zero\n",
            "2020-01-15 18:13:16.807602: I tensorflow/compiler/xla/service/service.cc:168] XLA service 0x25b3640 initialized for platform CUDA (this does not guarantee that XLA will be used). Devices:\n",
            "2020-01-15 18:13:16.807630: I tensorflow/compiler/xla/service/service.cc:176]   StreamExecutor device (0): Tesla P100-PCIE-16GB, Compute Capability 6.0\n",
            "2020-01-15 18:13:16.807789: I tensorflow/stream_executor/cuda/cuda_gpu_executor.cc:983] successful NUMA node read from SysFS had negative value (-1), but there must be at least one NUMA node, so returning NUMA node zero\n",
            "2020-01-15 18:13:16.808411: I tensorflow/core/common_runtime/gpu/gpu_device.cc:1618] Found device 0 with properties: \n",
            "name: Tesla P100-PCIE-16GB major: 6 minor: 0 memoryClockRate(GHz): 1.3285\n",
            "pciBusID: 0000:00:04.0\n",
            "2020-01-15 18:13:16.808728: I tensorflow/stream_executor/platform/default/dso_loader.cc:44] Successfully opened dynamic library libcudart.so.10.1\n",
            "2020-01-15 18:13:16.810207: I tensorflow/stream_executor/platform/default/dso_loader.cc:44] Successfully opened dynamic library libcublas.so.10\n",
            "2020-01-15 18:13:16.811711: I tensorflow/stream_executor/platform/default/dso_loader.cc:44] Successfully opened dynamic library libcufft.so.10\n",
            "2020-01-15 18:13:16.812081: I tensorflow/stream_executor/platform/default/dso_loader.cc:44] Successfully opened dynamic library libcurand.so.10\n",
            "2020-01-15 18:13:16.813677: I tensorflow/stream_executor/platform/default/dso_loader.cc:44] Successfully opened dynamic library libcusolver.so.10\n",
            "2020-01-15 18:13:16.814444: I tensorflow/stream_executor/platform/default/dso_loader.cc:44] Successfully opened dynamic library libcusparse.so.10\n",
            "2020-01-15 18:13:16.817408: I tensorflow/stream_executor/platform/default/dso_loader.cc:44] Successfully opened dynamic library libcudnn.so.7\n",
            "2020-01-15 18:13:16.817523: I tensorflow/stream_executor/cuda/cuda_gpu_executor.cc:983] successful NUMA node read from SysFS had negative value (-1), but there must be at least one NUMA node, so returning NUMA node zero\n",
            "2020-01-15 18:13:16.818060: I tensorflow/stream_executor/cuda/cuda_gpu_executor.cc:983] successful NUMA node read from SysFS had negative value (-1), but there must be at least one NUMA node, so returning NUMA node zero\n",
            "2020-01-15 18:13:16.818565: I tensorflow/core/common_runtime/gpu/gpu_device.cc:1746] Adding visible gpu devices: 0\n",
            "2020-01-15 18:13:16.818632: I tensorflow/stream_executor/platform/default/dso_loader.cc:44] Successfully opened dynamic library libcudart.so.10.1\n",
            "2020-01-15 18:13:16.819827: I tensorflow/core/common_runtime/gpu/gpu_device.cc:1159] Device interconnect StreamExecutor with strength 1 edge matrix:\n",
            "2020-01-15 18:13:16.819853: I tensorflow/core/common_runtime/gpu/gpu_device.cc:1165]      0 \n",
            "2020-01-15 18:13:16.819863: I tensorflow/core/common_runtime/gpu/gpu_device.cc:1178] 0:   N \n",
            "2020-01-15 18:13:16.819968: I tensorflow/stream_executor/cuda/cuda_gpu_executor.cc:983] successful NUMA node read from SysFS had negative value (-1), but there must be at least one NUMA node, so returning NUMA node zero\n",
            "2020-01-15 18:13:16.820521: I tensorflow/stream_executor/cuda/cuda_gpu_executor.cc:983] successful NUMA node read from SysFS had negative value (-1), but there must be at least one NUMA node, so returning NUMA node zero\n",
            "2020-01-15 18:13:16.821023: W tensorflow/core/common_runtime/gpu/gpu_bfc_allocator.cc:39] Overriding allow_growth setting because the TF_FORCE_GPU_ALLOW_GROWTH environment variable is set. Original config value was 0.\n",
            "2020-01-15 18:13:16.821063: I tensorflow/core/common_runtime/gpu/gpu_device.cc:1304] Created TensorFlow device (/job:localhost/replica:0/task:0/device:GPU:0 with 15216 MB memory) -> physical GPU (device: 0, name: Tesla P100-PCIE-16GB, pci bus id: 0000:00:04.0, compute capability: 6.0)\n",
            "Restore from /content/east_icdar2015_resnet_v1_50_rbox/model.ckpt-49491\n",
            "INFO:tensorflow:Restoring parameters from /content/east_icdar2015_resnet_v1_50_rbox/model.ckpt-49491\n",
            "I0115 18:13:16.823453 140571515303808 saver.py:1284] Restoring parameters from /content/east_icdar2015_resnet_v1_50_rbox/model.ckpt-49491\n",
            "Find 2 images\n",
            "2020-01-15 18:13:18.101683: I tensorflow/stream_executor/platform/default/dso_loader.cc:44] Successfully opened dynamic library libcudnn.so.7\n",
            "2020-01-15 18:13:19.187652: I tensorflow/stream_executor/platform/default/dso_loader.cc:44] Successfully opened dynamic library libcublas.so.10\n",
            "632 text boxes before nms\n",
            "/content/books.jpg : net 2002ms, restore 1ms, nms 3ms\n",
            "[timing] 2.0094196796417236\n",
            "613 text boxes before nms\n",
            "/content/test/books.jpg : net 15ms, restore 1ms, nms 2ms\n",
            "[timing] 0.021335601806640625\n"
          ],
          "name": "stdout"
        }
      ]
    },
    {
      "cell_type": "code",
      "metadata": {
        "id": "nSDCpC7FMFpT",
        "colab_type": "code",
        "colab": {}
      },
      "source": [
        "import matplotlib.pyplot as plt\n",
        "%matplotlib inline"
      ],
      "execution_count": 0,
      "outputs": []
    },
    {
      "cell_type": "code",
      "metadata": {
        "id": "iTceH9XtMXD9",
        "colab_type": "code",
        "outputId": "7f56f989-1ee1-4857-da2e-a6c394567520",
        "colab": {
          "base_uri": "https://localhost:8080/",
          "height": 286
        }
      },
      "source": [
        "import cv2 as cv\n",
        "from matplotlib import pyplot as plt\n",
        "\n",
        "img = cv.imread(\"/content/books.jpg\")\n",
        "#cv.rectangle(img,(29,2496),(604,2992),(255,0,0),5)\n",
        "plt.imshow(img)"
      ],
      "execution_count": 18,
      "outputs": [
        {
          "output_type": "execute_result",
          "data": {
            "text/plain": [
              "<matplotlib.image.AxesImage at 0x7f716094d390>"
            ]
          },
          "metadata": {
            "tags": []
          },
          "execution_count": 18
        },
        {
          "output_type": "display_data",
          "data": {
            "image/png": "[encoded data removed]",
            "text/plain": [
              "<Figure size 432x288 with 1 Axes>"
            ]
          },
          "metadata": {
            "tags": []
          }
        }
      ]
    },
    {
      "cell_type": "code",
      "metadata": {
        "id": "9cSZ5_wDarQ5",
        "colab_type": "code",
        "colab": {}
      },
      "source": [
        "# save crop objects\n",
        "newFolder = '/content/crop_img'\n",
        "\n",
        "if not os.path.exists(newFolder):\n",
        "  os.makedirs(newFolder)"
      ],
      "execution_count": 0,
      "outputs": []
    },
    {
      "cell_type": "code",
      "metadata": {
        "id": "en9VJBYZawHt",
        "colab_type": "code",
        "colab": {
          "base_uri": "https://localhost:8080/",
          "height": 34
        },
        "outputId": "1ee7d763-6d33-4e20-fda5-487564fb6fff"
      },
      "source": [
        "cd /content/crop_img"
      ],
      "execution_count": 21,
      "outputs": [
        {
          "output_type": "stream",
          "text": [
            "/content/crop_img\n"
          ],
          "name": "stdout"
        }
      ]
    },
    {
      "cell_type": "code",
      "metadata": {
        "id": "0F2vwdHlJ73x",
        "colab_type": "code",
        "outputId": "02af5dbc-87aa-4705-d882-bb3dcb335ee0",
        "colab": {
          "base_uri": "https://localhost:8080/",
          "height": 138
        }
      },
      "source": [
        "for filename in os.listdir('/content/output/'):\n",
        "  # if filename.endswith(('jpeg','jpg','png','tif'))\n",
        "  \n",
        "  if filename.endswith(('txt')):\n",
        "    with open(os.path.join('/content/output/', filename), 'r') as f:\n",
        "      index = 0\n",
        "      for line in f:\n",
        "        img = cv2.imread(os.path.join('/content/output/', 'books.jpg'))\n",
        "        coords_list = line.strip().split(',')\n",
        "        coords = list(map(int, coords_list))\n",
        "\n",
        "        x1 = coords[0]\n",
        "        y1 = coords[1]\n",
        "        x2 = coords[2]\n",
        "        y2 = coords[3]\n",
        "        x3 = coords[4]\n",
        "        y3 = coords[5]\n",
        "        x4 = coords[6]\n",
        "        y4 = coords[7]\n",
        "\n",
        "        top_left_x = min([x1,x2,x3,x4])\n",
        "        top_left_y = min([y1,y2,y3,y4])\n",
        "        bot_right_x = max([x1,x2,x3,x4])\n",
        "        bot_right_y = max([y1,y2,y3,y4])\n",
        "\n",
        "\n",
        "\n",
        "        print(top_left_x, top_left_y, bot_right_x, bot_right_y)\n",
        "\n",
        "        img = img[top_left_y:bot_right_y, top_left_x:bot_right_x]\n",
        "\n",
        "\n",
        "        cv2.imwrite('img_'+str(index)+'.jpg',img)\n",
        "\n",
        "        index += 1\n",
        "      f.close()"
      ],
      "execution_count": 22,
      "outputs": [
        {
          "output_type": "stream",
          "text": [
            "117 260 261 298\n",
            "95 313 261 351\n",
            "95 103 263 152\n",
            "103 157 256 193\n",
            "103 48 256 105\n",
            "106 210 274 242\n",
            "95 365 250 409\n"
          ],
          "name": "stdout"
        }
      ]
    },
    {
      "cell_type": "code",
      "metadata": {
        "id": "hXFLYWQrb5lQ",
        "colab_type": "code",
        "colab": {
          "base_uri": "https://localhost:8080/",
          "height": 34
        },
        "outputId": "cc38e086-1ac8-4b91-d191-1a2eb0be79ab"
      },
      "source": [
        "cd /content"
      ],
      "execution_count": 23,
      "outputs": [
        {
          "output_type": "stream",
          "text": [
            "/content\n"
          ],
          "name": "stdout"
        }
      ]
    },
    {
      "cell_type": "code",
      "metadata": {
        "id": "3o82F86nKCX_",
        "colab_type": "code",
        "colab": {
          "base_uri": "https://localhost:8080/",
          "height": 173
        },
        "outputId": "56cdc4cd-afbb-4c06-8afe-e4daa862b4f9"
      },
      "source": [
        "# Writing zipfile\n",
        "# importing required modules \n",
        "from zipfile import ZipFile \n",
        "import os \n",
        "\n",
        "def get_all_file_paths(directory): \n",
        "\n",
        "\t# initializing empty file paths list \n",
        "\tfile_paths = [] \n",
        "\n",
        "\t# crawling through directory and subdirectories \n",
        "\tfor root, directories, files in os.walk(directory): \n",
        "\t\tfor filename in files: \n",
        "\t\t\t# join the two strings in order to form the full filepath. \n",
        "\t\t\tfilepath = os.path.join(root, filename) \n",
        "\t\t\tfile_paths.append(filepath) \n",
        "\n",
        "\t# returning all file paths \n",
        "\treturn file_paths\t\t \n",
        "\n",
        "def main(): \n",
        "\t# path to folder which needs to be zipped \n",
        "\tdirectory = '/content/crop_img'\n",
        "\n",
        "\t# calling function to get all file paths in the directory \n",
        "\tfile_paths = get_all_file_paths(directory) \n",
        "\n",
        "\t# printing the list of all files to be zipped \n",
        "\tprint('Following files will be zipped:') \n",
        "\tfor file_name in file_paths: \n",
        "\t\tprint(file_name) \n",
        "\n",
        "\t# writing files to a zipfile \n",
        "\twith ZipFile('crop_img.zip','w') as zip: \n",
        "\t\t# writing each file one by one \n",
        "\t\tfor file in file_paths: \n",
        "\t\t\tzip.write(file) \n",
        "\n",
        "\tprint('All files zipped successfully!')\t\t \n",
        "\n",
        "\n",
        "if __name__ == \"__main__\": \n",
        "\tmain() \n"
      ],
      "execution_count": 24,
      "outputs": [
        {
          "output_type": "stream",
          "text": [
            "Following files will be zipped:\n",
            "/content/crop_img/img_6.jpg\n",
            "/content/crop_img/img_5.jpg\n",
            "/content/crop_img/img_0.jpg\n",
            "/content/crop_img/img_2.jpg\n",
            "/content/crop_img/img_3.jpg\n",
            "/content/crop_img/img_4.jpg\n",
            "/content/crop_img/img_1.jpg\n",
            "All files zipped successfully!\n"
          ],
          "name": "stdout"
        }
      ]
    },
    {
      "cell_type": "code",
      "metadata": {
        "id": "I5aXPsLWcA0l",
        "colab_type": "code",
        "colab": {}
      },
      "source": [
        ""
      ],
      "execution_count": 0,
      "outputs": []
    }
  ]
}