{
  "nbformat": 4,
  "nbformat_minor": 0,
  "metadata": {
    "colab": {
      "name": "CIFIR10_CNN using keras.ipynb",
      "version": "0.3.2",
      "provenance": [],
      "collapsed_sections": [],
      "include_colab_link": true
    },
    "kernelspec": {
      "name": "python3",
      "display_name": "Python 3"
    },
    "accelerator": "GPU"
  },
  "cells": [
    {
      "cell_type": "markdown",
      "metadata": {
        "id": "view-in-github",
        "colab_type": "text"
      },
      "source": [
        "<a href=\"https://colab.research.google.com/github/AnandUgale/dl_projects/blob/master/CIFIR10_CNN_using_keras.ipynb\" target=\"_parent\"><img src=\"https://colab.research.google.com/assets/colab-badge.svg\" alt=\"Open In Colab\"/></a>"
      ]
    },
    {
      "metadata": {
        "id": "NwSmtvYhoVkW",
        "colab_type": "code",
        "colab": {}
      },
      "cell_type": "code",
      "source": [
        "from __future__ import print_function"
      ],
      "execution_count": 0,
      "outputs": []
    },
    {
      "metadata": {
        "id": "3P7TyDc3ogcg",
        "colab_type": "code",
        "outputId": "a3f601d6-84a2-46f6-e45e-c623c8c08a99",
        "colab": {
          "base_uri": "https://localhost:8080/",
          "height": 35
        }
      },
      "cell_type": "code",
      "source": [
        "# import keras\n",
        "import keras"
      ],
      "execution_count": 2,
      "outputs": [
        {
          "output_type": "stream",
          "text": [
            "Using TensorFlow backend.\n"
          ],
          "name": "stderr"
        }
      ]
    },
    {
      "metadata": {
        "id": "n01uUUJOomCc",
        "colab_type": "code",
        "colab": {}
      },
      "cell_type": "code",
      "source": [
        "# Load dataset and useful model, layers etc..\n",
        "from keras.datasets import cifar10\n",
        "from keras.models import Sequential\n",
        "from keras.layers import Dense, Dropout, Flatten\n",
        "from keras.layers import Conv2D, MaxPooling2D\n",
        "from keras import backend as K"
      ],
      "execution_count": 0,
      "outputs": []
    },
    {
      "metadata": {
        "id": "iZvThtespTpD",
        "colab_type": "code",
        "colab": {}
      },
      "cell_type": "code",
      "source": [
        "# helper parameters\n",
        "batch_size = 128\n",
        "num_classes = 10\n",
        "epochs = 20"
      ],
      "execution_count": 0,
      "outputs": []
    },
    {
      "metadata": {
        "id": "LO3GQHo9pb1W",
        "colab_type": "code",
        "colab": {}
      },
      "cell_type": "code",
      "source": [
        "# the data, split between train and test sets\n",
        "(X_train, y_train), (X_test, y_test) = cifar10.load_data()"
      ],
      "execution_count": 0,
      "outputs": []
    },
    {
      "metadata": {
        "id": "BNh48r85pp3u",
        "colab_type": "code",
        "outputId": "29521d56-8410-4b71-dbcb-c78994d657ee",
        "colab": {
          "base_uri": "https://localhost:8080/",
          "height": 35
        }
      },
      "cell_type": "code",
      "source": [
        "# image preprocessing\n",
        "X_train.shape, X_test.shape"
      ],
      "execution_count": 6,
      "outputs": [
        {
          "output_type": "execute_result",
          "data": {
            "text/plain": [
              "((50000, 32, 32, 3), (10000, 32, 32, 3))"
            ]
          },
          "metadata": {
            "tags": []
          },
          "execution_count": 6
        }
      ]
    },
    {
      "metadata": {
        "id": "tAMf0_rtrHex",
        "colab_type": "code",
        "outputId": "277c34c1-d7e2-40a0-d5a9-d8c64f91d808",
        "colab": {
          "base_uri": "https://localhost:8080/",
          "height": 69
        }
      },
      "cell_type": "code",
      "source": [
        "# image preprocessing\n",
        "print('X_train shape :', X_train.shape)\n",
        "print(X_train.shape[0], 'train samples')\n",
        "print(X_test.shape[0], 'test samples')"
      ],
      "execution_count": 7,
      "outputs": [
        {
          "output_type": "stream",
          "text": [
            "X_train shape : (50000, 32, 32, 3)\n",
            "50000 train samples\n",
            "10000 test samples\n"
          ],
          "name": "stdout"
        }
      ]
    },
    {
      "metadata": {
        "id": "qymML5odInch",
        "colab_type": "code",
        "colab": {}
      },
      "cell_type": "code",
      "source": [
        "X_train = X_train.astype('float32')\n",
        "X_test = X_test.astype('float32')\n",
        "X_train /= 255\n",
        "X_test /= 255"
      ],
      "execution_count": 0,
      "outputs": []
    },
    {
      "metadata": {
        "id": "ju3_OP2yr2eo",
        "colab_type": "code",
        "colab": {}
      },
      "cell_type": "code",
      "source": [
        "# convert class vector to binary class matrices\n",
        "y_train = keras.utils.to_categorical(y_train, num_classes)\n",
        "y_test = keras.utils.to_categorical(y_test, num_classes)"
      ],
      "execution_count": 0,
      "outputs": []
    },
    {
      "metadata": {
        "id": "ieuYKHins2TR",
        "colab_type": "code",
        "colab": {}
      },
      "cell_type": "code",
      "source": [
        "# model Bulding\n",
        "model = Sequential()"
      ],
      "execution_count": 0,
      "outputs": []
    },
    {
      "metadata": {
        "id": "sfFcFcIGs8nO",
        "colab_type": "code",
        "colab": {}
      },
      "cell_type": "code",
      "source": [
        "# add first -> Convolutional layer\n",
        "model.add(Conv2D(32, kernel_size=(3, 3),\n",
        "                 activation='relu',\n",
        "                 padding='same',\n",
        "                 input_shape=X_train.shape[1:]))"
      ],
      "execution_count": 0,
      "outputs": []
    },
    {
      "metadata": {
        "id": "-GB9kDo9ve_C",
        "colab_type": "code",
        "colab": {}
      },
      "cell_type": "code",
      "source": [
        "# add second -> Convolutional layer\n",
        "model.add(Conv2D(32, (3, 3), activation='relu'))"
      ],
      "execution_count": 0,
      "outputs": []
    },
    {
      "metadata": {
        "id": "GiryE8pcvm_c",
        "colab_type": "code",
        "colab": {}
      },
      "cell_type": "code",
      "source": [
        "# add pooling layer\n",
        "model.add(MaxPooling2D(pool_size=(2, 2)))"
      ],
      "execution_count": 0,
      "outputs": []
    },
    {
      "metadata": {
        "id": "1Xd0k9RMvzOA",
        "colab_type": "code",
        "colab": {}
      },
      "cell_type": "code",
      "source": [
        "# add dropout\n",
        "model.add(Dropout(0.25))"
      ],
      "execution_count": 0,
      "outputs": []
    },
    {
      "metadata": {
        "id": "SkCfXZK4GNIM",
        "colab_type": "code",
        "colab": {}
      },
      "cell_type": "code",
      "source": [
        "# add second -> Convolutional layer\n",
        "model.add(Conv2D(64, kernel_size=(3, 3),\n",
        "                 activation='relu',\n",
        "                 padding='same'))"
      ],
      "execution_count": 0,
      "outputs": []
    },
    {
      "metadata": {
        "id": "whWgt1IKGNcf",
        "colab_type": "code",
        "colab": {}
      },
      "cell_type": "code",
      "source": [
        "# add second -> Convolutional layer\n",
        "model.add(Conv2D(64, (3, 3), activation='relu'))"
      ],
      "execution_count": 0,
      "outputs": []
    },
    {
      "metadata": {
        "id": "lDA8N34BGOAT",
        "colab_type": "code",
        "colab": {}
      },
      "cell_type": "code",
      "source": [
        "# add pooling layer\n",
        "model.add(MaxPooling2D(pool_size=(2, 2)))"
      ],
      "execution_count": 0,
      "outputs": []
    },
    {
      "metadata": {
        "id": "TIhElR7EGOTj",
        "colab_type": "code",
        "colab": {}
      },
      "cell_type": "code",
      "source": [
        "# add dropout\n",
        "model.add(Dropout(0.25))"
      ],
      "execution_count": 0,
      "outputs": []
    },
    {
      "metadata": {
        "id": "fXNx3Xw1wBAi",
        "colab_type": "code",
        "colab": {}
      },
      "cell_type": "code",
      "source": [
        "# add Flatten layer\n",
        "model.add(Flatten())"
      ],
      "execution_count": 0,
      "outputs": []
    },
    {
      "metadata": {
        "id": "pxyagnrrwM5b",
        "colab_type": "code",
        "colab": {}
      },
      "cell_type": "code",
      "source": [
        "# add fully connected layer\n",
        "model.add(Dense(512, activation='relu'))"
      ],
      "execution_count": 0,
      "outputs": []
    },
    {
      "metadata": {
        "id": "XDAZAxh-wkDV",
        "colab_type": "code",
        "colab": {}
      },
      "cell_type": "code",
      "source": [
        "# add dropout layer\n",
        "model.add(Dropout(0.5))"
      ],
      "execution_count": 0,
      "outputs": []
    },
    {
      "metadata": {
        "id": "38UMF2gOwwA3",
        "colab_type": "code",
        "colab": {}
      },
      "cell_type": "code",
      "source": [
        "# add final layer with 'softmax'\n",
        "model.add(Dense(num_classes, activation='softmax'))"
      ],
      "execution_count": 0,
      "outputs": []
    },
    {
      "metadata": {
        "id": "XQj0YW0-w4KW",
        "colab_type": "code",
        "outputId": "85499de4-f115-4dcd-fbd2-2bf7aca07c5a",
        "colab": {
          "base_uri": "https://localhost:8080/",
          "height": 572
        }
      },
      "cell_type": "code",
      "source": [
        "print(model.summary())"
      ],
      "execution_count": 23,
      "outputs": [
        {
          "output_type": "stream",
          "text": [
            "_________________________________________________________________\n",
            "Layer (type)                 Output Shape              Param #   \n",
            "=================================================================\n",
            "conv2d_1 (Conv2D)            (None, 32, 32, 32)        896       \n",
            "_________________________________________________________________\n",
            "conv2d_2 (Conv2D)            (None, 30, 30, 32)        9248      \n",
            "_________________________________________________________________\n",
            "max_pooling2d_1 (MaxPooling2 (None, 15, 15, 32)        0         \n",
            "_________________________________________________________________\n",
            "dropout_1 (Dropout)          (None, 15, 15, 32)        0         \n",
            "_________________________________________________________________\n",
            "conv2d_3 (Conv2D)            (None, 15, 15, 64)        18496     \n",
            "_________________________________________________________________\n",
            "conv2d_4 (Conv2D)            (None, 13, 13, 64)        36928     \n",
            "_________________________________________________________________\n",
            "max_pooling2d_2 (MaxPooling2 (None, 6, 6, 64)          0         \n",
            "_________________________________________________________________\n",
            "dropout_2 (Dropout)          (None, 6, 6, 64)          0         \n",
            "_________________________________________________________________\n",
            "flatten_1 (Flatten)          (None, 2304)              0         \n",
            "_________________________________________________________________\n",
            "dense_1 (Dense)              (None, 512)               1180160   \n",
            "_________________________________________________________________\n",
            "dropout_3 (Dropout)          (None, 512)               0         \n",
            "_________________________________________________________________\n",
            "dense_2 (Dense)              (None, 10)                5130      \n",
            "=================================================================\n",
            "Total params: 1,250,858\n",
            "Trainable params: 1,250,858\n",
            "Non-trainable params: 0\n",
            "_________________________________________________________________\n",
            "None\n"
          ],
          "name": "stdout"
        }
      ]
    },
    {
      "metadata": {
        "id": "9r_3z79NxCs_",
        "colab_type": "code",
        "colab": {}
      },
      "cell_type": "code",
      "source": [
        "# model compile\n",
        "model.compile(optimizer=keras.optimizers.Adam(), \n",
        "              loss=keras.losses.categorical_crossentropy, \n",
        "              metrics=['accuracy'])"
      ],
      "execution_count": 0,
      "outputs": []
    },
    {
      "metadata": {
        "id": "pqG2EObOyFfH",
        "colab_type": "code",
        "outputId": "cf9444fe-2791-44c5-eda9-e5f32a4d8654",
        "colab": {
          "base_uri": "https://localhost:8080/",
          "height": 765
        }
      },
      "cell_type": "code",
      "source": [
        "model.fit(X_train, y_train,\n",
        "          batch_size=batch_size,\n",
        "          epochs=epochs,\n",
        "          verbose=1,\n",
        "          validation_data=(X_test, y_test))"
      ],
      "execution_count": 25,
      "outputs": [
        {
          "output_type": "stream",
          "text": [
            "Train on 50000 samples, validate on 10000 samples\n",
            "Epoch 1/20\n",
            "50000/50000 [==============================] - 14s 285us/step - loss: 1.6098 - acc: 0.4105 - val_loss: 1.2366 - val_acc: 0.5573\n",
            "Epoch 2/20\n",
            "50000/50000 [==============================] - 12s 238us/step - loss: 1.2072 - acc: 0.5671 - val_loss: 1.0066 - val_acc: 0.6474\n",
            "Epoch 3/20\n",
            "50000/50000 [==============================] - 12s 238us/step - loss: 1.0264 - acc: 0.6361 - val_loss: 0.8817 - val_acc: 0.6887\n",
            "Epoch 4/20\n",
            "50000/50000 [==============================] - 12s 238us/step - loss: 0.9126 - acc: 0.6786 - val_loss: 0.8185 - val_acc: 0.7166\n",
            "Epoch 5/20\n",
            "50000/50000 [==============================] - 12s 238us/step - loss: 0.8364 - acc: 0.7026 - val_loss: 0.7575 - val_acc: 0.7385\n",
            "Epoch 6/20\n",
            "50000/50000 [==============================] - 12s 239us/step - loss: 0.7834 - acc: 0.7268 - val_loss: 0.7291 - val_acc: 0.7464\n",
            "Epoch 7/20\n",
            "50000/50000 [==============================] - 12s 238us/step - loss: 0.7363 - acc: 0.7404 - val_loss: 0.7275 - val_acc: 0.7474\n",
            "Epoch 8/20\n",
            "50000/50000 [==============================] - 12s 238us/step - loss: 0.6926 - acc: 0.7581 - val_loss: 0.6833 - val_acc: 0.7668\n",
            "Epoch 9/20\n",
            "50000/50000 [==============================] - 12s 238us/step - loss: 0.6680 - acc: 0.7661 - val_loss: 0.6608 - val_acc: 0.7688\n",
            "Epoch 10/20\n",
            "50000/50000 [==============================] - 12s 239us/step - loss: 0.6290 - acc: 0.7786 - val_loss: 0.6572 - val_acc: 0.7755\n",
            "Epoch 11/20\n",
            "50000/50000 [==============================] - 12s 239us/step - loss: 0.6001 - acc: 0.7877 - val_loss: 0.6311 - val_acc: 0.7831\n",
            "Epoch 12/20\n",
            "50000/50000 [==============================] - 12s 239us/step - loss: 0.5836 - acc: 0.7930 - val_loss: 0.6553 - val_acc: 0.7759\n",
            "Epoch 13/20\n",
            "50000/50000 [==============================] - 12s 239us/step - loss: 0.5564 - acc: 0.8045 - val_loss: 0.6338 - val_acc: 0.7837\n",
            "Epoch 14/20\n",
            "50000/50000 [==============================] - 12s 239us/step - loss: 0.5337 - acc: 0.8108 - val_loss: 0.6152 - val_acc: 0.7913\n",
            "Epoch 15/20\n",
            "50000/50000 [==============================] - 12s 239us/step - loss: 0.5229 - acc: 0.8160 - val_loss: 0.6255 - val_acc: 0.7901\n",
            "Epoch 16/20\n",
            "50000/50000 [==============================] - 12s 239us/step - loss: 0.4976 - acc: 0.8230 - val_loss: 0.6057 - val_acc: 0.7938\n",
            "Epoch 17/20\n",
            "50000/50000 [==============================] - 12s 240us/step - loss: 0.4866 - acc: 0.8273 - val_loss: 0.6212 - val_acc: 0.7890\n",
            "Epoch 18/20\n",
            "50000/50000 [==============================] - 12s 238us/step - loss: 0.4677 - acc: 0.8325 - val_loss: 0.5914 - val_acc: 0.7972\n",
            "Epoch 19/20\n",
            "50000/50000 [==============================] - 12s 237us/step - loss: 0.4569 - acc: 0.8392 - val_loss: 0.6085 - val_acc: 0.7977\n",
            "Epoch 20/20\n",
            "50000/50000 [==============================] - 12s 238us/step - loss: 0.4498 - acc: 0.8406 - val_loss: 0.5873 - val_acc: 0.8051\n"
          ],
          "name": "stdout"
        },
        {
          "output_type": "execute_result",
          "data": {
            "text/plain": [
              "<keras.callbacks.History at 0x7ff99fc71588>"
            ]
          },
          "metadata": {
            "tags": []
          },
          "execution_count": 25
        }
      ]
    },
    {
      "metadata": {
        "id": "ue80RGLwydu4",
        "colab_type": "code",
        "colab": {}
      },
      "cell_type": "code",
      "source": [
        "# Evaluate\n",
        "score = model.evaluate(X_test, y_test, verbose=0)"
      ],
      "execution_count": 0,
      "outputs": []
    },
    {
      "metadata": {
        "id": "IMJjNI5T0wUU",
        "colab_type": "code",
        "outputId": "f529afce-9f97-40d0-94bc-019391a92db4",
        "colab": {
          "base_uri": "https://localhost:8080/",
          "height": 52
        }
      },
      "cell_type": "code",
      "source": [
        "print('Test loss:', score[0])\n",
        "print('Test accuracy:', score[1])"
      ],
      "execution_count": 27,
      "outputs": [
        {
          "output_type": "stream",
          "text": [
            "Test loss: 0.5873288926124572\n",
            "Test accuracy: 0.8051\n"
          ],
          "name": "stdout"
        }
      ]
    }
  ]
}